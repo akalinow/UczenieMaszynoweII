{
 "cells": [
  {
   "cell_type": "markdown",
   "metadata": {
    "editable": true,
    "slideshow": {
     "slide_type": "skip"
    },
    "tags": []
   },
   "source": [
    "## Inicjalizacja środowiska programistycznego"
   ]
  },
  {
   "cell_type": "code",
   "execution_count": 1,
   "metadata": {
    "editable": true,
    "slideshow": {
     "slide_type": "skip"
    },
    "tags": []
   },
   "outputs": [],
   "source": [
    "#Color printing\n",
    "from termcolor import colored\n",
    "\n",
    "#General data operations library\n",
    "import math\n",
    "import string\n",
    "from datetime import datetime\n",
    "import numpy as np\n",
    "\n",
    "#The tensorflow library\n",
    "import os\n",
    "os.environ[\"TF_CPP_MIN_LOG_LEVEL\"] = \"1\"\n",
    "import tensorflow  as tf\n",
    "\n",
    "#Plotting libraries\n",
    "import matplotlib as mpl\n",
    "import matplotlib.pyplot as plt\n",
    "\n",
    "#Increase plots font size\n",
    "params = {'legend.fontsize': 'xx-large',\n",
    "          'figure.figsize': (10, 7),\n",
    "         'axes.labelsize': 'xx-large',\n",
    "         'axes.titlesize':'xx-large',\n",
    "         'xtick.labelsize':'xx-large',\n",
    "         'ytick.labelsize':'xx-large'}\n",
    "plt.rcParams.update(params) \n",
    "\n",
    "#append path with python modules\n",
    "import importlib\n",
    "import sys\n",
    "sys.path.append(\"../modules\")\n",
    "#sys.path.append(\"/home/akalinow/scratch/Zajecia/2023-2024/Lato/Uczenie_maszynowe_2/UczenieMaszynoweII/modules\")\n",
    "\n",
    "#Private functions\n",
    "import plotting_functions as plf\n",
    "importlib.reload(plf);\n",
    "\n",
    "import emnist_functions as emnist_fcn\n",
    "importlib.reload(emnist_fcn);\n",
    "#Hide GPU\n",
    "#tf.config.set_visible_devices([], 'GPU')"
   ]
  },
  {
   "cell_type": "markdown",
   "metadata": {
    "editable": true,
    "slideshow": {
     "slide_type": "slide"
    },
    "tags": []
   },
   "source": [
    "<br/><br/>\n",
    "<br/><br/>\n",
    "\n",
    "<h1 align=\"center\">\n",
    " Uczenie maszynowe II\n",
    "</h1>\n",
    "\n",
    "<br/><br/>\n",
    "<br/><br/>\n",
    "<br/><br/>\n",
    "<br/><br/>\n",
    "\n",
    "<h1 align=\"right\">\n",
    "Artur Kalinowski <br>\n",
    "Uniwersytet Warszawski <br>\n",
    "Wydział Fizyki <br>    \n",
    "</h1>"
   ]
  },
  {
   "cell_type": "markdown",
   "metadata": {
    "editable": true,
    "slideshow": {
     "slide_type": "slide"
    },
    "tags": []
   },
   "source": [
    "Dane w postaci pary macierzy `x,y` są mało wydajne w sytuacji gdy jest ich dużo lub są rozmieszczone w wielu plikach.\n",
    "TF dostarcza dedykowaną klasę do obsługi strumienia wejścia:\n",
    "```Python\n",
    "tf.data.Dataset(variant_tensor)\n",
    "```\n",
    "\n",
    "Klasa `tf.Dataset` pozwala na zaawansowane operacje na danych. Implementacja tych operacji korzysta równoległego przetwarzania danych w celu zwiększenia przepustowości strumienia wejścia: `liczby przykładów na sekundę`.\n"
   ]
  },
  {
   "cell_type": "markdown",
   "metadata": {
    "editable": true,
    "slideshow": {
     "slide_type": "slide"
    },
    "tags": []
   },
   "source": [
    "\n",
    "Obiekt `tf.Dataset` można tworzyć na wiele sposobów:\n",
    "\n",
    "* z macierzy:\n",
    "\n",
    "```Python\n",
    "dataset = tf.data.Dataset.from_tensor_slices([1, 2, 3])\n",
    "```\n",
    "\n",
    "* z funkcji typu generator\n",
    "\n",
    "```Python\n",
    "dataset = tf.data.Dataset.from_generator(...)\n",
    "```\n",
    "\n",
    "* z pliku typu CSV\n",
    "\n",
    "```Python\n",
    "dataset = tf.data.TextLineDataset(...)\n",
    "```\n",
    "\n",
    "* z pliku zawierającego dane w dedykowanym formacie `TFRecord`\n",
    "\n",
    "```Python\n",
    "dataset = tf.data.TFRecordDataset([\"file1.tfrecords\", \"file2.tfrecords\"])\n",
    "```\n",
    "\n"
   ]
  },
  {
   "cell_type": "markdown",
   "metadata": {
    "editable": true,
    "slideshow": {
     "slide_type": "slide"
    },
    "tags": []
   },
   "source": [
    "Konstrukcja `tf.data.Dataset` z macierzy NumPy"
   ]
  },
  {
   "cell_type": "code",
   "execution_count": 2,
   "metadata": {
    "editable": true,
    "slideshow": {
     "slide_type": "fragment"
    },
    "tags": []
   },
   "outputs": [
    {
     "name": "stdout",
     "output_type": "stream",
     "text": [
      "\u001b[34mFeatures shape:\u001b[0m (5, 3)\n",
      "\u001b[34mLabels shape:\u001b[0m (5, 1)\n",
      "<_TensorSliceDataset element_spec=(TensorSpec(shape=(3,), dtype=tf.float32, name=None), TensorSpec(shape=(1,), dtype=tf.float32, name=None))>\n",
      "\u001b[34mDataset lenght:\u001b[0m 5\n"
     ]
    }
   ],
   "source": [
    "nExamples = 5\n",
    "nFeatures = 3\n",
    "epsilon = 0.01\n",
    "x = tf.random.uniform((nExamples, nFeatures), minval=-1, maxval=1, dtype=tf.float32, name=\"features\")\n",
    "y = tf.math.reduce_sum(x**2, axis=1)\n",
    "y = tf.reshape(y, (-1, 1))\n",
    "\n",
    "print(colored(\"Features shape:\", \"blue\"), x.shape)\n",
    "print(colored(\"Labels shape:\", \"blue\"), y.shape)\n",
    "\n",
    "dataset = tf.data.Dataset.from_tensor_slices((x, y))\n",
    "print(dataset)\n",
    "print(colored(\"Dataset lenght:\", \"blue\"), len(dataset))"
   ]
  },
  {
   "cell_type": "markdown",
   "metadata": {},
   "source": [
    "`tf.Dataset` zachowuje się jak kolekcja - można po niej iterować łatwo dostosowując liczbę analizowanych elementów i punkt startowy:"
   ]
  },
  {
   "cell_type": "code",
   "execution_count": 3,
   "metadata": {
    "editable": true,
    "slideshow": {
     "slide_type": "slide"
    },
    "tags": []
   },
   "outputs": [
    {
     "name": "stdout",
     "output_type": "stream",
     "text": [
      "\u001b[34mIteration over the full dataset\u001b[0m\n",
      "(<tf.Tensor: shape=(3,), dtype=float32, numpy=array([0.8185208, 0.9667666, 0.9556935], dtype=float32)>, <tf.Tensor: shape=(1,), dtype=float32, numpy=array([2.517964], dtype=float32)>)\n",
      "(<tf.Tensor: shape=(3,), dtype=float32, numpy=array([ 0.8910577 ,  0.49309015, -0.24522448], dtype=float32)>, <tf.Tensor: shape=(1,), dtype=float32, numpy=array([1.0972568], dtype=float32)>)\n",
      "(<tf.Tensor: shape=(3,), dtype=float32, numpy=array([0.30088592, 0.803627  , 0.13474774], dtype=float32)>, <tf.Tensor: shape=(1,), dtype=float32, numpy=array([0.7545057], dtype=float32)>)\n",
      "(<tf.Tensor: shape=(3,), dtype=float32, numpy=array([ 0.8022952 ,  0.21689296, -0.0390892 ], dtype=float32)>, <tf.Tensor: shape=(1,), dtype=float32, numpy=array([0.6922481], dtype=float32)>)\n",
      "(<tf.Tensor: shape=(3,), dtype=float32, numpy=array([-0.30506063,  0.18842411,  0.7110982 ], dtype=float32)>, <tf.Tensor: shape=(1,), dtype=float32, numpy=array([0.63422626], dtype=float32)>)\n",
      "\u001b[34mIteration over n elements\u001b[0m\n",
      "(<tf.Tensor: shape=(3,), dtype=float32, numpy=array([0.8185208, 0.9667666, 0.9556935], dtype=float32)>, <tf.Tensor: shape=(1,), dtype=float32, numpy=array([2.517964], dtype=float32)>)\n",
      "(<tf.Tensor: shape=(3,), dtype=float32, numpy=array([ 0.8910577 ,  0.49309015, -0.24522448], dtype=float32)>, <tf.Tensor: shape=(1,), dtype=float32, numpy=array([1.0972568], dtype=float32)>)\n",
      "(<tf.Tensor: shape=(3,), dtype=float32, numpy=array([0.30088592, 0.803627  , 0.13474774], dtype=float32)>, <tf.Tensor: shape=(1,), dtype=float32, numpy=array([0.7545057], dtype=float32)>)\n",
      "\u001b[34mIteration over n elements starting from m\u001b[0m\n",
      "(<tf.Tensor: shape=(3,), dtype=float32, numpy=array([0.30088592, 0.803627  , 0.13474774], dtype=float32)>, <tf.Tensor: shape=(1,), dtype=float32, numpy=array([0.7545057], dtype=float32)>)\n",
      "(<tf.Tensor: shape=(3,), dtype=float32, numpy=array([ 0.8022952 ,  0.21689296, -0.0390892 ], dtype=float32)>, <tf.Tensor: shape=(1,), dtype=float32, numpy=array([0.6922481], dtype=float32)>)\n",
      "(<tf.Tensor: shape=(3,), dtype=float32, numpy=array([-0.30506063,  0.18842411,  0.7110982 ], dtype=float32)>, <tf.Tensor: shape=(1,), dtype=float32, numpy=array([0.63422626], dtype=float32)>)\n"
     ]
    },
    {
     "name": "stderr",
     "output_type": "stream",
     "text": [
      "2024-04-04 09:50:22.109815: W tensorflow/core/framework/local_rendezvous.cc:404] Local rendezvous is aborting with status: OUT_OF_RANGE: End of sequence\n",
      "2024-04-04 09:50:22.115413: W tensorflow/core/framework/local_rendezvous.cc:404] Local rendezvous is aborting with status: OUT_OF_RANGE: End of sequence\n",
      "2024-04-04 09:50:22.256870: W tensorflow/core/framework/local_rendezvous.cc:404] Local rendezvous is aborting with status: OUT_OF_RANGE: End of sequence\n"
     ]
    }
   ],
   "source": [
    "print(colored(\"Iteration over the full dataset\", \"blue\"))\n",
    "for item in dataset:\n",
    "    print(item)\n",
    "\n",
    "print(colored(\"Iteration over n elements\", \"blue\"))\n",
    "n = 3\n",
    "for item in dataset.take(n):\n",
    "    print(item)\n",
    "\n",
    "print(colored(\"Iteration over n elements starting from m\", \"blue\"))\n",
    "n = 3\n",
    "m = 2\n",
    "for item in dataset.skip(m).take(n):\n",
    "    print(item)    "
   ]
  },
  {
   "cell_type": "markdown",
   "metadata": {
    "editable": true,
    "slideshow": {
     "slide_type": "slide"
    },
    "tags": []
   },
   "source": [
    "Konstrukcja `tf.Dataset` z funkcji generującej.\n",
    "\n",
    "W tym wypadku oprócz funkcji generującej musimy podać informacje o kształcie i typie danych generowanych przez funkcję:\n",
    "```Python\n",
    "dataset = tf.data.Dataset.from_generator(\n",
    "         generator,                                      # funkcja generująca\n",
    "         output_signature=(                              # opis kształtu i typu\n",
    "             (tf.TensorSpec(shape=(3), dtype=tf.float32),# danych generowanych\n",
    "             tf.TensorSpec(shape=(1), dtype=tf.int32)))  # przez funkcję\n",
    "    )\n",
    "```"
   ]
  },
  {
   "cell_type": "code",
   "execution_count": 4,
   "metadata": {
    "editable": true,
    "slideshow": {
     "slide_type": "slide"
    },
    "tags": []
   },
   "outputs": [],
   "source": [
    "#Generator function definition\n",
    "nFeatures = 3\n",
    "\n",
    "def points3DGenerator():\n",
    "    while True:\n",
    "        x = tf.random.uniform(shape=(nFeatures,), minval=0.1, maxval=1, dtype=tf.float32, name=\"features\")\n",
    "        y = tf.math.reduce_sum(x**2, axis=0)\n",
    "        y = tf.reshape(y, (1))\n",
    "        yield x,y\n",
    "\n",
    "#Dataset from generator\n",
    "dataset = tf.data.Dataset.from_generator(points3DGenerator,\n",
    "         output_signature=(\n",
    "             (tf.TensorSpec(shape=(nFeatures,), dtype=tf.float32, name=\"features\"),\n",
    "             tf.TensorSpec(shape=(1), dtype=tf.float32, name=\"labels\")))\n",
    "    )\n"
   ]
  },
  {
   "cell_type": "code",
   "execution_count": 5,
   "metadata": {
    "editable": true,
    "slideshow": {
     "slide_type": "slide"
    },
    "tags": []
   },
   "outputs": [
    {
     "name": "stdout",
     "output_type": "stream",
     "text": [
      "\u001b[34mIteration over n elements starting from m\u001b[0m\n",
      "(<tf.Tensor: shape=(3,), dtype=float32, numpy=array([0.7915454 , 0.76446   , 0.79162294], dtype=float32)>, <tf.Tensor: shape=(1,), dtype=float32, numpy=array([1.8376101], dtype=float32)>)\n",
      "(<tf.Tensor: shape=(3,), dtype=float32, numpy=array([0.2373822 , 0.9259607 , 0.15527883], dtype=float32)>, <tf.Tensor: shape=(1,), dtype=float32, numpy=array([0.9378651], dtype=float32)>)\n",
      "(<tf.Tensor: shape=(3,), dtype=float32, numpy=array([0.38022003, 0.12676361, 0.34600696], dtype=float32)>, <tf.Tensor: shape=(1,), dtype=float32, numpy=array([0.2803571], dtype=float32)>)\n"
     ]
    },
    {
     "name": "stderr",
     "output_type": "stream",
     "text": [
      "2024-04-04 09:50:22.402872: W tensorflow/core/framework/local_rendezvous.cc:404] Local rendezvous is aborting with status: OUT_OF_RANGE: End of sequence\n"
     ]
    }
   ],
   "source": [
    "print(colored(\"Iteration over n elements starting from m\", \"blue\"))\n",
    "n = 3\n",
    "m = 2\n",
    "for item in dataset.skip(m).take(n):\n",
    "    print(item) "
   ]
  },
  {
   "cell_type": "markdown",
   "metadata": {
    "editable": true,
    "slideshow": {
     "slide_type": "slide"
    },
    "tags": []
   },
   "source": [
    "Na zbiorze `tf.Dataset` można wykonywać różne operacje przekształcenia:\n",
    "\n",
    "```Python\n",
    "dataset = dataset.repeat(n) - # powtarza dane n razy\n",
    "                              # W sytuacji gdy nie podano argumentu\n",
    "                              # dane są powtarzane w nieskończoność.\n",
    "```\n",
    "\n",
    "**Uwaga:** nie trzeba używać `repeat` by uzyskać wiele epok w czasie treningu. Funkcja `model.fit(...)` \n",
    "sama zarządza wielokrotnymi przejściami przez zbiór danych\n",
    "\n",
    "```Python\n",
    "dataset = dataset.batch(n)   - # grupowanie zbioru w paczki. \n",
    "                               # W czasie treningu paczki są automatycznie \n",
    "                               # rozpoznane i nie trzeba (nie wolno) podawać \n",
    "                               # rozmiaru paczki explicite. \n",
    "```\n",
    "\n",
    "```Python\n",
    "dataset = dataset.skip(m)    - # opuszcza pierwsze m przykładów\n",
    "                              \n",
    "```\n",
    "\n",
    "```Python\n",
    "dataset = dataset.take(n)    - # ogranicza zbiór do pierwszych n przykładów\n",
    "                              \n",
    "```\n",
    "\n",
    "```Python\n",
    "dataset = dataset.skip(m).take(n)    - # opuszcza pierwsze m, i bierze \n",
    "                                       # kolejne n przykładów\n",
    "                              \n",
    "```"
   ]
  },
  {
   "cell_type": "code",
   "execution_count": 6,
   "metadata": {
    "editable": true,
    "slideshow": {
     "slide_type": "slide"
    },
    "tags": []
   },
   "outputs": [
    {
     "name": "stdout",
     "output_type": "stream",
     "text": [
      "\u001b[34mFeatures shape:\u001b[0m (2, 3)\n",
      "\u001b[34mLabels shape:\u001b[0m (2, 1)\n",
      "\u001b[34mIteration over n elements starting from m\u001b[0m\n",
      "\u001b[34m\tLabels:\u001b[0m [[0.35762605 0.7846036  0.93214524]\n",
      " [0.56599915 0.5002504  0.43229628]]\n",
      "\u001b[34m\tFeatures:\u001b[0m [[1.6123939 ]\n",
      " [0.75748557]]\n"
     ]
    },
    {
     "name": "stderr",
     "output_type": "stream",
     "text": [
      "2024-04-04 09:50:22.561823: W tensorflow/core/framework/local_rendezvous.cc:404] Local rendezvous is aborting with status: OUT_OF_RANGE: End of sequence\n"
     ]
    }
   ],
   "source": [
    "dataset_batched = dataset.batch(2)\n",
    "\n",
    "#Access a single example (batch in this case)\n",
    "it = iter(dataset_batched)\n",
    "print(colored(\"Features shape:\", \"blue\"), next(it)[0].numpy().shape)\n",
    "print(colored(\"Labels shape:\", \"blue\"), next(it)[1].numpy().shape)\n",
    "\n",
    "print(colored(\"Iteration over n elements starting from m\", \"blue\"))\n",
    "n = 1\n",
    "for item in dataset_batched.skip(m).take(n):\n",
    "    print(colored(\"\\tLabels:\",\"blue\"),item[0].numpy())\n",
    "    print(colored(\"\\tFeatures:\",\"blue\"),item[1].numpy())"
   ]
  },
  {
   "cell_type": "markdown",
   "metadata": {
    "editable": true,
    "slideshow": {
     "slide_type": "slide"
    },
    "tags": []
   },
   "source": [
    "Zbiór danych można poddać też ogólnej transformacji zmieniającej zawartość poszczególnych wierszy:\n",
    "```Python\n",
    "dataset_transformed = dataset.map(func) # func to funkcja przyjmująca dany wiersz i zwracająca nowy\n",
    "```"
   ]
  },
  {
   "cell_type": "code",
   "execution_count": 7,
   "metadata": {
    "editable": true,
    "slideshow": {
     "slide_type": "slide"
    },
    "tags": []
   },
   "outputs": [
    {
     "name": "stdout",
     "output_type": "stream",
     "text": [
      "\u001b[34mIteration over original dataset\u001b[0m\n",
      "\u001b[34m\tLabels:\u001b[0m [0.34646636 0.34010264 0.81056136]\n",
      "\u001b[34m\tFeatures:\u001b[0m [0.89271843]\n",
      "\u001b[34mIteration over transformed dataset\u001b[0m\n",
      "\u001b[34m\tLabels:\u001b[0m [0.558791   0.09244452 0.15289152]\n",
      "\u001b[34m\tFeatures:\u001b[0m [0.80412704]\n"
     ]
    },
    {
     "name": "stderr",
     "output_type": "stream",
     "text": [
      "2024-04-04 09:50:22.614295: W tensorflow/core/framework/local_rendezvous.cc:404] Local rendezvous is aborting with status: OUT_OF_RANGE: End of sequence\n",
      "2024-04-04 09:50:22.668474: W tensorflow/core/framework/local_rendezvous.cc:404] Local rendezvous is aborting with status: OUT_OF_RANGE: End of sequence\n"
     ]
    }
   ],
   "source": [
    "def func(features, label):\n",
    "    return features**2, label\n",
    "\n",
    "dataset_transformed = dataset.map(func)\n",
    "\n",
    "print(colored(\"Iteration over original dataset\", \"blue\"))\n",
    "for item in dataset.skip(m).take(n):\n",
    "    print(colored(\"\\tLabels:\",\"blue\"),item[0].numpy())\n",
    "    print(colored(\"\\tFeatures:\",\"blue\"),item[1].numpy())\n",
    "\n",
    "print(colored(\"Iteration over transformed dataset\", \"blue\"))\n",
    "for item in dataset_transformed.skip(m).take(n):\n",
    "    print(colored(\"\\tLabels:\",\"blue\"),item[0].numpy())\n",
    "    print(colored(\"\\tFeatures:\",\"blue\"),item[1].numpy())"
   ]
  },
  {
   "cell_type": "markdown",
   "metadata": {
    "editable": true,
    "slideshow": {
     "slide_type": "slide"
    },
    "tags": []
   },
   "source": [
    "**Proszę:**\n",
    "\n",
    "* skopiować funkcję `discGenerator` z poprzednich zajęć\n",
    "* stworzyć zbiór `tf.Dataset` obrazów kół korzystając bezpośrednio z generatora. Proszę przyjąć rozdzielczość 256 $\\times$ 256"
   ]
  },
  {
   "cell_type": "code",
   "execution_count": 8,
   "metadata": {
    "editable": true,
    "slideshow": {
     "slide_type": "slide"
    },
    "tags": []
   },
   "outputs": [
    {
     "name": "stdout",
     "output_type": "stream",
     "text": [
      "\u001b[34mFeatures shape:\u001b[0m (3,)\n",
      "\u001b[34mLabels shape:\u001b[0m (256, 256, 1)\n"
     ]
    }
   ],
   "source": [
    "#BEGIN_SOLUTION\n",
    "res = 256\n",
    "\n",
    "def discGenerator():\n",
    "\n",
    "    from skimage.draw import disk\n",
    "    while True:\n",
    "        center = tf.random.uniform([2], minval=0, maxval = res, dtype=tf.int32, name='center')\n",
    "        radius = tf.random.uniform([1], minval=5, maxval = res//2, dtype=tf.int32, name='radius')        \n",
    "        shape = (res, res)\n",
    "        image = np.full(shape, 0)\n",
    "        yy, xx = disk(center=center.numpy(), radius=radius.numpy()[0], shape=shape)\n",
    "        image[xx,yy] = 1\n",
    "        features = tf.concat(values=(center, radius), axis=0 )\n",
    "        label = tf.constant(image, dtype=tf.int32, name='image')\n",
    "        label = tf.reshape(label, (res, res, 1))\n",
    "        yield  features, label\n",
    "\n",
    "dataset = tf.data.Dataset.from_generator(discGenerator,\n",
    "         output_signature=(\n",
    "             (tf.TensorSpec(shape=(3), dtype=tf.int32),\n",
    "             tf.TensorSpec(shape=(res,res,1), dtype=tf.int32)))\n",
    "    )\n",
    "#END_SOLUTION\n",
    "\n",
    "item = next(iter(dataset))\n",
    "print(colored(\"Features shape:\", \"blue\"), item[0].shape)\n",
    "print(colored(\"Labels shape:\", \"blue\"), item[1].shape)"
   ]
  },
  {
   "cell_type": "markdown",
   "metadata": {
    "editable": true,
    "slideshow": {
     "slide_type": "slide"
    },
    "tags": []
   },
   "source": [
    "**Proszę:**\n",
    "\n",
    "* napisać funkcję `reading_benchmark(dataset)` która przyjmuje zbiór danych, iteruje po całym zbiorze i oblicza i \n",
    "   wypisuje na ekran swój czas wykonania\n",
    "* w iteracjach po elementach zbioru proszę wstawić krótki postój:\n",
    "```Python\n",
    "time.sleep(1E-10)\n",
    "```\n",
    "* proszę wywołać funkcję na zbiorze który ma $10^{4}$ elementów i zarejestrować czas przebiegu po zbiorze"
   ]
  },
  {
   "cell_type": "code",
   "execution_count": 9,
   "metadata": {
    "editable": true,
    "slideshow": {
     "slide_type": "slide"
    },
    "tags": []
   },
   "outputs": [
    {
     "name": "stdout",
     "output_type": "stream",
     "text": [
      "Execution time: 12.70 s\n"
     ]
    },
    {
     "name": "stderr",
     "output_type": "stream",
     "text": [
      "2024-04-04 09:50:35.502076: W tensorflow/core/framework/local_rendezvous.cc:404] Local rendezvous is aborting with status: OUT_OF_RANGE: End of sequence\n"
     ]
    }
   ],
   "source": [
    "import time\n",
    "\n",
    "def reading_benchmark(dataset):\n",
    "#BEGIN_SOLUTION \n",
    "    start_time = time.perf_counter()\n",
    "    for sample in dataset:\n",
    "        # Performing a training step\n",
    "        time.sleep(1E-10)\n",
    "    tf.print(\"Execution time: {:3.2f} s\".format(time.perf_counter() - start_time))\n",
    "\n",
    "\n",
    "reading_benchmark(dataset.take(int(1E4)))    \n",
    "#END_SOLUTION    "
   ]
  },
  {
   "cell_type": "markdown",
   "metadata": {
    "editable": true,
    "slideshow": {
     "slide_type": "slide"
    },
    "tags": []
   },
   "source": [
    "Generacja danych za każdym razem kiedy jest wywoływana iteracja po zbiorze jest kosztowana - \n",
    "lepiej wygenerować dane raz i je zapisać w pamięci podręcznej. To samo dotyczy zbiorów czytanych z dysku i \n",
    "poddawanych kosztownym operacjom przekształcania. Zapisywanie zbioru w tymczasowym pliku można uzyskać przez metodę `cache`:\n",
    "```Python\n",
    "dataset_cached = dataset.cache()\n",
    "```"
   ]
  },
  {
   "cell_type": "markdown",
   "metadata": {
    "editable": true,
    "slideshow": {
     "slide_type": "slide"
    },
    "tags": []
   },
   "source": [
    "**Proszę:**\n",
    "\n",
    "* wywołać dwa razy funkcję `reading_benchmark` na zbiorze `dataset_cached`\n",
    "* czy jest jakaś różnica w czasie wykonania?\n",
    "* jeśli tak, to skąd się ona bierze?"
   ]
  },
  {
   "cell_type": "code",
   "execution_count": 10,
   "metadata": {
    "editable": true,
    "slideshow": {
     "slide_type": "slide"
    },
    "tags": []
   },
   "outputs": [
    {
     "name": "stdout",
     "output_type": "stream",
     "text": [
      "\u001b[34mFirst pass\u001b[0m\n",
      "Execution time: 13.64 s\n"
     ]
    },
    {
     "name": "stderr",
     "output_type": "stream",
     "text": [
      "2024-04-04 09:50:49.195460: W tensorflow/core/framework/local_rendezvous.cc:404] Local rendezvous is aborting with status: OUT_OF_RANGE: End of sequence\n"
     ]
    },
    {
     "name": "stdout",
     "output_type": "stream",
     "text": [
      "\u001b[34mSecond pass\u001b[0m\n",
      "Execution time: 1.94 s\n"
     ]
    },
    {
     "name": "stderr",
     "output_type": "stream",
     "text": [
      "2024-04-04 09:50:51.139622: W tensorflow/core/framework/local_rendezvous.cc:404] Local rendezvous is aborting with status: OUT_OF_RANGE: End of sequence\n"
     ]
    }
   ],
   "source": [
    "#BEGIN_SOLUTION\n",
    "dataset_cached = dataset.take(int(1E4)).cache()\n",
    "\n",
    "print(colored(\"First pass\", \"blue\"))\n",
    "reading_benchmark(dataset_cached)\n",
    "print(colored(\"Second pass\", \"blue\"))\n",
    "reading_benchmark(dataset_cached)\n",
    "#END_SOLUTION"
   ]
  },
  {
   "cell_type": "markdown",
   "metadata": {
    "editable": true,
    "slideshow": {
     "slide_type": "slide"
    },
    "tags": []
   },
   "source": [
    "Każdy wiersz danych w postaci `tf.Dataset` powinien zawierać cechy i etykiety by można go było przekazać do funkcji trenującej model:\n",
    "```Python\n",
    "model.fit(dataset, ...)  #Podajemy tylko tf.Dataset. \n",
    "                         #Metoda model.fit(...) sama rozkłada każdy wiersz na cechy i etykiety\n",
    "```\n",
    "\n",
    "Jeśli `tf.Dataset` pochodzi z generatora, jako dane walidacyjne najlepiej podać nowy zbiór. \n",
    "W tej sytuacji trzeba także podać liczbę przykładów dla obu zbiorów:\n",
    "\n",
    "```Python\n",
    "model.fit(dataset.batch(batchSize).take(nStepsPerEpoch),\n",
    "          epochs=nEpochs, \n",
    "          validation_data=dataset.batch(batchSize).map(mapFunc).take(100))\n",
    "```"
   ]
  },
  {
   "cell_type": "markdown",
   "metadata": {
    "editable": true,
    "slideshow": {
     "slide_type": "slide"
    },
    "tags": []
   },
   "source": [
    "**Proszę:**\n",
    "\n",
    "* wytrenować **minimalny** model obliczający kwadrat odległości punktu od środka układu współrzędnych\n",
    "* jako zbiorów uczacego, walidacyjnego i testowego proszę użyć obiektów `tf.Dataset` wypełnionych z użyciem generatora `points3DGenerator(...)`\n",
    "* użyć funkcji przekształcającej etykietę do wymaganej postaci\n",
    "* przyjąć następujące parametry treningu:\n",
    "```Python\n",
    "nEpochs = 5\n",
    "nStepsPerEpoch = 4096\n",
    "batchSize = 32\n",
    "initial_learning_rate = 5E-2\n",
    "```\n",
    "* narysować historię treningu\n",
    "* obliczyć ułamek przykładów ze zbioru testowego dla którego wynik modelu różni się od etykiety o nie więcej niż 1%\n",
    "\n",
    "**Wskazówka:**\n",
    "wartości etykiet można wydobyć w następujący (suboptymalny) sposób:\n",
    "```Python\n",
    "y = np.array([y.numpy() for x,y in dataset_test.unbatch()])\n",
    "```\n",
    "\n",
    "**Uwaga:** trening powinien zająć około 3'\n",
    "\n",
    "Czy wynik na zbiorze testowym jest zgodny z oczekiwaniem?"
   ]
  },
  {
   "cell_type": "code",
   "execution_count": 11,
   "metadata": {
    "editable": true,
    "slideshow": {
     "slide_type": "slide"
    },
    "tags": []
   },
   "outputs": [
    {
     "name": "stdout",
     "output_type": "stream",
     "text": [
      "Epoch 1/5\n"
     ]
    },
    {
     "name": "stderr",
     "output_type": "stream",
     "text": [
      "WARNING: All log messages before absl::InitializeLog() is called are written to STDERR\n",
      "I0000 00:00:1712224262.455227  274612 service.cc:145] XLA service 0x7efe60006080 initialized for platform CUDA (this does not guarantee that XLA will be used). Devices:\n",
      "I0000 00:00:1712224262.455245  274612 service.cc:153]   StreamExecutor device (0): NVIDIA GeForce RTX 3060, Compute Capability 8.6\n",
      "I0000 00:00:1712224262.455246  274612 service.cc:153]   StreamExecutor device (1): NVIDIA GeForce RTX 2070 SUPER, Compute Capability 7.5\n"
     ]
    },
    {
     "name": "stdout",
     "output_type": "stream",
     "text": [
      "      9/Unknown \u001b[1m12s\u001b[0m 20ms/step - loss: 65.4372"
     ]
    },
    {
     "name": "stderr",
     "output_type": "stream",
     "text": [
      "I0000 00:00:1712224262.683897  274612 device_compiler.h:188] Compiled cluster using XLA!  This line is logged at most once for the lifetime of the process.\n"
     ]
    },
    {
     "name": "stdout",
     "output_type": "stream",
     "text": [
      "   3840/Unknown \u001b[1m181s\u001b[0m 44ms/step - loss: 2.5209"
     ]
    },
    {
     "name": "stderr",
     "output_type": "stream",
     "text": [
      "2024-04-04 09:53:51.808446: W tensorflow/core/framework/local_rendezvous.cc:404] Local rendezvous is aborting with status: OUT_OF_RANGE: End of sequence\n",
      "\t [[{{node IteratorGetNext}}]]\n",
      "2024-04-04 09:53:51.808474: W tensorflow/core/framework/local_rendezvous.cc:404] Local rendezvous is aborting with status: OUT_OF_RANGE: End of sequence\n",
      "\t [[{{node IteratorGetNext}}]]\n",
      "\t [[IteratorGetNext/_4]]\n",
      "/usr/lib/python3.11/contextlib.py:155: UserWarning: Your input ran out of data; interrupting training. Make sure that your dataset or generator can generate at least `steps_per_epoch * epochs` batches. You may need to use the `.repeat()` function when building your dataset.\n",
      "  self.gen.throw(typ, value, traceback)\n"
     ]
    },
    {
     "name": "stdout",
     "output_type": "stream",
     "text": [
      "\u001b[1m3840/3840\u001b[0m \u001b[32m━━━━━━━━━━━━━━━━━━━━\u001b[0m\u001b[37m\u001b[0m \u001b[1m181s\u001b[0m 44ms/step - loss: 2.5205 - val_loss: 0.9203\n",
      "Epoch 2/5\n",
      "\u001b[1m 322/3840\u001b[0m \u001b[32m━\u001b[0m\u001b[37m━━━━━━━━━━━━━━━━━━━\u001b[0m \u001b[1m1s\u001b[0m 469us/step - loss: 0.6643"
     ]
    },
    {
     "name": "stderr",
     "output_type": "stream",
     "text": [
      "2024-04-04 09:53:52.109187: W tensorflow/core/framework/local_rendezvous.cc:404] Local rendezvous is aborting with status: OUT_OF_RANGE: End of sequence\n",
      "\t [[{{node IteratorGetNext}}]]\n",
      "2024-04-04 09:53:52.109214: W tensorflow/core/framework/local_rendezvous.cc:404] Local rendezvous is aborting with status: OUT_OF_RANGE: End of sequence\n",
      "\t [[{{node IteratorGetNext}}]]\n",
      "\t [[IteratorGetNext/_4]]\n"
     ]
    },
    {
     "name": "stdout",
     "output_type": "stream",
     "text": [
      "\u001b[1m3840/3840\u001b[0m \u001b[32m━━━━━━━━━━━━━━━━━━━━\u001b[0m\u001b[37m\u001b[0m \u001b[1m2s\u001b[0m 495us/step - loss: 0.8262 - val_loss: 0.8745\n",
      "Epoch 3/5\n",
      "\u001b[1m 112/3840\u001b[0m \u001b[37m━━━━━━━━━━━━━━━━━━━━\u001b[0m \u001b[1m1s\u001b[0m 453us/step - loss: 0.7742"
     ]
    },
    {
     "name": "stderr",
     "output_type": "stream",
     "text": [
      "2024-04-04 09:53:53.890715: W tensorflow/core/framework/local_rendezvous.cc:404] Local rendezvous is aborting with status: OUT_OF_RANGE: End of sequence\n",
      "\t [[{{node IteratorGetNext}}]]\n",
      "2024-04-04 09:53:53.890737: W tensorflow/core/framework/local_rendezvous.cc:404] Local rendezvous is aborting with status: OUT_OF_RANGE: End of sequence\n",
      "\t [[{{node IteratorGetNext}}]]\n",
      "\t [[IteratorGetNext/_4]]\n",
      "2024-04-04 09:53:54.015490: W tensorflow/core/framework/local_rendezvous.cc:404] Local rendezvous is aborting with status: OUT_OF_RANGE: End of sequence\n",
      "\t [[{{node IteratorGetNext}}]]\n",
      "2024-04-04 09:53:54.015514: W tensorflow/core/framework/local_rendezvous.cc:404] Local rendezvous is aborting with status: OUT_OF_RANGE: End of sequence\n",
      "\t [[{{node IteratorGetNext}}]]\n",
      "\t [[IteratorGetNext/_4]]\n"
     ]
    },
    {
     "name": "stdout",
     "output_type": "stream",
     "text": [
      "\u001b[1m3840/3840\u001b[0m \u001b[32m━━━━━━━━━━━━━━━━━━━━\u001b[0m\u001b[37m\u001b[0m \u001b[1m2s\u001b[0m 477us/step - loss: 0.8694 - val_loss: 0.6791\n",
      "Epoch 4/5\n",
      "\u001b[1m  98/3840\u001b[0m \u001b[37m━━━━━━━━━━━━━━━━━━━━\u001b[0m \u001b[1m1s\u001b[0m 520us/step - loss: 0.8599"
     ]
    },
    {
     "name": "stderr",
     "output_type": "stream",
     "text": [
      "2024-04-04 09:53:55.728266: W tensorflow/core/framework/local_rendezvous.cc:404] Local rendezvous is aborting with status: OUT_OF_RANGE: End of sequence\n",
      "\t [[{{node IteratorGetNext}}]]\n",
      "2024-04-04 09:53:55.728287: W tensorflow/core/framework/local_rendezvous.cc:404] Local rendezvous is aborting with status: OUT_OF_RANGE: End of sequence\n",
      "\t [[{{node IteratorGetNext}}]]\n",
      "\t [[IteratorGetNext/_4]]\n",
      "2024-04-04 09:53:55.849542: W tensorflow/core/framework/local_rendezvous.cc:404] Local rendezvous is aborting with status: OUT_OF_RANGE: End of sequence\n",
      "\t [[{{node IteratorGetNext}}]]\n",
      "2024-04-04 09:53:55.849563: W tensorflow/core/framework/local_rendezvous.cc:404] Local rendezvous is aborting with status: OUT_OF_RANGE: End of sequence\n",
      "\t [[{{node IteratorGetNext}}]]\n",
      "\t [[IteratorGetNext/_4]]\n"
     ]
    },
    {
     "name": "stdout",
     "output_type": "stream",
     "text": [
      "\u001b[1m3840/3840\u001b[0m \u001b[32m━━━━━━━━━━━━━━━━━━━━\u001b[0m\u001b[37m\u001b[0m \u001b[1m2s\u001b[0m 505us/step - loss: 0.8272 - val_loss: 1.0329\n",
      "Epoch 5/5\n",
      "\u001b[1m  94/3840\u001b[0m \u001b[37m━━━━━━━━━━━━━━━━━━━━\u001b[0m \u001b[1m2s\u001b[0m 544us/step - loss: 0.6508"
     ]
    },
    {
     "name": "stderr",
     "output_type": "stream",
     "text": [
      "2024-04-04 09:53:57.684447: W tensorflow/core/framework/local_rendezvous.cc:404] Local rendezvous is aborting with status: OUT_OF_RANGE: End of sequence\n",
      "\t [[{{node IteratorGetNext}}]]\n",
      "2024-04-04 09:53:57.684470: W tensorflow/core/framework/local_rendezvous.cc:404] Local rendezvous is aborting with status: OUT_OF_RANGE: End of sequence\n",
      "\t [[{{node IteratorGetNext}}]]\n",
      "\t [[IteratorGetNext/_4]]\n",
      "2024-04-04 09:53:57.791595: W tensorflow/core/framework/local_rendezvous.cc:404] Local rendezvous is aborting with status: OUT_OF_RANGE: End of sequence\n",
      "\t [[{{node IteratorGetNext}}]]\n",
      "2024-04-04 09:53:57.791618: W tensorflow/core/framework/local_rendezvous.cc:404] Local rendezvous is aborting with status: OUT_OF_RANGE: End of sequence\n",
      "\t [[{{node IteratorGetNext}}]]\n",
      "\t [[IteratorGetNext/_4]]\n"
     ]
    },
    {
     "name": "stdout",
     "output_type": "stream",
     "text": [
      "\u001b[1m3840/3840\u001b[0m \u001b[32m━━━━━━━━━━━━━━━━━━━━\u001b[0m\u001b[37m\u001b[0m \u001b[1m2s\u001b[0m 517us/step - loss: 0.8000 - val_loss: 0.2284\n",
      "\u001b[1m16/16\u001b[0m \u001b[32m━━━━━━━━━━━━━━━━━━━━\u001b[0m\u001b[37m\u001b[0m \u001b[1m0s\u001b[0m 719us/step - loss: 0.2705\n"
     ]
    },
    {
     "name": "stderr",
     "output_type": "stream",
     "text": [
      "2024-04-04 09:53:59.664393: W tensorflow/core/framework/local_rendezvous.cc:404] Local rendezvous is aborting with status: OUT_OF_RANGE: End of sequence\n",
      "\t [[{{node IteratorGetNext}}]]\n",
      "2024-04-04 09:53:59.664416: W tensorflow/core/framework/local_rendezvous.cc:404] Local rendezvous is aborting with status: OUT_OF_RANGE: End of sequence\n",
      "\t [[{{node IteratorGetNext}}]]\n",
      "\t [[IteratorGetNext/_4]]\n",
      "2024-04-04 09:53:59.781988: W tensorflow/core/framework/local_rendezvous.cc:404] Local rendezvous is aborting with status: OUT_OF_RANGE: End of sequence\n",
      "\t [[{{node IteratorGetNext}}]]\n",
      "2024-04-04 09:53:59.782011: W tensorflow/core/framework/local_rendezvous.cc:404] Local rendezvous is aborting with status: OUT_OF_RANGE: End of sequence\n",
      "\t [[{{node IteratorGetNext}}]]\n",
      "\t [[IteratorGetNext/_4]]\n",
      "2024-04-04 09:53:59.803745: W tensorflow/core/framework/local_rendezvous.cc:404] Local rendezvous is aborting with status: OUT_OF_RANGE: End of sequence\n",
      "\t [[{{node IteratorGetNext}}]]\n",
      "2024-04-04 09:53:59.803768: W tensorflow/core/framework/local_rendezvous.cc:404] Local rendezvous is aborting with status: OUT_OF_RANGE: End of sequence\n",
      "\t [[{{node IteratorGetNext}}]]\n",
      "\t [[IteratorGetNext/_4]]\n"
     ]
    },
    {
     "name": "stdout",
     "output_type": "stream",
     "text": [
      "\u001b[34mModel weights:\u001b[0m\n",
      "\u001b[34moutput:\u001b[0m [1.0016797 1.0011911 1.0053968]\n",
      "\u001b[1m16/16\u001b[0m \u001b[32m━━━━━━━━━━━━━━━━━━━━\u001b[0m\u001b[37m\u001b[0m \u001b[1m3s\u001b[0m 194ms/step\n"
     ]
    },
    {
     "name": "stderr",
     "output_type": "stream",
     "text": [
      "2024-04-04 09:54:03.224383: W tensorflow/core/framework/local_rendezvous.cc:404] Local rendezvous is aborting with status: OUT_OF_RANGE: End of sequence\n"
     ]
    },
    {
     "name": "stdout",
     "output_type": "stream",
     "text": [
      "\u001b[34mFraction of examples with abs(pull)<0.01:\u001b[0m 0.01\n",
      "\u001b[34mPull standard deviation:\u001b[0m 1.47\n",
      "CPU times: user 3min 13s, sys: 9.93 s, total: 3min 23s\n",
      "Wall time: 3min 15s\n"
     ]
    },
    {
     "name": "stderr",
     "output_type": "stream",
     "text": [
      "2024-04-04 09:54:06.314091: W tensorflow/core/framework/local_rendezvous.cc:404] Local rendezvous is aborting with status: OUT_OF_RANGE: End of sequence\n"
     ]
    },
    {
     "data": {
      "image/png": "[encoded data removed]",
      "text/plain": [
       "<Figure size 700x300 with 2 Axes>"
      ]
     },
     "metadata": {},
     "output_type": "display_data"
    }
   ],
   "source": [
    "%%time\n",
    "#Dataset from generator\n",
    "##BEGIN_SOLUTION\n",
    "dataset = tf.data.Dataset.from_generator(points3DGenerator,\n",
    "         output_signature=(\n",
    "             (tf.TensorSpec(shape=(nFeatures,), dtype=tf.float32, name=\"features\"),\n",
    "             tf.TensorSpec(shape=(1), dtype=tf.float32, name=\"labels\")))\n",
    "    )\n",
    "##END_SOLUTION\n",
    "\n",
    "#Model definition\n",
    "#BEGIN_SOLUTION\n",
    "def getModel(inputShape, nNeurons, hiddenActivation=\"relu\", outputActivation=\"linear\", nOutputNeurons=1):\n",
    "   \n",
    "    inputs = tf.keras.Input(shape=inputShape, name=\"features\")\n",
    "    x = inputs\n",
    "    \n",
    "    for iLayer, n in enumerate(nNeurons):\n",
    "        x = tf.keras.layers.Dense(n, activation=hiddenActivation, \n",
    "                                  kernel_initializer='glorot_uniform',\n",
    "                                  bias_initializer=tf.keras.initializers.RandomUniform(minval=-1, maxval=1),\n",
    "                                  kernel_regularizer=tf.keras.regularizers.L2(l2=0.001),\n",
    "                                  name=\"layer_\"+str(iLayer))(x)\n",
    "                \n",
    "    outputs = tf.keras.layers.Dense(nOutputNeurons, activation=outputActivation, name = \"output\")(x)   \n",
    "    model = tf.keras.Model(inputs=inputs, outputs=outputs, name=\"DNN\")\n",
    "    return model\n",
    "#END_SOLUTION\n",
    "#################\n",
    "#Model training\n",
    "#BEGIN_SOLUTION\n",
    "nEpochs = 5\n",
    "nStepsPerEpoch = 4096\n",
    "batchSize = 64\n",
    "\n",
    "initial_learning_rate = 5E-2\n",
    "lr_schedule = tf.keras.optimizers.schedules.ExponentialDecay(initial_learning_rate,\n",
    "                decay_steps=nStepsPerEpoch*3,\n",
    "                decay_rate=0.95,\n",
    "                staircase=True)\n",
    "\n",
    "model = getModel(inputShape=(nFeatures,), nNeurons = np.array([]), \n",
    "                 hiddenActivation=\"relu\", \n",
    "                 outputActivation=\"linear\", \n",
    "                 nOutputNeurons=1)\n",
    "model.compile(optimizer=tf.keras.optimizers.Adam(learning_rate=lr_schedule),\n",
    "            loss=tf.keras.losses.MeanAbsolutePercentageError(),\n",
    "            metrics=[])\n",
    "\n",
    "early_stop_callback = tf.keras.callbacks.EarlyStopping(monitor='loss', patience=5, verbose=1, min_delta=1E-3)\n",
    "callbacks = [early_stop_callback]\n",
    "    \n",
    "dataset_cached = dataset.batch(batchSize).map(func).take(nStepsPerEpoch).cache()\n",
    "history = model.fit(dataset_cached.skip(batchSize*4),\n",
    "                    epochs=nEpochs, \n",
    "                    validation_data=dataset_cached.take(batchSize*4),\n",
    "                    callbacks=callbacks,\n",
    "                    verbose=1)\n",
    "\n",
    "model.evaluate(dataset_cached.take(16))\n",
    "plf.plotTrainHistory(history)\n",
    "\n",
    "print(colored(\"Model weights:\",\"blue\"))\n",
    "print(colored(\"output:\",\"blue\"), model.get_layer('output').weights[0].numpy()[:,0])\n",
    "#END_SOLUTION\n",
    "#################\n",
    "#Model evaluation\n",
    "dataset_test = dataset.batch(128).map(func).take(16)\n",
    "y_pred = model.predict(dataset_test)\n",
    "y = np.array([y.numpy() for x,y in dataset_test.unbatch()])\n",
    "\n",
    "pull = (y_pred - y)/y\n",
    "pull = pull.flatten()\n",
    "threshold = 1E-2\n",
    "\n",
    "print(colored(\"Fraction of examples with abs(pull)<0.01:\",\"blue\"),\"{:3.2f}\".format(np.mean(np.abs(pull)<threshold)))\n",
    "print(colored(\"Pull standard deviation:\",\"blue\"),\"{:3.2f}\".format(pull.std()))"
   ]
  },
  {
   "cell_type": "markdown",
   "metadata": {
    "editable": true,
    "slideshow": {
     "slide_type": "slide"
    },
    "tags": []
   },
   "source": [
    "**Proszę:**\n",
    "\n",
    "* rozwiązać problem z różnicą wyników na zbiorach treningowym i testowym\n",
    "* narysować histogram różnicy względnej:\n",
    "\n",
    "$$\n",
    "{\\huge\n",
    "\\mathrm{pull} = \\frac{\\mathrm{model} - \\mathrm{true}}{\\mathrm{true}}\n",
    "}\n",
    "$$"
   ]
  },
  {
   "cell_type": "code",
   "execution_count": 19,
   "metadata": {
    "editable": true,
    "slideshow": {
     "slide_type": "slide"
    },
    "tags": []
   },
   "outputs": [
    {
     "name": "stdout",
     "output_type": "stream",
     "text": [
      "\u001b[1m32/32\u001b[0m \u001b[32m━━━━━━━━━━━━━━━━━━━━\u001b[0m\u001b[37m\u001b[0m \u001b[1m4s\u001b[0m 125ms/step\n"
     ]
    },
    {
     "name": "stderr",
     "output_type": "stream",
     "text": [
      "2024-04-04 10:17:08.041066: W tensorflow/core/framework/local_rendezvous.cc:404] Local rendezvous is aborting with status: OUT_OF_RANGE: End of sequence\n"
     ]
    },
    {
     "name": "stdout",
     "output_type": "stream",
     "text": [
      "\u001b[1m32/32\u001b[0m \u001b[32m━━━━━━━━━━━━━━━━━━━━\u001b[0m\u001b[37m\u001b[0m \u001b[1m0s\u001b[0m 651us/step - loss: 0.2240\n"
     ]
    },
    {
     "name": "stderr",
     "output_type": "stream",
     "text": [
      "2024-04-04 10:17:08.612875: W tensorflow/core/framework/local_rendezvous.cc:404] Local rendezvous is aborting with status: OUT_OF_RANGE: End of sequence\n",
      "2024-04-04 10:17:08.682753: W tensorflow/core/framework/local_rendezvous.cc:404] Local rendezvous is aborting with status: OUT_OF_RANGE: End of sequence\n",
      "\t [[{{node IteratorGetNext}}]]\n",
      "2024-04-04 10:17:08.682776: W tensorflow/core/framework/local_rendezvous.cc:404] Local rendezvous is aborting with status: OUT_OF_RANGE: End of sequence\n",
      "\t [[{{node IteratorGetNext}}]]\n",
      "\t [[IteratorGetNext/_4]]\n"
     ]
    },
    {
     "name": "stdout",
     "output_type": "stream",
     "text": [
      "\u001b[34mFraction of examples with abs(pull)<0.01:\u001b[0m 0.9666\n",
      "\u001b[34mPull standard deviation:\u001b[0m 0.0041\n"
     ]
    },
    {
     "data": {
      "image/png": "[encoded data removed]",
      "text/plain": [
       "<Figure size 500x500 with 1 Axes>"
      ]
     },
     "metadata": {},
     "output_type": "display_data"
    }
   ],
   "source": [
    "#BEGIN_SOLUTION\n",
    "dataset_test = dataset.batch(128).map(func).take(32).cache()\n",
    "y_pred = model.predict(dataset_test)\n",
    "y = np.array([y.numpy() for x,y in dataset_test.unbatch()])\n",
    "\n",
    "pull = (y_pred - y)/y\n",
    "pull = pull.flatten()\n",
    "threshold = 1E-2\n",
    "\n",
    "fig, axis = plt.subplots(1,1, figsize=(5, 5))\n",
    "axis.hist(pull, bins=100, range=(-0.01, 0.01), color='b', alpha=0.7, label='Pull');\n",
    "axis.set_xlabel(r'$\\frac{model-true}{true}$')\n",
    "axis.set_ylabel('Counts')\n",
    "model.evaluate(dataset_test)\n",
    "print(colored(\"Fraction of examples with abs(pull)<0.01:\",\"blue\"),\"{:3.4f}\".format(np.mean(np.abs(pull)<threshold)))\n",
    "print(colored(\"Pull standard deviation:\",\"blue\"),\"{:3.4f}\".format(pull.std()))\n",
    "#END_SOLUTION"
   ]
  },
  {
   "cell_type": "markdown",
   "metadata": {
    "editable": true,
    "slideshow": {
     "slide_type": "slide"
    },
    "tags": []
   },
   "source": [
    "## Zbiory danych w TensorFlow datasets\n",
    "\n",
    "Środowisko TensorFlow dostarcza wygodnego iterfejsu użytkownika do dostępu do publicznych zbiorów danych (podobnie jak inne pakiety):\n",
    "[TensorFlow Datasets](https://www.tensorflow.org/datasets).\n"
   ]
  },
  {
   "cell_type": "code",
   "execution_count": 21,
   "metadata": {
    "editable": true,
    "slideshow": {
     "slide_type": "slide"
    },
    "tags": []
   },
   "outputs": [
    {
     "name": "stdout",
     "output_type": "stream",
     "text": [
      "\u001b[1mDownloading and preparing dataset 11.06 MiB (download: 11.06 MiB, generated: 21.00 MiB, total: 32.06 MiB) to ../../data/tensorflow_datasets/mnist/3.0.1...\u001b[0m\n"
     ]
    },
    {
     "data": {
      "application/vnd.jupyter.widget-view+json": {
       "model_id": "403857c311574ab2a21cd1c566060b71",
       "version_major": 2,
       "version_minor": 0
      },
      "text/plain": [
       "Dl Completed...:   0%|          | 0/5 [00:00<?, ? file/s]"
      ]
     },
     "metadata": {},
     "output_type": "display_data"
    },
    {
     "name": "stdout",
     "output_type": "stream",
     "text": [
      "\u001b[1mDataset mnist downloaded and prepared to ../../data/tensorflow_datasets/mnist/3.0.1. Subsequent calls will reuse this data.\u001b[0m\n",
      "\u001b[34mFeatures shape:\u001b[0m (16, 28, 28, 1)\n",
      "\u001b[34mLabels shape:\u001b[0m (16,)\n"
     ]
    },
    {
     "name": "stderr",
     "output_type": "stream",
     "text": [
      "2024-04-04 10:18:30.115501: W tensorflow/core/kernels/data/cache_dataset_ops.cc:858] The calling iterator did not fully read the dataset being cached. In order to avoid unexpected truncation of the dataset, the partially cached contents of the dataset  will be discarded. This can happen if you have an input pipeline similar to `dataset.cache().take(k).repeat()`. You should use `dataset.take(k).cache().repeat()` instead.\n"
     ]
    }
   ],
   "source": [
    "import tensorflow_datasets as tfds\n",
    "\n",
    "#Create a dataset builder object\n",
    "mnist_builder = tfds.builder('mnist')\n",
    "\n",
    "#Download the dataset as a dictionary of tf.data.Datasets\n",
    "data_dir = \"/home/akalinow/scratch/Zajecia/2023-2024/Lato/Uczenie_maszynowe_2/UczenieMaszynoweII/data/tensorflow_datasets/\"\n",
    "data_dir = \"../data/tensorflow_datasets/\"\n",
    "\n",
    "datasets, ds_info = tfds.load(\"mnist\", \n",
    "                              data_dir = data_dir,\n",
    "                              with_info=True)\n",
    "\n",
    "#Download the dataset as a tuple of tf.data.Datasets\n",
    "#datasets, ds_info = tfds.load(\"mnist\", as_supervised=True, with_info=True)\n",
    "\n",
    "# Load data from disk as tf.data.Datasets\n",
    "train_dataset, test_dataset = datasets['train'], datasets['test']\n",
    "\n",
    "# Fetch the first batch of the dataset\n",
    "item = next(iter(train_dataset.batch(16)))\n",
    "\n",
    "print(colored(\"Features shape:\", \"blue\"), item['image'].shape)\n",
    "print(colored(\"Labels shape:\", \"blue\"), item['label'].shape)\n"
   ]
  },
  {
   "cell_type": "markdown",
   "metadata": {
    "editable": true,
    "slideshow": {
     "slide_type": "slide"
    },
    "tags": []
   },
   "source": [
    "Biblioteka `tensorflow_datasets` dostarcza użytecznej funkcji do testu  wydajności wczytytywania zbioru danych:\n",
    "\n",
    "```Python\n",
    "tfds.benchmark(train_dataset, # Obiekt który dostarcza interfejsu iteratora\n",
    "                batch_size)   # Liczba służąca do normalizacji liczby wczytanych przykładów. \n",
    "                              # Podział na paczki trzeba ustawić na zbiorze explicite.\n",
    "```"
   ]
  },
  {
   "cell_type": "markdown",
   "metadata": {
    "editable": true,
    "slideshow": {
     "slide_type": "slide"
    },
    "tags": []
   },
   "source": [
    "**Proszę:**\n",
    "\n",
    "* uruchomić dwukrotnie test wydajności na zbiorze MNIST wczytanym z użyciem modułu `tensorflow_datasets` dla paczki o rozmiarze `32`"
   ]
  },
  {
   "cell_type": "code",
   "execution_count": 22,
   "metadata": {
    "editable": true,
    "slideshow": {
     "slide_type": "fragment"
    },
    "tags": []
   },
   "outputs": [
    {
     "name": "stdout",
     "output_type": "stream",
     "text": [
      "\n",
      "************ Summary ************\n",
      "\n"
     ]
    },
    {
     "data": {
      "application/vnd.jupyter.widget-view+json": {
       "model_id": "e81d542300f5465bbab690870dab23ae",
       "version_major": 2,
       "version_minor": 0
      },
      "text/plain": [
       "  0%|          | 0/1875 [00:00<?, ?it/s]"
      ]
     },
     "metadata": {},
     "output_type": "display_data"
    },
    {
     "name": "stdout",
     "output_type": "stream",
     "text": [
      "Examples/sec (First included) 137504.58 ex/sec (total: 60032 ex, 0.44 sec)\n",
      "Examples/sec (First only) 655.27 ex/sec (total: 32 ex, 0.05 sec)\n",
      "Examples/sec (First excluded) 154740.22 ex/sec (total: 60000 ex, 0.39 sec)\n",
      "\n",
      "************ Summary ************\n",
      "\n"
     ]
    },
    {
     "name": "stderr",
     "output_type": "stream",
     "text": [
      "2024-04-04 10:18:48.467046: W tensorflow/core/framework/local_rendezvous.cc:404] Local rendezvous is aborting with status: OUT_OF_RANGE: End of sequence\n"
     ]
    },
    {
     "data": {
      "application/vnd.jupyter.widget-view+json": {
       "model_id": "1e2fa8f0797f4ba89822bc14c52061e3",
       "version_major": 2,
       "version_minor": 0
      },
      "text/plain": [
       "  0%|          | 0/1875 [00:00<?, ?it/s]"
      ]
     },
     "metadata": {},
     "output_type": "display_data"
    },
    {
     "name": "stdout",
     "output_type": "stream",
     "text": [
      "Examples/sec (First included) 274523.16 ex/sec (total: 60032 ex, 0.22 sec)\n",
      "Examples/sec (First only) 2465.31 ex/sec (total: 32 ex, 0.01 sec)\n",
      "Examples/sec (First excluded) 291690.87 ex/sec (total: 60000 ex, 0.21 sec)\n"
     ]
    },
    {
     "name": "stderr",
     "output_type": "stream",
     "text": [
      "2024-04-04 10:18:48.708203: W tensorflow/core/framework/local_rendezvous.cc:404] Local rendezvous is aborting with status: OUT_OF_RANGE: End of sequence\n"
     ]
    }
   ],
   "source": [
    "#BEGIN_SOLUTION\n",
    "batchSize = 32\n",
    "train_dataset_batched = train_dataset.batch(batchSize)\n",
    "\n",
    "tfds.benchmark(train_dataset_batched, batch_size=batchSize)\n",
    "tfds.benchmark(train_dataset_batched, batch_size=batchSize)\n",
    "#END_SOLUTION\n",
    "pass"
   ]
  },
  {
   "cell_type": "markdown",
   "metadata": {
    "editable": true,
    "slideshow": {
     "slide_type": "slide"
    },
    "tags": []
   },
   "source": [
    "Funkcja `tfds.show_examples(...)` pozwala na szybkie wyświetlenie przykładów z podanego zbioru.\n",
    "\n",
    "**Uwaga:** funkcja wymaga obiektu `dataset_info.DatasetInfo`"
   ]
  },
  {
   "cell_type": "code",
   "execution_count": 23,
   "metadata": {
    "editable": true,
    "slideshow": {
     "slide_type": "fragment"
    },
    "tags": []
   },
   "outputs": [
    {
     "name": "stderr",
     "output_type": "stream",
     "text": [
      "2024-04-04 10:19:01.516911: W tensorflow/core/framework/local_rendezvous.cc:404] Local rendezvous is aborting with status: OUT_OF_RANGE: End of sequence\n"
     ]
    },
    {
     "data": {
      "image/png": "[encoded data removed]",
      "text/plain": [
       "<Figure size 600x600 with 4 Axes>"
      ]
     },
     "metadata": {},
     "output_type": "display_data"
    }
   ],
   "source": [
    "fig = tfds.show_examples(train_dataset, ds_info, rows=2, cols=2)"
   ]
  },
  {
   "cell_type": "markdown",
   "metadata": {
    "editable": true,
    "slideshow": {
     "slide_type": "slide"
    },
    "tags": []
   },
   "source": [
    "# Zadanie domowe\n",
    "\n",
    "**Proszę:**\n",
    "\n",
    "* napisać funkcję `load_wksf_dataset(filePath)`, wczytującą i wstępnie przetwarzającą  zbiór fragmentów tekstow w języku polskim: [link](https://drive.google.com/drive/folders/18vDJPEZd2C6_-TualBIhsR5zmbhDA00D?usp=drive_link) pochodzący ze [Wzbogaconego korpusu słownika frekwencyjnego polszczyzny współczesnej](https://clarin-pl.eu/dspace/handle/11321/715)\n",
    "* funkcja powinna wykonywać następujące kroki:\n",
    "  * wczytywanie wszystkich plików w katalogu podanym jako `filePath` do obiektu `tf.data.Dataset` \n",
    "  * przetwarza powstały obiekt by usunąć:\n",
    "    * informację o źródle cytatu\n",
    "    * odnośniki w tekście\n",
    "    * fragmenty typu `[/]` \n",
    "\n",
    "* funkcję umieścić w pliku `text_functions.py`\n",
    " * uruchomić komórkę poniżej\n",
    " \n",
    "**Wskazówka:**\n",
    "* mozna użyć funkcji `tf.strings.regex_full_match(...)` oraz `tf.strings.regex_replace(...)` do filtrowania linii lub zastępowania\n",
    "  fragmentów napisów\n",
    "  "
   ]
  },
  {
   "cell_type": "code",
   "execution_count": null,
   "metadata": {
    "editable": true,
    "slideshow": {
     "slide_type": ""
    },
    "tags": []
   },
   "outputs": [
    {
     "name": "stdout",
     "output_type": "stream",
     "text": [
      "Sztuka utraciła swoją moc pobudzającą: przykrym widowiskiem staje się koncert wybitnej niegdyś śpiewaczki i nie uświetnią go nawet nigdy dotąd nie wykonywane utwory genialnego kompozytora. Słuchacze myślą o czym innym, rozmawiają o czym innym i śpiewaczka, postarzawszy się, głos straciła. Nie było dotąd takich koncertów u Iwaszkiewicza.\n",
      "Stosunek tych dwóch rodzajów mieszczan układa się tak, że solidny obywatel uważa egzystencję poety czy malarza za mocno wątpliwą, podejrzaną: ten zaś rewanżuje się pogardą i krytycznym stanowiskiem wobec „nieartystycznego” przedstawiciela klasy, z której sam wyszedł (ta wzajemna nieufność i niechęć zaznacza się już zresztą w [„]Buddenbrookach[”] porównaj postać Gerdy).\n",
      "Wzrasta w stosunku do całej puli eksportowej eksport drewna najwyższych gatunków i przetworów (meble, płyty pilśniowe), maleje eksport drewna surowca, natomiast rośnie import gatunków tanich, a w Polsce deficytowych. Tendencja zdrowa. Inwestycje w przemyśle towarzyszącym gospodarce leśnej są poważne.\n",
      "Pisze się o literaturze jako kolekcji nazwisk albo prądów artystycznych. Bywa to wszystko słuszne, piękne, ale jest zawsze „tradycjonalne” albo „idylliczne”. Książka Szewczyka pomija pokusy przejrzystego wykładu akademickiego. Ale jest pierwsza, jaką dziś czytam, o politycznym dramacie literatury. Oglądanym nie poprzez przypadki wyjątkowe i kliniczne, ale w jej sytuacji powszedniej.\n",
      "Przecież pamiętam tę twarz widzianą na tle zamierzonych sukcesów w walce z biurokracją, lenistwem, niechęcią, znieczulicą. Przewodniczący robił odprawy, gromił, sam rozprowadzał petentów po różnych wydziałach i pokojach, najeżdżał terenowe ogniwa, wydawał okólniki, korygował, pouczał - po każdej takiej fali natchnienia jego twarz wydawała mi się wzniosła i oczyszczona.\n"
     ]
    },
    {
     "name": "stderr",
     "output_type": "stream",
     "text": [
      "2024-04-04 10:21:00.076300: W tensorflow/core/framework/local_rendezvous.cc:404] Local rendezvous is aborting with status: OUT_OF_RANGE: End of sequence\n",
      "2024-04-04 10:21:00.151521: W tensorflow/core/framework/local_rendezvous.cc:404] Local rendezvous is aborting with status: OUT_OF_RANGE: End of sequence\n"
     ]
    }
   ],
   "source": [
    "import text_functions as txtfunc\n",
    "importlib.reload(txtfunc)\n",
    "\n",
    "filePath = \"../data/wksf/Korpus_surowy/\"\n",
    "dataset = txtfunc.load_wksf_dataset(filePath)\n",
    "\n",
    "for item in dataset.take(5):\n",
    "    print(colored(\"Item:\",\"blue\"), end=\" \")\n",
    "    print(item.numpy().decode(\"utf-8\"))\n"
   ]
  },
  {
   "cell_type": "code",
   "execution_count": null,
   "metadata": {
    "editable": true,
    "slideshow": {
     "slide_type": ""
    },
    "tags": []
   },
   "outputs": [],
   "source": []
  }
 ],
 "metadata": {
  "colab": {
   "collapsed_sections": [],
   "name": "01_Pakiety_numpy_pandas.ipynb",
   "provenance": [
    {
     "file_id": "0BzwQ_Lscn8yDWnZVeHU1MjluWFU",
     "timestamp": 1546856440599
    }
   ]
  },
  "kernelspec": {
   "display_name": "Python 3 (ipykernel)",
   "language": "python",
   "name": "python3"
  },
  "language_info": {
   "codemirror_mode": {
    "name": "ipython",
    "version": 3
   },
   "file_extension": ".py",
   "mimetype": "text/x-python",
   "name": "python",
   "nbconvert_exporter": "python",
   "pygments_lexer": "ipython3",
   "version": "3.11.0rc1"
  },
  "rise": {
   "center": false,
   "controls": false,
   "footer": "<h3>Letnia Szkoła<br>Fizyki 2023</h3>",
   "header": "<h1>Hello</h1>",
   "progress": "true",
   "slideNumber": "c/t",
   "transition": "none"
  }
 },
 "nbformat": 4,
 "nbformat_minor": 4
}
