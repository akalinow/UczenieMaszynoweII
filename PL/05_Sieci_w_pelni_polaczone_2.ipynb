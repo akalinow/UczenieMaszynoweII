{
 "cells": [
  {
   "cell_type": "markdown",
   "metadata": {
    "editable": true,
    "id": "7xQVLckhK-Bd",
    "slideshow": {
     "slide_type": "skip"
    },
    "tags": []
   },
   "source": [
    "## Inicjalizacja środowiska programistycznego"
   ]
  },
  {
   "cell_type": "code",
   "execution_count": null,
   "metadata": {
    "editable": true,
    "id": "PObMLuOaK-Bq",
    "outputId": "414298a8-fd76-48a7-a8bd-1575c7ef76b8",
    "slideshow": {
     "slide_type": "skip"
    },
    "tags": []
   },
   "outputs": [],
   "source": [
    "#Color printing\n",
    "from termcolor import colored\n",
    "\n",
    "#General data operations library\n",
    "import math\n",
    "import string\n",
    "from datetime import datetime\n",
    "import numpy as np\n",
    "\n",
    "#The tensorflow library\n",
    "import tensorflow  as tf\n",
    "\n",
    "#Plotting libraries\n",
    "import matplotlib as mpl\n",
    "import matplotlib.pyplot as plt\n",
    "\n",
    "#Increase plots font size\n",
    "params = {'legend.fontsize': 'xx-large',\n",
    "          'figure.figsize': (10, 7),\n",
    "         'axes.labelsize': 'xx-large',\n",
    "         'axes.titlesize':'xx-large',\n",
    "         'xtick.labelsize':'xx-large',\n",
    "         'ytick.labelsize':'xx-large'}\n",
    "plt.rcParams.update(params)\n",
    "\n",
    "#append path with python modules\n",
    "import importlib\n",
    "import sys\n",
    "sys.path.append(\"../modules\")\n",
    "\n",
    "#Private functions\n",
    "import plotting_functions as plf\n",
    "importlib.reload(plf);\n",
    "\n",
    "#Hide GPU\n",
    "#tf.config.set_visible_devices([], 'GPU')"
   ]
  },
  {
   "cell_type": "markdown",
   "metadata": {
    "editable": true,
    "id": "uF_tqIKRK-Bw",
    "slideshow": {
     "slide_type": "slide"
    },
    "tags": []
   },
   "source": [
    "<br/><br/>\n",
    "<br/><br/>\n",
    "\n",
    "<h1 align=\"center\">\n",
    " Uczenie maszynowe II\n",
    "</h1>\n",
    "\n",
    "<br/><br/>\n",
    "<br/><br/>\n",
    "<br/><br/>\n",
    "<br/><br/>\n",
    "\n",
    "<h1 align=\"right\">\n",
    "Artur Kalinowski <br>\n",
    "Uniwersytet Warszawski <br>\n",
    "Wydział Fizyki <br>    \n",
    "</h1>"
   ]
  },
  {
   "cell_type": "markdown",
   "metadata": {
    "editable": true,
    "id": "CecJ_jj6K-Bx",
    "slideshow": {
     "slide_type": "slide"
    },
    "tags": []
   },
   "source": [
    "# Analiza obrazów - Zbiór EMNIST\n",
    "\n",
    "Jako zbiorów treningowych do analizy obrazów użyjemy rozszerzonego zbioru MNIST -\n",
    "[EMNIST](https://www.nist.gov/itl/products-and-services/emnist-dataset)\n",
    "zawierającego dużą liczbę zdjęć ręcznie pisanych liter i cyfr. Zdjęcia mają rozdzielczość `28x28` pikseli,\n",
    "a każdy piksel koduje poziom szarości w 8 bitowej skali."
   ]
  },
  {
   "cell_type": "markdown",
   "metadata": {
    "editable": true,
    "id": "sOn5y8bEK-Bx",
    "slideshow": {
     "slide_type": "slide"
    },
    "tags": []
   },
   "source": [
    "# Przygotowanie danych\n",
    "\n",
    "**Proszę:**\n",
    "\n",
    "* pobrać zbiór [EMNIST](https://biometrics.nist.gov/cs_links/EMNIST/gzip.zip)\n",
    "* rozpakować plik .zip\n",
    "* załadować do środowiska Colab, do katalogu `data` pliki (`label` i `images`) dla zbioru `emnist-digits-test`\n",
    "* rozpakować w środowisku Colab pliki `.gzip`\n",
    "\n",
    "**Uwaga:**\n",
    "\n",
    "* pliki są duże. Optymalnie jest je pobrać bezpośrednio na Colab, lub na dysk Google"
   ]
  },
  {
   "cell_type": "code",
   "execution_count": null,
   "metadata": {},
   "outputs": [],
   "source": [
    "!wget https://biometrics.nist.gov/cs_links/EMNIST/gzip.zip\n",
    "!uzip gzip.zip\n",
    "!gzip -d gzip/*test*"
   ]
  },
  {
   "cell_type": "markdown",
   "metadata": {
    "editable": true,
    "id": "sOn5y8bEK-Bx",
    "slideshow": {
     "slide_type": "slide"
    },
    "tags": []
   },
   "source": [
    "Dane wczytamy korzystając z gotowej funkcji `getEMNIST(datasetName, datasetPath)` która zwraca krotkę `(features, labels)` dla zbioru o nazwie odpowiadającej nazwie odpowiedniego pliku, np.:\n",
    "  ```Python\n",
    "  \n",
    "  x, y = getEMNIST('emnist-digits-test', datasePath)\n",
    "  \n",
    "  ```\n",
    "  <br></br>\n",
    "\n",
    "**Proszę:**\n",
    "\n",
    "* umieścić funkcję w module `modules/emnist_functions.py`  \n",
    "* rozpakować dane treningowe dla liczb: `emnist-digits-test`\n",
    "* wydzielić `30 000` przykładów na zbiór uczący\n",
    "* wydzielić `10 000` przykładów na zbiór walidacyjny"
   ]
  },
  {
   "cell_type": "markdown",
   "metadata": {
    "editable": true,
    "id": "sOn5y8bEK-Bx",
    "slideshow": {
     "slide_type": "slide"
    },
    "tags": []
   },
   "source": [
    "**Uwagi:**\n",
    "\n",
    "* dane są zapisane w binarnym formacie IDX. Do ich dekodowania można użyć pakietu `idx2numpy`. Pakiet można doinstalować\n",
    "  do aktualnej sesji korzystając z komendy `pip`. W komórce notatnika komendy linii poleceń trzeba poprzedzić wykrzyknikiem:\n",
    "  ```Shell\n",
    "  \n",
    "  !pip install idx2numpy\n",
    "  ```\n",
    "  <br></br>\n",
    "* zamiast wydzielania explicite zbioru walidacyjnego można użyć parametru `validation_split` metody `keras.model.fit()`:\n",
    "  ```Python\n",
    "  \n",
    "  history = model.fit(x=x_train, y=y_train,\n",
    "                    epochs=nEpochs,\n",
    "                    batch_size = batchSize,\n",
    "                    validation_split=0.1,   # 10% zbioru treningowego wydzielone na zbiór walidacyjny\n",
    "                    callbacks=callbacks,\n",
    "                    verbose=0)\n",
    "  ```"
   ]
  },
  {
   "cell_type": "code",
   "execution_count": null,
   "metadata": {
    "editable": true,
    "id": "sGoGB8AMK-By",
    "outputId": "49387e2b-4ead-4ad6-85fc-b0dafcde4c08",
    "slideshow": {
     "slide_type": "fragment"
    },
    "tags": []
   },
   "outputs": [],
   "source": [
    "!pip install idx2numpy"
   ]
  },
  {
   "cell_type": "code",
   "execution_count": null,
   "metadata": {
    "editable": true,
    "id": "lZBHZxwQK-By",
    "outputId": "d9db1ccf-5161-43fb-de26-4f9a7bae7d0d",
    "slideshow": {
     "slide_type": "slide"
    },
    "tags": []
   },
   "outputs": [],
   "source": [
    "def getEMNIST(datasetName, datasetPath):\n",
    "\n",
    "    import idx2numpy\n",
    "    fileName = datasetPath+\"/\"+datasetName+'-images-idx3-ubyte'\n",
    "    features = idx2numpy.convert_from_file(fileName)\n",
    "\n",
    "    fileName = datasetPath+\"/\"+datasetName+'-labels-idx1-ubyte'\n",
    "    labels = idx2numpy.convert_from_file(fileName)\n",
    "    return (features, labels)\n",
    "\n",
    "#BEGIN_SOLUTION\n",
    "datasetName = \"emnist-digits-test\"\n",
    "datasetPath = \"../data/EMNIST/gzip/\"\n",
    "features, labels = getEMNIST(datasetName, datasetPath)\n",
    "\n",
    "nTrainExamples = 30000\n",
    "nValExamples = 10000\n",
    "x_train = features[:nTrainExamples]\n",
    "y_train = labels[:nTrainExamples]\n",
    "\n",
    "x_val = features[-nValExamples:]\n",
    "y_val = labels[-nValExamples:]\n",
    "\n",
    "print(colored(\"Training data shapes: \",\"blue\"), x_train.shape, y_train.shape)\n",
    "print(colored(\"Validation data shapes: \",\"blue\"), x_val.shape, y_val.shape)\n",
    "#END_SOLUTION\n",
    "pass"
   ]
  },
  {
   "cell_type": "markdown",
   "metadata": {
    "editable": true,
    "id": "7s6IUS6FK-By",
    "slideshow": {
     "slide_type": "slide"
    },
    "tags": []
   },
   "source": [
    "**Proszę:**\n",
    "\n",
    "* napisać funkcję `plotMNIST(x, y, y_pred)`, która rysuje cztery losowe obrazy ze zbioru cech `x`, podpisane dwoma rodzajami etykiet\n",
    "  zawartych w macierzach `y` i `y_pred`\n",
    "* po dopracowaniu kodu funkcji umieścić ją w module `modules/emnist_functions.py`\n",
    "\n",
    "**Wskazówka:**\n",
    "* do rysowania obrazów można użyć funkcji `imshow(imgeData)`"
   ]
  },
  {
   "cell_type": "code",
   "execution_count": null,
   "metadata": {
    "editable": true,
    "id": "-9tvPx7AK-Bz",
    "outputId": "bc29ba31-57b4-4094-c3f7-6ff14f86366b",
    "slideshow": {
     "slide_type": "slide"
    },
    "tags": []
   },
   "outputs": [],
   "source": [
    "#BEGIN_SOLUTION\n",
    "def plotMNIST(x, y, y_pred):\n",
    "    indices = np.random.default_rng().integers(0, len(x), (4))\n",
    "    fig, axes = plt.subplots(2, 2, figsize=(4.5,4.5))\n",
    "\n",
    "    for index, axis in zip(indices, axes.flatten()):\n",
    "        title = \"{}/{}\".format(y[index],y_pred[index])\n",
    "        axis.imshow(x[index].T, cmap=plt.get_cmap('Reds'), label=\"A\")\n",
    "        axis.set_title(title)\n",
    "\n",
    "    axes[0,1].legend(bbox_to_anchor=(1.5,1), loc='upper left', title=\"Label: True/Predicted\")\n",
    "    plt.subplots_adjust(bottom=0.15, left=0.05, right=0.95, wspace=0.4, hspace=0.5)\n",
    "\n",
    "plotMNIST(x_train, y_train, y_train)\n",
    "#END_SOLUTION\n",
    "pass"
   ]
  },
  {
   "cell_type": "markdown",
   "metadata": {
    "editable": true,
    "id": "HA5s3trXK-Bz",
    "slideshow": {
     "slide_type": "slide"
    },
    "tags": []
   },
   "source": [
    "**Proszę:**\n",
    "\n",
    "* wywołać funkcje ładującą dane i rysującą rysunki korzystając z modułu `emnist_functions`"
   ]
  },
  {
   "cell_type": "code",
   "execution_count": null,
   "metadata": {
    "editable": true,
    "id": "OyGkLPNSK-B1",
    "outputId": "9d8210ea-534d-417e-f9ee-634ab83e2996",
    "slideshow": {
     "slide_type": "slide"
    },
    "tags": []
   },
   "outputs": [],
   "source": [
    "import emnist_functions as emnist_fcn\n",
    "\n",
    "datasetName = \"emnist-digits-test\"\n",
    "datasetPath = \"../data/EMNIST/gzip/\"\n",
    "x, y = emnist_fcn.getEMNIST(datasetName, datasetPath)\n",
    "emnist_fcn.plotMNIST(x, y, y)"
   ]
  },
  {
   "cell_type": "markdown",
   "metadata": {
    "editable": true,
    "id": "7YnZS5lcK-B2",
    "slideshow": {
     "slide_type": "slide"
    },
    "tags": []
   },
   "source": [
    "**Proszę:**\n",
    "\n",
    "  * narysować histogramy krotności poszczególnych klas dla zbiorów treningowego i walidacyjnego"
   ]
  },
  {
   "cell_type": "code",
   "execution_count": null,
   "metadata": {
    "editable": true,
    "id": "8n-dt4T_K-B3",
    "outputId": "a26f2300-9b24-450f-b265-2ceb96dc9a9b",
    "slideshow": {
     "slide_type": "slide"
    },
    "tags": []
   },
   "outputs": [],
   "source": [
    "#BEGIN_SOLUTION\n",
    "fig, axes = plt.subplots(1, 2, figsize=(8,4))\n",
    "axes[0].hist(y_train, bins=np.linspace(0,10,11));\n",
    "axes[0].set_title(\"Training\")\n",
    "\n",
    "axes[1].hist(y_val,bins=np.linspace(0,10,11));\n",
    "axes[1].set_title(\"Validation\")\n",
    "plt.subplots_adjust(bottom=0.15, left=0.05, right=0.95, wspace=0.4, hspace=0.5)\n",
    "#END_SOLUTION\n",
    "pass"
   ]
  },
  {
   "cell_type": "markdown",
   "metadata": {
    "editable": true,
    "id": "M2feNSFrK-B5",
    "slideshow": {
     "slide_type": "slide"
    },
    "tags": []
   },
   "source": [
    "## Rozpoznawanie ręcznie pisanych cyfr\n",
    "\n",
    "Mamy przed sobą zagadnienie kategoryzacji z wieloma klasami. Etykiety klas są podane w postaci numeru klasy:\n",
    "```Python\n",
    "print(y_train[:3])\n",
    "[8 9 6]\n",
    "```\n",
    "\n",
    "Sieć, którą skonstruujemy, będzie estymowała prawdopodobieństwo przynależności do klasy na podstawie cech:\n",
    "\n",
    "$$\n",
    "{\\huge\n",
    "f_{g}(x) =  P(g|x)\n",
    "}\n",
    "$$\n",
    "\n",
    "następnie użyjemy klasyfikacji Bayesa przypisując klasę o maksymalnym prawdopodobieństwie:\n",
    "\n",
    "$$\n",
    "{\\huge\n",
    "g = argmax_{g \\in G} f_{g}(x)\n",
    "}\n",
    "$$"
   ]
  },
  {
   "cell_type": "markdown",
   "metadata": {
    "editable": true,
    "id": "oHIZT6kmK-B5",
    "slideshow": {
     "slide_type": "slide"
    },
    "tags": []
   },
   "source": [
    "Jako funkcji straty użyjemy entropii krzyżowej dla wielu kategorii. Mamy do wyboru dwa warianty:\n",
    "\n",
    "* `sparse_categorical_crossentropy` - implementacja zakładająca, że etykiety zawierają numery klas\n",
    "\n",
    "* `categorical_crossentropy` - implementacja zakładająca, że etykiety zawierają wektory prawdopodobieństw przynależności do klas:\n",
    "\n",
    "```Python\n",
    "x = tf.one_hot(y_train[:3], 10)\n",
    "print(x)\n",
    "tf.Tensor(\n",
    "[[0. 0. 0. 0. 0. 0. 0. 0. 1. 0.]\n",
    " [0. 0. 0. 0. 0. 0. 0. 0. 0. 1.]\n",
    " [0. 0. 0. 0. 0. 0. 1. 0. 0. 0.]], shape=(3, 10), dtype=float32)\n",
    "```  \n",
    "\n",
    "W naszym przypadku każdy przykład należy do jednej klasy, więc wektor prawdopodobieństw zawiera zera, z wyjątkiem elementu odpowiadającego klasie, do której należy przykład. Taka reprezentacja nazywa się gorąco jedynkową, ang. `one_hot`\n"
   ]
  },
  {
   "cell_type": "markdown",
   "metadata": {
    "editable": true,
    "id": "gvK7QbI6K-B6",
    "slideshow": {
     "slide_type": "slide"
    },
    "tags": []
   },
   "source": [
    "* warstwa wyjściowa ma teraz liczbę neuronów równą liczbie klas - każdy neuron zwraca prawdopodobieństwo przynależności do danej klasy\n",
    "* funkcja aktywacji warstwy wyjściowej powinna być ustawiona na `softmax` by zapewnić normalizację prawdopodobieństwa przykładu do 1:\n",
    "\n",
    "$$\n",
    "{\\huge\n",
    "\\sum _{g} f_{g}(x) =  1\n",
    "}\n",
    "$$"
   ]
  },
  {
   "cell_type": "markdown",
   "metadata": {
    "editable": true,
    "id": "-ifWI9dhK-B6",
    "slideshow": {
     "slide_type": "slide"
    },
    "tags": []
   },
   "source": [
    "**Proszę:**\n",
    "\n",
    "* skonstruować sieć w pełni połączoną rozpoznającą ręcznie napisaną cyfrę. Sieć powinna mieć ``128`` neuronów w każdej z\n",
    "  ``16`` warstw.\n",
    "* budowa sieci powinna być wykonana z użyciem funkcji `getModel(...)`\n",
    "* przeprowadzić trening w 20 epokach i narysować zmianę funkcji straty w kolejnych epokach\n",
    "* trening powienien uwzględniać harmonogram współczennika uczenia\n",
    "* trening **nie** powinien używać wczesnego zatrzymania - chcemy pobadać efekty zbyt długiego treningu\n",
    "* obliczyć dokładność, `accuracy` na zbiorach treningowym i walidacyjnym\n",
    "* skomentować wykresy funkcji straty - **Czy widać na nich oznaki przetrenowania?**\n",
    "\n",
    "**Uwaga:** proszę zwrócić uwagę na kształt danych wejściowych"
   ]
  },
  {
   "cell_type": "code",
   "execution_count": null,
   "metadata": {
    "editable": true,
    "id": "P7502ysJK-B6",
    "outputId": "7ee99798-ecc8-40aa-dcf4-a37d6999b6ff",
    "slideshow": {
     "slide_type": "slide"
    },
    "tags": []
   },
   "outputs": [],
   "source": [
    "%%time\n",
    "#BEGIN_SOLUTION\n",
    "inputShape = (28,28)\n",
    "\n",
    "nNeurons = np.full((16),128)\n",
    "nOutputNeurons = 10\n",
    "\n",
    "def getModel(inputShape, nNeurons, hiddenActivation=\"relu\", outputActivation=\"linear\", nOutputNeurons=1):\n",
    "\n",
    "    inputs = tf.keras.Input(shape=inputShape, name=\"features\")\n",
    "    x = tf.keras.layers.Flatten()(inputs)\n",
    "\n",
    "    for iLayer, n in enumerate(nNeurons):\n",
    "        x = tf.keras.layers.Dense(n, activation=hiddenActivation,\n",
    "                                  bias_initializer=tf.keras.initializers.RandomUniform(minval=-1, maxval=1),\n",
    "                                  kernel_initializer=\"HeNormal\",\n",
    "                                  #kernel_regularizer=tf.keras.regularizers.L2(l2=0.01),\n",
    "                                  name=\"layer_\"+str(iLayer))(x)\n",
    "\n",
    "    outputs = tf.keras.layers.Dense(nOutputNeurons, activation=outputActivation, name = \"output\")(x)\n",
    "    model = tf.keras.Model(inputs=inputs, outputs=outputs, name=\"DNN\")\n",
    "    return model\n",
    "\n",
    "model = getModel(inputShape=inputShape, nOutputNeurons=nOutputNeurons,\n",
    "                 nNeurons=nNeurons,\n",
    "                 hiddenActivation=\"relu\",\n",
    "                 outputActivation=\"softmax\")\n",
    "\n",
    "#configure learning process\n",
    "initial_learning_rate = 1E-3\n",
    "batchSize = 64\n",
    "nEpochs = 20\n",
    "\n",
    "nStepsPerEpoch = len(x_train)/batchSize\n",
    "lr_schedule = tf.keras.optimizers.schedules.ExponentialDecay(initial_learning_rate,\n",
    "                decay_steps=nStepsPerEpoch*10,\n",
    "                decay_rate=0.95,\n",
    "                staircase=False)\n",
    "\n",
    "model.compile(optimizer=tf.keras.optimizers.Adam(learning_rate=lr_schedule),\n",
    "              loss='sparse_categorical_crossentropy',\n",
    "              metrics=['accuracy'])\n",
    "\n",
    "#run training\n",
    "early_stop_callback = tf.keras.callbacks.EarlyStopping(monitor='val_loss', patience=5, verbose=1, min_delta=1E-3)\n",
    "#callbacks = [early_stop_callback]\n",
    "callbacks = []\n",
    "\n",
    "history = model.fit(x=x_train, y=y_train,\n",
    "                    epochs=nEpochs,\n",
    "                    batch_size = batchSize,\n",
    "                    validation_data=(x_val, y_val),\n",
    "                    callbacks=callbacks,\n",
    "                    verbose=0)\n",
    "plf.plotTrainHistory(history)\n",
    "print(colored(\"Evaluation on training dataset:\",\"blue\"))\n",
    "model.evaluate(x_train, y_train)\n",
    "print(colored(\"Evaluation on validation dataset:\",\"blue\"))\n",
    "model.evaluate(x_val, y_val)\n",
    "#END_SOLUTION\n",
    "pass"
   ]
  },
  {
   "cell_type": "markdown",
   "metadata": {
    "editable": true,
    "id": "jiAbb0a7K-B8",
    "jp-MarkdownHeadingCollapsed": true,
    "slideshow": {
     "slide_type": "slide"
    },
    "tags": []
   },
   "source": [
    "**Proszę:**\n",
    "\n",
    "* użyć kryterium Bayesa do skonstruowania finalnej odpowiedzi modelu na pytanie **Do której klasy należy dany przykład?**\n",
    "* narysować macierz pomyłek dla zbioru treningowego i walidacyjnego\n",
    "* macierze pomyłek proszę znormalizować względem prawdziwych etykiet.\n",
    "\n",
    "**Wskazówka:** do rysowania macierzy pomyłek można użyć klasy `sklearn.metrics.ConfusionMatrixDisplay`"
   ]
  },
  {
   "cell_type": "code",
   "execution_count": null,
   "metadata": {
    "editable": true,
    "id": "1YT7gRpjK-B9",
    "outputId": "90a1be47-6156-4f82-8383-626973ecfbc3",
    "slideshow": {
     "slide_type": "slide"
    },
    "tags": []
   },
   "outputs": [],
   "source": [
    "#BEGIN_SOLUTION\n",
    "from sklearn.metrics import ConfusionMatrixDisplay\n",
    "\n",
    "fig, axes = plt.subplots(2, 1, figsize=(10,15))\n",
    "y_pred = tf.argmax(model.predict(x_train), axis=1)\n",
    "ConfusionMatrixDisplay.from_predictions(y_train, y_pred, normalize=\"true\", ax=axes[0])\n",
    "\n",
    "y_pred = tf.argmax(model.predict(x_val), axis=1)\n",
    "ConfusionMatrixDisplay.from_predictions(y_val, y_pred, normalize=\"true\", ax=axes[1])\n",
    "\n",
    "axes[0].set_title(\"Training\")\n",
    "axes[1].set_title(\"Validation\")\n",
    "plt.subplots_adjust(bottom=0.15, left=0.05, right=0.95, wspace=0.25, hspace=0.25)\n",
    "#END_SOLUTION\n",
    "pass"
   ]
  },
  {
   "cell_type": "markdown",
   "metadata": {
    "editable": true,
    "id": "3AzeYxdhK-B-",
    "slideshow": {
     "slide_type": "slide"
    },
    "tags": []
   },
   "source": [
    "**Proszę:**\n",
    "\n",
    "* narysować cztery losowe przykłady z informacją etykietach: prawdziwej i przyznanej przez model\n",
    "* narysować cztery przykłady, w których odpowiedź modelu **nie** jest poprawna"
   ]
  },
  {
   "cell_type": "code",
   "execution_count": null,
   "metadata": {
    "editable": true,
    "id": "rKlAppJ-K-B_",
    "outputId": "0760ccde-89bc-433b-9b13-080f703c904e",
    "slideshow": {
     "slide_type": "slide"
    },
    "tags": []
   },
   "outputs": [],
   "source": [
    "#BEGIN_SOLUTION\n",
    "plotMNIST(x_val, y_val, y_pred)\n",
    "mask = y_val!=y_pred\n",
    "plotMNIST(x_val[mask], y_val[mask], y_pred[mask])\n",
    "#END_SOLUTION\n",
    "pass"
   ]
  },
  {
   "cell_type": "markdown",
   "metadata": {
    "editable": true,
    "id": "GK_eYD8eK-CB",
    "slideshow": {
     "slide_type": "slide"
    },
    "tags": []
   },
   "source": [
    "## Zapis modelu\n",
    "\n",
    "Model stworzony w Keras może być zapisany w całości - struktura i wagi lub jako same wagi.\n",
    "W nazwie pliku modelu warto zakodować podstawowe meta dane o treningu, np. datę i liczbę epok."
   ]
  },
  {
   "cell_type": "code",
   "execution_count": null,
   "metadata": {
    "editable": true,
    "id": "PqJOO2UvK-CC",
    "outputId": "7746c22e-f73d-4bae-dce3-ae1037283a0b",
    "slideshow": {
     "slide_type": "slide"
    },
    "tags": []
   },
   "outputs": [],
   "source": [
    "currentTime = datetime.now().strftime(\"%b_%d_%Y_%H_%M\")\n",
    "path = \"training/{epoch:04d}_\"+currentTime+\".keras\"\n",
    "model.save(path.format(epoch=nEpochs));"
   ]
  },
  {
   "cell_type": "markdown",
   "metadata": {
    "editable": true,
    "id": "aeDjAKrWK-CC",
    "slideshow": {
     "slide_type": "slide"
    },
    "tags": []
   },
   "source": [
    "## Wczytywanie modelu\n",
    "\n",
    "Model można wczytać w dowolnym innym miejscu kodu. Wczytany model pozwala na te same operacje co oryginalny model \"z kodu\",\n",
    "w szczególności:\n",
    "\n",
    "* kontynuację treningu\n",
    "* wykonanie predykcji"
   ]
  },
  {
   "cell_type": "code",
   "execution_count": null,
   "metadata": {
    "editable": true,
    "id": "tmQCB1tLK-CC",
    "outputId": "83f87a19-e193-4a97-d6e1-f00e533496ed",
    "slideshow": {
     "slide_type": "slide"
    },
    "tags": []
   },
   "outputs": [],
   "source": [
    "nEpochsSaved = 20\n",
    "checkpoint_path = \"training/{epoch:04d}_\"+currentTime+\".keras\"\n",
    "model = tf.keras.models.load_model(checkpoint_path.format(epoch=nEpochsSaved))\n",
    "model.summary()\n",
    "print(colored(\"Evaluation on validation dataset:\",\"blue\"))\n",
    "model.evaluate(x_val, y_val)"
   ]
  },
  {
   "cell_type": "markdown",
   "metadata": {
    "editable": true,
    "id": "1MvGvK5zK-CD",
    "slideshow": {
     "slide_type": "slide"
    },
    "tags": []
   },
   "source": [
    "## Zapis modelu w trakcie treningu\n",
    "\n",
    "Model można automatycznie zapisywać w trakcie procesu treningu - służą do tego dedykowane funkcje wywołań zwrotnych - ```callbacks```. Funkcja ```tf.keras.callbacks.ModelCheckpoint``` zapisuje model w trakcie treningu:\n",
    "\n",
    "```Python\n",
    "model_checkpoint_callback = tf.keras.callbacks.ModelCheckpoint(\n",
    "                            filepath=checkpoint_filepath, # ścieżka do plików modelu. Wymaga odpowiedniego formatowania\n",
    "                                                          # jeśli pliki modeli nie mają być nadpisywane, np.:\n",
    "                                                          # checkpoints/model_{epoch:02d}.keras\n",
    "                                                          # jeśli zapisyujemy tylko wagi nazwa pliku musi kończyć się na weights.h5\n",
    "                            save_weights_only=True,       # flaga sterująca zapisem całej struktury modelu, lub jedynie jego wag\n",
    "                            monitor='val_accuracy',       # kryterium wyboru najlepszego modelu na danym etapie treningu\n",
    "                            mode='max',                   # kierunek kryterium: max - więcej znaczy lepiej, min - odwrotnie\n",
    "                            save_best_only=True)          # zapisuje model jeśli jest lepszy niż model poprzednio zapisany\n",
    "```    "
   ]
  },
  {
   "cell_type": "markdown",
   "metadata": {
    "editable": true,
    "id": "R_6ic2QaK-CD",
    "slideshow": {
     "slide_type": "slide"
    },
    "tags": []
   },
   "source": [
    "**Proszę:**\n",
    "\n",
    "* dodać wywołanie zwrotne `ModelCheckpoint` do konfiguracji treningu modelu\n",
    "* zadbać o odpowiednie nazewnictwo plików modelu"
   ]
  },
  {
   "cell_type": "code",
   "execution_count": null,
   "metadata": {
    "editable": true,
    "id": "YUHuCRp_K-CD",
    "outputId": "d652a678-acd3-4002-cbf3-f87d41f114e6",
    "slideshow": {
     "slide_type": "slide"
    },
    "tags": []
   },
   "outputs": [],
   "source": [
    "#BEGIN_SOLUTION\n",
    "#run training\n",
    "early_stop_callback = tf.keras.callbacks.EarlyStopping(monitor='val_loss', patience=5, verbose=1, min_delta=1E-3)\n",
    "\n",
    "checkpoint_filepath = 'training/checkpoints/model_checkpoint_epoch_{epoch:02d}.weights.h5'\n",
    "model_checkpoint_callback = tf.keras.callbacks.ModelCheckpoint(\n",
    "                            filepath=checkpoint_filepath,\n",
    "                            save_weights_only=True,\n",
    "                            monitor='val_accuracy',\n",
    "                            mode='max',\n",
    "                            save_best_only=True,\n",
    "                            verbose=1)\n",
    "callbacks = [early_stop_callback, model_checkpoint_callback]\n",
    "\n",
    "nEpochs = 100\n",
    "history = model.fit(x=x_train, y=y_train,\n",
    "                    epochs=nEpochs,\n",
    "                    batch_size = batchSize,\n",
    "                    validation_data=(x_val, y_val),\n",
    "                    callbacks=callbacks,\n",
    "                    verbose=0)\n",
    "#END_SOLUTION\n",
    "pass"
   ]
  },
  {
   "cell_type": "markdown",
   "metadata": {
    "editable": true,
    "id": "R_vx8_BYK-CD",
    "slideshow": {
     "slide_type": "slide"
    },
    "tags": []
   },
   "source": [
    "## Wczytywanie wag.\n",
    "\n",
    "Jeśli w trakcie treningu zapisywano same wagi, trzeba je wczytać do istniejącego modelu:\n",
    "```Python\n",
    "checkpoint_path = \"training/checkpoints/model_checkpoint_epoch_01.weights.h5\"\n",
    "model.load_weights(checkpoint_path)\n",
    "model.summary()\n",
    "```\n",
    "\n",
    "**Proszę:**\n",
    "\n",
    "* stworzyć nowy model\n",
    "* obliczyć dokładność na zbiorze walidacyjnym - jakiej wartości się spodziewamy dla `surowego` modelu?\n",
    "* wczytać wagi modelu zapisane przez funkcję ``tf.keras.callbacks.ModelCheckpoint``\n",
    "* obliczyć dokładność na zbiorze walidacyjnym. Czy widać, że model zawiera wagi będące efektem treningu?"
   ]
  },
  {
   "cell_type": "code",
   "execution_count": null,
   "metadata": {
    "editable": true,
    "id": "3kTnhIq9K-CE",
    "outputId": "f049181e-04ab-4bf2-f4a8-8e5485ea9248",
    "slideshow": {
     "slide_type": "slide"
    },
    "tags": []
   },
   "outputs": [],
   "source": [
    "#BEGIN_SOLUTION\n",
    "model = getModel(inputShape=inputShape, nOutputNeurons=nOutputNeurons,\n",
    "                 nNeurons=nNeurons,\n",
    "                 hiddenActivation=\"relu\",\n",
    "                 outputActivation=\"softmax\")\n",
    "\n",
    "model.compile(optimizer=tf.keras.optimizers.Adam(learning_rate=lr_schedule),\n",
    "              loss='sparse_categorical_crossentropy',\n",
    "              metrics=['accuracy'])\n",
    "\n",
    "print(colored(\"Evaluation on validation dataset:\",\"blue\"))\n",
    "model.evaluate(x_val, y_val)\n",
    "\n",
    "checkpoint_path = \"training/checkpoints/model_checkpoint_epoch_01.weights.h5\"\n",
    "model.load_weights(checkpoint_path)\n",
    "model.summary()\n",
    "\n",
    "print(colored(\"Evaluation on validation dataset:\",\"blue\"))\n",
    "model.evaluate(x_val, y_val)\n",
    "#END_SOLUTION\n",
    "pass"
   ]
  },
  {
   "cell_type": "markdown",
   "metadata": {
    "editable": true,
    "id": "oATlBgVhK-CE",
    "slideshow": {
     "slide_type": "slide"
    },
    "tags": []
   },
   "source": [
    "# Zadanie domowe\n",
    "\n",
    "Trening klasyfikatora na zbiorze małych liter i cyfr ze zbioru `emnist-balanced-train`.\n",
    "\n",
    "**Proszę:**\n",
    "\n",
    "* wczytrać zbióry `emnist-balanced-train` i `emnist-balanced-test`(uwaga pliki są duże i długo ładują się na Colab!)\n",
    "* wybrać przykłady o numerze klasy mniejszym niż 36, czyli cyfry i małe litery\n",
    "* zdefiniować i przeprowadzić trening modelu.\n",
    "  **Kod powinien jedynie używać funkcji zdefiniowanych w komórkach\n",
    "  zadania domowego i module `emnist_functions`**\n",
    "* kod treningu i rysowania powinien znaleźć się w odzielnych komórkach\n",
    "* wypisać na ekran dokładność, `accuracy`, modelu na zbiorach treningowym i testowym\n",
    "* dla zbiorów treningowego i testowego narysować macierze pomyłek z odpowiednimi etykietami na osiach\n",
    "* wskazać klasy, które słabo się separują\n",
    "* odkodować komunikat zapisany w pliku [encoded.npz](http://studenci.fuw.edu.pl/~akalinow/encoded.npz)\n",
    "    * plik zawiera macierz o kształcie `(-1,28,28)` którą można wczytać następująco:\n",
    "    ```Python\n",
    "    \n",
    "    fileName = \"encoded.npz\"\n",
    "    with open(fileName, 'rb') as file:\n",
    "        encoded = np.load(file)\n",
    "    ```\n",
    "* odkodowany komunikat wypisać na ekran w postaci napisu:\n",
    "```Python\n",
    "Decoded message is: hello world\n",
    "\n",
    "```    "
   ]
  },
  {
   "cell_type": "code",
   "execution_count": null,
   "metadata": {
    "editable": true,
    "id": "cMxKhSOmK-CE",
    "outputId": "e9c0cc4c-0cb9-4bf4-fd53-b600fa85b2af",
    "slideshow": {
     "slide_type": "slide"
    },
    "tags": []
   },
   "outputs": [],
   "source": [
    "#Input data loading\n",
    "#BEGIN_SOLUTION\n",
    "import emnist_functions as emnist_fcn\n",
    "importlib.reload(emnist_fcn);\n",
    "\n",
    "datasetName = \"emnist-balanced-train\"\n",
    "datasetPath = \"../data/EMNIST/gzip/\"\n",
    "lastClassNumber = 36\n",
    "\n",
    "x, y = emnist_fcn.getEMNIST(datasetName, datasetPath)\n",
    "mask = y<lastClassNumber\n",
    "x_train = x[mask]\n",
    "y_train = y[mask]\n",
    "\n",
    "datasetName = \"emnist-balanced-test\"\n",
    "datasetPath = \"../data/EMNIST/gzip/\"\n",
    "x, y = emnist_fcn.getEMNIST(datasetName, datasetPath)\n",
    "mask = y<lastClassNumber\n",
    "x_test = x[mask]\n",
    "y_test = y[mask]\n",
    "\n",
    "nCategories = len(tf.unique(y_train)[0])\n",
    "\n",
    "print(colored(\"Training data shapes:\",\"blue\"), x_train.shape, y_train.shape)\n",
    "print(colored(\"Test data shapes:\",\"blue\"), x_test.shape, y_test.shape)\n",
    "print(colored(\"Number of categories:\",\"blue\"),nCategories)\n",
    "#END_SOLUTION\n",
    "pass"
   ]
  },
  {
   "cell_type": "code",
   "execution_count": null,
   "metadata": {
    "editable": true,
    "id": "rA92PTuBK-CF",
    "outputId": "82ad4ecb-af8a-43a2-9051-e445c83510c9",
    "slideshow": {
     "slide_type": "slide"
    },
    "tags": []
   },
   "outputs": [],
   "source": [
    "%%time\n",
    "importlib.reload(emnist_fcn);\n",
    "\n",
    "#model definition and training\n",
    "#BEGIN_SOLUTION\n",
    "inputShape = (28,28)\n",
    "nNeurons = np.full((16),128)\n",
    "nOutputNeurons = nCategories\n",
    "\n",
    "model = emnist_fcn.getModel(inputShape=inputShape, nOutputNeurons=nOutputNeurons,\n",
    "                            nNeurons=nNeurons,\n",
    "                            hiddenActivation=\"relu\",\n",
    "                            outputActivation=\"softmax\")\n",
    "\n",
    "#configure learning process\n",
    "initial_learning_rate = 1E-3\n",
    "batchSize = 64\n",
    "nEpochs = 400\n",
    "\n",
    "nStepsPerEpoch = len(x_train)/batchSize\n",
    "lr_schedule = tf.keras.optimizers.schedules.ExponentialDecay(initial_learning_rate,\n",
    "                decay_steps=nStepsPerEpoch*10,\n",
    "                decay_rate=0.95,\n",
    "                staircase=False)\n",
    "\n",
    "model.compile(optimizer=tf.keras.optimizers.Adam(learning_rate=lr_schedule),\n",
    "              loss='sparse_categorical_crossentropy',\n",
    "              metrics=['accuracy'])\n",
    "\n",
    "#run training\n",
    "early_stop_callback = tf.keras.callbacks.EarlyStopping(monitor='loss', patience=5, verbose=1)\n",
    "callbacks = [early_stop_callback]\n",
    "\n",
    "history = model.fit(x=x_train, y=y_train,\n",
    "                    epochs=nEpochs,\n",
    "                    batch_size = batchSize,\n",
    "                    validation_split=0.1,\n",
    "                    callbacks=callbacks,\n",
    "                    verbose=0)\n",
    "plf.plotTrainHistory(history)\n",
    "print(colored(\"Evaluation on training dataset:\",\"blue\"))\n",
    "model.evaluate(x_train, y_train)\n",
    "print(colored(\"Evaluation on test dataset:\",\"blue\"))\n",
    "model.evaluate(x_test, y_test);\n",
    "#END_SOLUTION\n",
    "pass"
   ]
  },
  {
   "cell_type": "code",
   "execution_count": null,
   "metadata": {
    "editable": true,
    "id": "Y6LZTbUzK-CF",
    "outputId": "3d526f39-3d29-46ba-ab53-35369da620dc",
    "slideshow": {
     "slide_type": "slide"
    },
    "tags": []
   },
   "outputs": [],
   "source": [
    "#evaluation\n",
    "#BEGIN_SOLUTION\n",
    "y_pred = tf.argmax(model.predict(x_train), axis=1)\n",
    "emnist_fcn.plotMNIST_CM(y_train,y_pred,\"Training\")\n",
    "\n",
    "y_pred = tf.argmax(model.predict(x_test), axis=1)\n",
    "emnist_fcn.plotMNIST_CM(y_test,y_pred,\"Testing\")\n",
    "#END_SOLUTION\n",
    "pass"
   ]
  },
  {
   "cell_type": "code",
   "execution_count": null,
   "metadata": {
    "editable": true,
    "id": "BKl9zVDVK-CF",
    "outputId": "24a1ad3f-7081-4f20-dfac-723d717b4598",
    "slideshow": {
     "slide_type": "slide"
    },
    "tags": []
   },
   "outputs": [],
   "source": [
    "#BEGIN_SOLUTION\n",
    "#message encoding\n",
    "importlib.reload(emnist_fcn);\n",
    "text = \"the cake is a lie\"\n",
    "encoded = emnist_fcn.encodeMessage(text,x,y);\n",
    "\n",
    "fileName = \"encoded.npz\"\n",
    "with open(fileName, 'wb') as file:\n",
    "    np.save(file, encoded)\n",
    "#END_SOLUTION\n",
    "pass"
   ]
  },
  {
   "cell_type": "code",
   "execution_count": null,
   "metadata": {
    "editable": true,
    "id": "yTXpNgflK-CG",
    "outputId": "21b74023-e103-41f7-d180-e2b0c1ee1154",
    "slideshow": {
     "slide_type": "slide"
    },
    "tags": []
   },
   "outputs": [],
   "source": [
    "#message decoding\n",
    "#BEGIN_SOLUTION\n",
    "fileName = \"encoded.npz\"\n",
    "with open(fileName, 'rb') as file:\n",
    "    encoded = np.load(file)\n",
    "\n",
    "spaces_mask = np.sum(encoded, axis=(1,2))>0\n",
    "decoded = tf.argmax(model.predict(encoded), axis=1)\n",
    "digits = [str(item) for item in range(0,10)]\n",
    "letters_lower = list(string.ascii_lowercase)\n",
    "digits_letters = np.array(digits + letters_lower)\n",
    "decoded = digits_letters[decoded]\n",
    "decoded = np.where(spaces_mask, decoded, \" \")\n",
    "decoded = ''.join(decoded)\n",
    "print(colored(\"Decoded message is:\",\"blue\"),decoded)\n",
    "#END_SOLUTION\n",
    "pass"
   ]
  },
  {
   "cell_type": "code",
   "execution_count": null,
   "metadata": {},
   "outputs": [],
   "source": []
  }
 ],
 "metadata": {
  "colab": {
   "provenance": []
  },
  "kernelspec": {
   "display_name": "Python 3 (ipykernel)",
   "language": "python",
   "name": "python3"
  },
  "language_info": {
   "codemirror_mode": {
    "name": "ipython",
    "version": 3
   },
   "file_extension": ".py",
   "mimetype": "text/x-python",
   "name": "python",
   "nbconvert_exporter": "python",
   "pygments_lexer": "ipython3",
   "version": "3.11.0rc1"
  },
  "rise": {
   "center": false,
   "controls": false,
   "footer": "<h3>Letnia Szkoła<br>Fizyki 2023</h3>",
   "header": "<h1>Hello</h1>",
   "progress": "true",
   "slideNumber": "c/t",
   "transition": "none"
  }
 },
 "nbformat": 4,
 "nbformat_minor": 4
}
