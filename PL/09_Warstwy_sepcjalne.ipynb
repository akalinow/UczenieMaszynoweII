{
 "cells": [
  {
   "cell_type": "markdown",
   "metadata": {
    "editable": true,
    "slideshow": {
     "slide_type": "skip"
    },
    "tags": []
   },
   "source": [
    "## Inicjalizacja środowiska programistycznego"
   ]
  },
  {
   "cell_type": "code",
   "execution_count": 2,
   "metadata": {
    "editable": true,
    "slideshow": {
     "slide_type": "skip"
    },
    "tags": []
   },
   "outputs": [
    {
     "name": "stderr",
     "output_type": "stream",
     "text": [
      "2024-03-20 15:13:26.115820: E external/local_xla/xla/stream_executor/cuda/cuda_dnn.cc:9261] Unable to register cuDNN factory: Attempting to register factory for plugin cuDNN when one has already been registered\n",
      "2024-03-20 15:13:26.115845: E external/local_xla/xla/stream_executor/cuda/cuda_fft.cc:607] Unable to register cuFFT factory: Attempting to register factory for plugin cuFFT when one has already been registered\n",
      "2024-03-20 15:13:26.116647: E external/local_xla/xla/stream_executor/cuda/cuda_blas.cc:1515] Unable to register cuBLAS factory: Attempting to register factory for plugin cuBLAS when one has already been registered\n"
     ]
    }
   ],
   "source": [
    "#Color printing\n",
    "from termcolor import colored\n",
    "\n",
    "#General data operations library\n",
    "import math\n",
    "import string\n",
    "from datetime import datetime\n",
    "import numpy as np\n",
    "\n",
    "#The tensorflow library\n",
    "import os\n",
    "os.environ[\"TF_CPP_MIN_LOG_LEVEL\"] = \"1\"\n",
    "import tensorflow  as tf\n",
    "\n",
    "#Plotting libraries\n",
    "import matplotlib as mpl\n",
    "import matplotlib.pyplot as plt\n",
    "\n",
    "#Increase plots font size\n",
    "params = {'legend.fontsize': 'xx-large',\n",
    "          'figure.figsize': (10, 7),\n",
    "         'axes.labelsize': 'xx-large',\n",
    "         'axes.titlesize':'xx-large',\n",
    "         'xtick.labelsize':'xx-large',\n",
    "         'ytick.labelsize':'xx-large'}\n",
    "plt.rcParams.update(params) \n",
    "\n",
    "#append path with python modules\n",
    "import importlib\n",
    "import sys\n",
    "sys.path.append(\"../modules\")\n",
    "sys.path.append(\"/home/akalinow/scratch/Zajecia/2023-2024/Lato/Uczenie_maszynowe_2/UczenieMaszynoweII/modules\")\n",
    "\n",
    "#Private functions\n",
    "import plotting_functions as plf\n",
    "importlib.reload(plf);\n",
    "\n",
    "import emnist_functions as emnist_fcn\n",
    "importlib.reload(emnist_fcn);\n",
    "#Hide GPU\n",
    "#tf.config.set_visible_devices([], 'GPU')"
   ]
  },
  {
   "cell_type": "markdown",
   "metadata": {
    "editable": true,
    "slideshow": {
     "slide_type": "slide"
    },
    "tags": []
   },
   "source": [
    "<br/><br/>\n",
    "<br/><br/>\n",
    "\n",
    "<h1 align=\"center\">\n",
    " Uczenie maszynowe II\n",
    "</h1>\n",
    "\n",
    "<br/><br/>\n",
    "<br/><br/>\n",
    "<br/><br/>\n",
    "<br/><br/>\n",
    "\n",
    "<h1 align=\"right\">\n",
    "Artur Kalinowski <br>\n",
    "Uniwersytet Warszawski <br>\n",
    "Wydział Fizyki <br>    \n",
    "</h1>"
   ]
  },
  {
   "cell_type": "markdown",
   "metadata": {
    "editable": true,
    "slideshow": {
     "slide_type": "slide"
    },
    "tags": []
   },
   "source": [
    "Istnieje, niekompletny, zbiór standardowych operacji jakie wykonujemy na różnego typu danych. API Keras dostarcza gotowych \n",
    "warstw wykonujących wiele z tych operacji:\n",
    "\n",
    "```Python\n",
    "\n",
    " normalization = tf.keras.layers.Normalization(mean, variance) # Normalizacja danych do średniej mean i wariancji wariance\n",
    "                                                               # domyślnie mean=0, variance=1\n",
    "                                                               # normalizacja przebiega dla każdej cechy oddzielnie\n",
    "                                                               # wymaga ustalenia współczynników normalizacji przez metodę adapt(x)\n",
    "normalization.adapt(x)                                                             \n",
    "```\n",
    "```Python\n",
    "\n",
    "discretization = tf.keras.layers.Discretization(num_bins, bin_boundaries, output_mode) \n",
    "                 # Zamiana zmiennej ciągłej na dyskretną w postaci:\n",
    "                 # output_mode = int - numer przedziału (wartość domyślna)\n",
    "                 #               one_hot - wektor typu kodowania gorącojedynkowego\n",
    "                 # num_bins - liczba przedziałów (wymaga zawołania metody adapt(x))\n",
    "                 # bin_boundaries - zakresy przedziałów\n",
    "```"
   ]
  },
  {
   "cell_type": "markdown",
   "metadata": {},
   "source": [
    "**Proszę:**\n",
    "\n",
    "* wygenerować zbiór `(n,4)` liczb pochodzących z rozkładu płaskiego w zakresach `[[-5,5],[-4,2],[2,2]]`\n",
    "* wypisać na ekran wartości minimalne, maksymalne  i średnią cech w zbiorze\n",
    "* znormalizować dane do zakresu `[0,1]` dla każdej cechy oddzielnie\n",
    "* wypisać na ekran wartości minimalne, maksymalne  i średnią cech w znormalizowanym zbiorze"
   ]
  },
  {
   "cell_type": "code",
   "execution_count": 32,
   "metadata": {},
   "outputs": [
    {
     "name": "stdout",
     "output_type": "stream",
     "text": [
      "\u001b[34mmin =\u001b[0m [-4.999964 -3.999656  2.      ]\n",
      "\u001b[34mmean =\u001b[0m [ 0.04805842 -1.0023053   2.        ]\n",
      "\u001b[34mmax =\u001b[0m [4.9994793 1.999958  2.       ]\n",
      "\u001b[34mmin =\u001b[0m [-1.7373931 -1.7417412  0.       ]\n",
      "\u001b[34mmean =\u001b[0m [-2.5939942e-08  2.2602082e-08  0.0000000e+00]\n",
      "\u001b[34mmax =\u001b[0m [1.7041454 1.7445959 0.       ]\n"
     ]
    }
   ],
   "source": [
    "n = 10_000\n",
    "#BEGIN_SOLUTION\n",
    "x = tf.random.uniform([n, 3])\n",
    "scales = np.array([[-5,5],[-4,2],[2,2]])\n",
    "ranges = scales[:,1] - scales[:,0]\n",
    "x = x * ranges + scales[:,0]\n",
    "print(colored(\"min =\", \"blue\"), tf.math.reduce_min(x, axis=0).numpy())\n",
    "print(colored(\"mean =\", \"blue\"), tf.math.reduce_mean(x, axis=0).numpy())\n",
    "print(colored(\"max =\", \"blue\"), tf.math.reduce_max(x, axis=0).numpy())\n",
    "print(colored(\"stddev =\", \"blue\"), tf.math.reduce_std(x, axis=0).numpy()\n",
    "normalization = tf.keras.layers.Normalization()\n",
    "normalization.adapt(x)\n",
    "x = normalization(x)\n",
    "print(colored(\"min =\", \"blue\"), tf.math.reduce_min(x, axis=0).numpy())\n",
    "print(colored(\"mean =\", \"blue\"), tf.math.reduce_mean(x, axis=0).numpy())\n",
    "print(colored(\"max =\", \"blue\"), tf.math.reduce_max(x, axis=0).numpy())\n",
    "#END_SOLUTION\n"
   ]
  },
  {
   "cell_type": "markdown",
   "metadata": {},
   "source": [
    "**Proszę:**\n",
    "\n",
    "* zdyskretyzować dane do 10 przedziałów\n",
    "* narysować jeden histogram numerów przedziałów dla wszystkich cech\n",
    "* w histogramie użyć granic przedziałów znalezionych przez `tf.keras.layers.Discretization(...)`"
   ]
  },
  {
   "cell_type": "code",
   "execution_count": 46,
   "metadata": {},
   "outputs": [
    {
     "data": {
      "image/png": "[encoded data removed]",
      "text/plain": [
       "<Figure size 1000x700 with 1 Axes>"
      ]
     },
     "metadata": {},
     "output_type": "display_data"
    }
   ],
   "source": [
    "#BEGIN_SOLUTION\n",
    "discretization = tf.keras.layers.Discretization(num_bins = 10)\n",
    "discretization.adapt(x)\n",
    "x = discretization(x)\n",
    "\n",
    "plt.hist(tf.reshape(shape=(-1,), tensor=x), bins = discretization.bin_boundaries)\n",
    "#END_SOLUTION\n",
    "pass"
   ]
  },
  {
   "cell_type": "markdown",
   "metadata": {},
   "source": [
    "# Zadanie domowe\n"
   ]
  },
  {
   "cell_type": "code",
   "execution_count": 43,
   "metadata": {},
   "outputs": [
    {
     "data": {
      "text/plain": [
       "ListWrapper([1.0, 2.0, 5.0, 5.0, 5.0, 6.0, 7.0, 8.0, 9.0])"
      ]
     },
     "execution_count": 43,
     "metadata": {},
     "output_type": "execute_result"
    }
   ],
   "source": [
    "discretization.bin_boundaries"
   ]
  },
  {
   "cell_type": "code",
   "execution_count": null,
   "metadata": {},
   "outputs": [],
   "source": []
  }
 ],
 "metadata": {
  "colab": {
   "collapsed_sections": [],
   "name": "01_Pakiety_numpy_pandas.ipynb",
   "provenance": [
    {
     "file_id": "0BzwQ_Lscn8yDWnZVeHU1MjluWFU",
     "timestamp": 1546856440599
    }
   ]
  },
  "kernelspec": {
   "display_name": "Python 3 (ipykernel)",
   "language": "python",
   "name": "python3"
  },
  "language_info": {
   "codemirror_mode": {
    "name": "ipython",
    "version": 3
   },
   "file_extension": ".py",
   "mimetype": "text/x-python",
   "name": "python",
   "nbconvert_exporter": "python",
   "pygments_lexer": "ipython3",
   "version": "3.11.0rc1"
  },
  "rise": {
   "center": false,
   "controls": false,
   "footer": "<h3>Letnia Szkoła<br>Fizyki 2023</h3>",
   "header": "<h1>Hello</h1>",
   "progress": "true",
   "slideNumber": "c/t",
   "transition": "none"
  }
 },
 "nbformat": 4,
 "nbformat_minor": 4
}
