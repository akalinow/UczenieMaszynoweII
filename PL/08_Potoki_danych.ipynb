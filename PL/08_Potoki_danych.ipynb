{
 "cells": [
  {
   "cell_type": "markdown",
   "metadata": {
    "editable": true,
    "slideshow": {
     "slide_type": "skip"
    },
    "tags": []
   },
   "source": [
    "## Inicjalizacja środowiska programistycznego"
   ]
  },
  {
   "cell_type": "code",
   "execution_count": 59,
   "metadata": {
    "editable": true,
    "slideshow": {
     "slide_type": "skip"
    },
    "tags": []
   },
   "outputs": [],
   "source": [
    "#Color printing\n",
    "from termcolor import colored\n",
    "\n",
    "#General data operations library\n",
    "import math\n",
    "import string\n",
    "from datetime import datetime\n",
    "import numpy as np\n",
    "\n",
    "#The tensorflow library\n",
    "import os\n",
    "os.environ[\"TF_CPP_MIN_LOG_LEVEL\"] = \"1\"\n",
    "import tensorflow  as tf\n",
    "\n",
    "#Plotting libraries\n",
    "import matplotlib as mpl\n",
    "import matplotlib.pyplot as plt\n",
    "\n",
    "#Increase plots font size\n",
    "params = {'legend.fontsize': 'xx-large',\n",
    "          'figure.figsize': (10, 7),\n",
    "         'axes.labelsize': 'xx-large',\n",
    "         'axes.titlesize':'xx-large',\n",
    "         'xtick.labelsize':'xx-large',\n",
    "         'ytick.labelsize':'xx-large'}\n",
    "plt.rcParams.update(params) \n",
    "\n",
    "import os\n",
    "os.chdir(\"/scratch_hdd/akalinow/Zajecia/2023-2024/Lato/Uczenie_maszynowe_2/UczenieMaszynoweII/PL/\")\n",
    "\n",
    "#append path with python modules\n",
    "import importlib\n",
    "import sys\n",
    "sys.path.append(\"../modules\")\n",
    "\n",
    "#Private functions\n",
    "import plotting_functions as plf\n",
    "importlib.reload(plf);\n",
    "\n",
    "#Hide GPU\n",
    "#tf.config.set_visible_devices([], 'GPU')"
   ]
  },
  {
   "cell_type": "markdown",
   "metadata": {
    "editable": true,
    "slideshow": {
     "slide_type": "slide"
    },
    "tags": []
   },
   "source": [
    "<br/><br/>\n",
    "<br/><br/>\n",
    "\n",
    "<h1 align=\"center\">\n",
    " Uczenie maszynowe II\n",
    "</h1>\n",
    "\n",
    "<br/><br/>\n",
    "<br/><br/>\n",
    "<br/><br/>\n",
    "<br/><br/>\n",
    "\n",
    "<h1 align=\"right\">\n",
    "Artur Kalinowski <br>\n",
    "Uniwersytet Warszawski <br>\n",
    "Wydział Fizyki <br>    \n",
    "</h1>"
   ]
  },
  {
   "cell_type": "markdown",
   "metadata": {
    "editable": true,
    "slideshow": {
     "slide_type": "slide"
    },
    "tags": []
   },
   "source": [
    "Dane w postaci pary macierzy `x,y` są mało wydajne w sytuacji gdy jest ich dużo lub są rozmieszczone w wielu plikach.\n",
    "TF dostarcza dedykowaną klasę do obsługi strumienia wejścia:\n",
    "```Python\n",
    "tf.data.Dataset(variant_tensor)\n",
    "```\n",
    "\n",
    "Klasa `tf.Dataset` pozwala na zaawansowane operacje na danych. Implementacja tych operacji korzysta równoległego przetwarzania danych w celu zwiększenia przepustowości strumienia wejścia: `liczby przykładów na sekundę`.\n"
   ]
  },
  {
   "cell_type": "markdown",
   "metadata": {
    "editable": true,
    "slideshow": {
     "slide_type": "slide"
    },
    "tags": []
   },
   "source": [
    "\n",
    "Obiekt `tf.Dataset` można tworzyć na wiele sposobów:\n",
    "\n",
    "* z macierzy:\n",
    "\n",
    "```Python\n",
    "dataset = tf.data.Dataset.from_tensor_slices([1, 2, 3])\n",
    "```\n",
    "\n",
    "* z funkcji typu generator\n",
    "\n",
    "```Python\n",
    "dataset = tf.data.Dataset.from_generator(...)\n",
    "```\n",
    "\n",
    "* z pliku typu CSV\n",
    "\n",
    "```Python\n",
    "dataset = tf.data.TextLineDataset(...)\n",
    "```\n",
    "\n",
    "* z pliku zawierającego dane w dedykowanym formacie `TFRecord`\n",
    "\n",
    "```Python\n",
    "dataset = tf.data.TFRecordDataset([\"file1.tfrecords\", \"file2.tfrecords\"])\n",
    "```\n",
    "\n"
   ]
  },
  {
   "cell_type": "markdown",
   "metadata": {
    "editable": true,
    "slideshow": {
     "slide_type": "slide"
    },
    "tags": []
   },
   "source": [
    "Konstrukcja `tf.data.Dataset` z macierzy NumPy"
   ]
  },
  {
   "cell_type": "code",
   "execution_count": 60,
   "metadata": {
    "editable": true,
    "slideshow": {
     "slide_type": "fragment"
    },
    "tags": []
   },
   "outputs": [
    {
     "name": "stdout",
     "output_type": "stream",
     "text": [
      "\u001b[34mFeatures shape:\u001b[0m (5, 3)\n",
      "\u001b[34mLabels shape:\u001b[0m (5, 1)\n",
      "<_TensorSliceDataset element_spec=(TensorSpec(shape=(3,), dtype=tf.float32, name=None), TensorSpec(shape=(1,), dtype=tf.float32, name=None))>\n",
      "\u001b[34mDataset lenght:\u001b[0m 5\n"
     ]
    }
   ],
   "source": [
    "nExamples = 5\n",
    "nFeatures = 3\n",
    "epsilon = 0.01\n",
    "x = tf.random.uniform((nExamples, nFeatures), minval=-1, maxval=1, dtype=tf.float32, name=\"features\")\n",
    "y = tf.math.reduce_sum(x**2, axis=1)\n",
    "y = tf.reshape(y, (-1, 1))\n",
    "\n",
    "print(colored(\"Features shape:\", \"blue\"), x.shape)\n",
    "print(colored(\"Labels shape:\", \"blue\"), y.shape)\n",
    "\n",
    "dataset = tf.data.Dataset.from_tensor_slices((x, y))\n",
    "print(dataset)\n",
    "print(colored(\"Dataset lenght:\", \"blue\"), len(dataset))"
   ]
  },
  {
   "cell_type": "markdown",
   "metadata": {},
   "source": [
    "`tf.Dataset` zachowuje się jak kolekcja - można po niej iterować łatwo dostosowując liczbę analizowanych elementów i punkt startowy:"
   ]
  },
  {
   "cell_type": "code",
   "execution_count": 61,
   "metadata": {
    "editable": true,
    "slideshow": {
     "slide_type": "slide"
    },
    "tags": []
   },
   "outputs": [
    {
     "name": "stdout",
     "output_type": "stream",
     "text": [
      "\u001b[34mIteration over the full dataset\u001b[0m\n",
      "(<tf.Tensor: shape=(3,), dtype=float32, numpy=array([ 0.70642304, -0.16399813,  0.0906992 ], dtype=float32)>, <tf.Tensor: shape=(1,), dtype=float32, numpy=array([0.53415525], dtype=float32)>)\n",
      "(<tf.Tensor: shape=(3,), dtype=float32, numpy=array([0.39966893, 0.8525026 , 0.8260205 ], dtype=float32)>, <tf.Tensor: shape=(1,), dtype=float32, numpy=array([1.5688057], dtype=float32)>)\n",
      "(<tf.Tensor: shape=(3,), dtype=float32, numpy=array([ 0.09601212, -0.07769799,  0.4535625 ], dtype=float32)>, <tf.Tensor: shape=(1,), dtype=float32, numpy=array([0.22097424], dtype=float32)>)\n",
      "(<tf.Tensor: shape=(3,), dtype=float32, numpy=array([-0.31417036, -0.3540032 , -0.09977555], dtype=float32)>, <tf.Tensor: shape=(1,), dtype=float32, numpy=array([0.23397644], dtype=float32)>)\n",
      "(<tf.Tensor: shape=(3,), dtype=float32, numpy=array([ 0.61082554, -0.57886815,  0.58420825], dtype=float32)>, <tf.Tensor: shape=(1,), dtype=float32, numpy=array([1.0494955], dtype=float32)>)\n",
      "\u001b[34mIteration over n elements\u001b[0m\n",
      "(<tf.Tensor: shape=(3,), dtype=float32, numpy=array([ 0.70642304, -0.16399813,  0.0906992 ], dtype=float32)>, <tf.Tensor: shape=(1,), dtype=float32, numpy=array([0.53415525], dtype=float32)>)\n",
      "(<tf.Tensor: shape=(3,), dtype=float32, numpy=array([0.39966893, 0.8525026 , 0.8260205 ], dtype=float32)>, <tf.Tensor: shape=(1,), dtype=float32, numpy=array([1.5688057], dtype=float32)>)\n",
      "(<tf.Tensor: shape=(3,), dtype=float32, numpy=array([ 0.09601212, -0.07769799,  0.4535625 ], dtype=float32)>, <tf.Tensor: shape=(1,), dtype=float32, numpy=array([0.22097424], dtype=float32)>)\n",
      "\u001b[34mIteration over n elements starting from m\u001b[0m\n",
      "(<tf.Tensor: shape=(3,), dtype=float32, numpy=array([ 0.09601212, -0.07769799,  0.4535625 ], dtype=float32)>, <tf.Tensor: shape=(1,), dtype=float32, numpy=array([0.22097424], dtype=float32)>)\n",
      "(<tf.Tensor: shape=(3,), dtype=float32, numpy=array([-0.31417036, -0.3540032 , -0.09977555], dtype=float32)>, <tf.Tensor: shape=(1,), dtype=float32, numpy=array([0.23397644], dtype=float32)>)\n",
      "(<tf.Tensor: shape=(3,), dtype=float32, numpy=array([ 0.61082554, -0.57886815,  0.58420825], dtype=float32)>, <tf.Tensor: shape=(1,), dtype=float32, numpy=array([1.0494955], dtype=float32)>)\n"
     ]
    },
    {
     "name": "stderr",
     "output_type": "stream",
     "text": [
      "2024-05-15 13:07:37.847291: W tensorflow/core/framework/local_rendezvous.cc:404] Local rendezvous is aborting with status: OUT_OF_RANGE: End of sequence\n",
      "2024-05-15 13:07:37.857469: W tensorflow/core/framework/local_rendezvous.cc:404] Local rendezvous is aborting with status: OUT_OF_RANGE: End of sequence\n",
      "2024-05-15 13:07:37.868223: W tensorflow/core/framework/local_rendezvous.cc:404] Local rendezvous is aborting with status: OUT_OF_RANGE: End of sequence\n"
     ]
    }
   ],
   "source": [
    "print(colored(\"Iteration over the full dataset\", \"blue\"))\n",
    "for item in dataset:\n",
    "    print(item)\n",
    "\n",
    "print(colored(\"Iteration over n elements\", \"blue\"))\n",
    "n = 3\n",
    "for item in dataset.take(n):\n",
    "    print(item)\n",
    "\n",
    "print(colored(\"Iteration over n elements starting from m\", \"blue\"))\n",
    "n = 3\n",
    "m = 2\n",
    "for item in dataset.skip(m).take(n):\n",
    "    print(item)    "
   ]
  },
  {
   "cell_type": "markdown",
   "metadata": {
    "editable": true,
    "slideshow": {
     "slide_type": "slide"
    },
    "tags": []
   },
   "source": [
    "Konstrukcja `tf.Dataset` z funkcji generującej.\n",
    "\n",
    "W tym wypadku oprócz funkcji generującej musimy podać informacje o kształcie i typie danych generowanych przez funkcję:\n",
    "```Python\n",
    "dataset = tf.data.Dataset.from_generator(\n",
    "         generator,                                      # funkcja generująca\n",
    "         output_signature=(                              # opis kształtu i typu\n",
    "             (tf.TensorSpec(shape=(3), dtype=tf.float32),# danych generowanych\n",
    "             tf.TensorSpec(shape=(1), dtype=tf.int32)))  # przez funkcję\n",
    "    )\n",
    "```"
   ]
  },
  {
   "cell_type": "code",
   "execution_count": 62,
   "metadata": {
    "editable": true,
    "slideshow": {
     "slide_type": "slide"
    },
    "tags": []
   },
   "outputs": [],
   "source": [
    "#Generator function definition\n",
    "nFeatures = 3\n",
    "\n",
    "def points3DGenerator():\n",
    "    while True:\n",
    "        x = tf.random.uniform(shape=(nFeatures,), minval=-1, maxval=1, dtype=tf.float32, name=\"features\")\n",
    "        y = tf.math.reduce_sum(x**2, axis=0)\n",
    "        y = tf.reshape(y, (1))\n",
    "        yield x,y\n",
    "\n",
    "#Dataset from generator\n",
    "dataset = tf.data.Dataset.from_generator(points3DGenerator,\n",
    "         output_signature=(\n",
    "             (tf.TensorSpec(shape=(nFeatures,), dtype=tf.float32, name=\"features\"),\n",
    "             tf.TensorSpec(shape=(1), dtype=tf.float32, name=\"labels\")))\n",
    "    )\n"
   ]
  },
  {
   "cell_type": "code",
   "execution_count": 63,
   "metadata": {
    "editable": true,
    "slideshow": {
     "slide_type": "slide"
    },
    "tags": []
   },
   "outputs": [
    {
     "name": "stdout",
     "output_type": "stream",
     "text": [
      "\u001b[34mIteration over n elements starting from m\u001b[0m\n",
      "(<tf.Tensor: shape=(3,), dtype=float32, numpy=array([ 0.9817717 , -0.05494142, -0.9701934 ], dtype=float32)>, <tf.Tensor: shape=(1,), dtype=float32, numpy=array([1.9081695], dtype=float32)>)\n",
      "(<tf.Tensor: shape=(3,), dtype=float32, numpy=array([-0.94518423, -0.53758335,  0.64192843], dtype=float32)>, <tf.Tensor: shape=(1,), dtype=float32, numpy=array([1.5944412], dtype=float32)>)\n",
      "(<tf.Tensor: shape=(3,), dtype=float32, numpy=array([-0.04743147, -0.14542818,  0.43926334], dtype=float32)>, <tf.Tensor: shape=(1,), dtype=float32, numpy=array([0.21635139], dtype=float32)>)\n"
     ]
    },
    {
     "name": "stderr",
     "output_type": "stream",
     "text": [
      "2024-05-15 13:07:38.044234: W tensorflow/core/framework/local_rendezvous.cc:404] Local rendezvous is aborting with status: OUT_OF_RANGE: End of sequence\n"
     ]
    }
   ],
   "source": [
    "print(colored(\"Iteration over n elements starting from m\", \"blue\"))\n",
    "n = 3\n",
    "m = 2\n",
    "for item in dataset.skip(m).take(n):\n",
    "    print(item) "
   ]
  },
  {
   "cell_type": "markdown",
   "metadata": {
    "editable": true,
    "slideshow": {
     "slide_type": "slide"
    },
    "tags": []
   },
   "source": [
    "Na zbiorze `tf.Dataset` można wykonywać różne operacje przekształcenia:\n",
    "\n",
    "```Python\n",
    "dataset = dataset.repeat(n) - # powtarza dane n razy\n",
    "                              # W sytuacji gdy nie podano argumentu\n",
    "                              # dane są powtarzane w nieskończoność.\n",
    "```\n",
    "\n",
    "**Uwaga:** nie trzeba używać `repeat` by uzyskać wiele epok w czasie treningu. Funkcja `model.fit(...)` \n",
    "sama zarządza wielokrotnymi przejściami przez zbiór danych\n",
    "\n",
    "```Python\n",
    "dataset = dataset.batch(n)   - # grupowanie zbioru w paczki. \n",
    "                               # W czasie treningu paczki są automatycznie \n",
    "                               # rozpoznane i nie trzeba (nie wolno) podawać \n",
    "                               # rozmiaru paczki explicite. \n",
    "```\n",
    "\n",
    "```Python\n",
    "dataset = dataset.skip(m)    - # opuszcza pierwsze m przykładów\n",
    "                              \n",
    "```\n",
    "\n",
    "```Python\n",
    "dataset = dataset.take(n)    - # ogranicza zbiór do pierwszych n przykładów\n",
    "                              \n",
    "```\n",
    "\n",
    "```Python\n",
    "dataset = dataset.skip(m).take(n)    - # opuszcza pierwsze m, oraz bierze \n",
    "                                       # kolejne n przykładów\n",
    "                              \n",
    "```"
   ]
  },
  {
   "cell_type": "code",
   "execution_count": 64,
   "metadata": {
    "editable": true,
    "slideshow": {
     "slide_type": "slide"
    },
    "tags": []
   },
   "outputs": [
    {
     "name": "stdout",
     "output_type": "stream",
     "text": [
      "\u001b[34mFeatures shape:\u001b[0m (2, 3)\n",
      "\u001b[34mLabels shape:\u001b[0m (2, 1)\n",
      "\u001b[34mIteration over n elements starting from m\u001b[0m\n",
      "\u001b[34m\tLabels:\u001b[0m [[-0.9330666   0.65841126  0.82024574]\n",
      " [-0.2196424   0.4434662  -0.06311536]]\n",
      "\u001b[34m\tFeatures:\u001b[0m [[1.9769218]\n",
      " [0.2488886]]\n"
     ]
    },
    {
     "name": "stderr",
     "output_type": "stream",
     "text": [
      "2024-05-15 13:07:38.170753: W tensorflow/core/framework/local_rendezvous.cc:404] Local rendezvous is aborting with status: OUT_OF_RANGE: End of sequence\n"
     ]
    }
   ],
   "source": [
    "dataset_batched = dataset.batch(2)\n",
    "\n",
    "#Access a single example (batch in this case)\n",
    "it = iter(dataset_batched)\n",
    "print(colored(\"Features shape:\", \"blue\"), next(it)[0].numpy().shape)\n",
    "print(colored(\"Labels shape:\", \"blue\"), next(it)[1].numpy().shape)\n",
    "\n",
    "print(colored(\"Iteration over n elements starting from m\", \"blue\"))\n",
    "m = 5\n",
    "n = 1\n",
    "for item in dataset_batched.skip(m).take(n):\n",
    "    print(colored(\"\\tLabels:\",\"blue\"),item[0].numpy())\n",
    "    print(colored(\"\\tFeatures:\",\"blue\"),item[1].numpy())"
   ]
  },
  {
   "cell_type": "markdown",
   "metadata": {},
   "source": [
    "```Python\n",
    "dataset = dataset.filter(func)    - # filtruje zbiór na podstawie odpowiedzi\n",
    "                                    # funkcji func(...) przyjmującej wiersz ze zbioru\n",
    "                                    # jako argument\n",
    "                              \n",
    "```\n",
    "\n",
    "```Python\n",
    "dataset = dataset.shuffle(buffer_size) - # tasuje zbiór używając bufora o rozmiarze \n",
    "                                         # buffer_size \n",
    "                              \n",
    "```"
   ]
  },
  {
   "cell_type": "markdown",
   "metadata": {
    "editable": true,
    "slideshow": {
     "slide_type": "slide"
    },
    "tags": []
   },
   "source": [
    "Zbiór danych można poddać też ogólnej transformacji zmieniającej zawartość poszczególnych wierszy:\n",
    "```Python\n",
    "dataset_transformed = dataset.map(func) # func to funkcja przyjmująca dany wiersz i zwracająca nowy\n",
    "```"
   ]
  },
  {
   "cell_type": "code",
   "execution_count": 84,
   "metadata": {
    "editable": true,
    "slideshow": {
     "slide_type": "slide"
    },
    "tags": []
   },
   "outputs": [
    {
     "name": "stdout",
     "output_type": "stream",
     "text": [
      "\u001b[34mIteration over original dataset\u001b[0m\n",
      "\u001b[34m\tLabels:\u001b[0m [-0.38900065  0.9180629  -0.586745  ]\n",
      "\u001b[34m\tFeatures:\u001b[0m [1.3384308]\n",
      "\u001b[34mIteration over transformed dataset\u001b[0m\n",
      "\u001b[34m\tLabels:\u001b[0m [0.15132152 0.84283954 0.34426972]\n",
      "\u001b[34m\tFeatures:\u001b[0m [1.3384308]\n"
     ]
    },
    {
     "name": "stderr",
     "output_type": "stream",
     "text": [
      "2024-05-15 13:09:07.382830: W tensorflow/core/framework/local_rendezvous.cc:404] Local rendezvous is aborting with status: OUT_OF_RANGE: End of sequence\n",
      "2024-05-15 13:09:07.407160: W tensorflow/core/framework/local_rendezvous.cc:404] Local rendezvous is aborting with status: OUT_OF_RANGE: End of sequence\n",
      "2024-05-15 13:09:07.418572: W tensorflow/core/framework/local_rendezvous.cc:404] Local rendezvous is aborting with status: OUT_OF_RANGE: End of sequence\n"
     ]
    }
   ],
   "source": [
    "#use square value of features\n",
    "def func(features, label):\n",
    "    return features**2, label\n",
    "\n",
    "dataset_cached = dataset.take(12).cache()\n",
    "for item in dataset_cached:\n",
    "    pass\n",
    "\n",
    "dataset_transformed = dataset_cached.map(func)\n",
    "\n",
    "print(colored(\"Iteration over original dataset\", \"blue\"))\n",
    "for item in dataset_cached.skip(m).take(n):\n",
    "    print(colored(\"\\tLabels:\",\"blue\"),item[0].numpy())\n",
    "    print(colored(\"\\tFeatures:\",\"blue\"),item[1].numpy())\n",
    "\n",
    "print(colored(\"Iteration over transformed dataset\", \"blue\"))\n",
    "for item in dataset_transformed.skip(m).take(n):\n",
    "    print(colored(\"\\tLabels:\",\"blue\"),item[0].numpy())\n",
    "    print(colored(\"\\tFeatures:\",\"blue\"),item[1].numpy())"
   ]
  },
  {
   "cell_type": "markdown",
   "metadata": {
    "editable": true,
    "slideshow": {
     "slide_type": "slide"
    },
    "tags": []
   },
   "source": [
    "**Proszę:**\n",
    "\n",
    "* skopiować funkcję `discGenerator` z poprzednich zajęć\n",
    "* stworzyć zbiór `tf.Dataset` obrazów kół korzystając bezpośrednio z generatora. Proszę przyjąć rozdzielczość 256 $\\times$ 256"
   ]
  },
  {
   "cell_type": "code",
   "execution_count": null,
   "metadata": {
    "editable": true,
    "slideshow": {
     "slide_type": "slide"
    },
    "tags": []
   },
   "outputs": [],
   "source": [
    "def discGenerator(res=256):\n",
    "\n",
    "    from skimage.draw import disk\n",
    "    while True:\n",
    "        center = tf.random.uniform([2], minval=0, maxval = res, dtype=tf.int32, name='center')\n",
    "        radius = tf.random.uniform([1], minval=5, maxval = res//2, dtype=tf.int32, name='radius')        \n",
    "        shape = (res, res)\n",
    "        image = np.full(shape, 0)\n",
    "        yy, xx = disk(center=center.numpy(), radius=radius.numpy()[0], shape=shape)\n",
    "        image[xx,yy] = 1\n",
    "        features = tf.concat(values=(center, radius), axis=0 )\n",
    "        label = tf.constant(image, dtype=tf.int32, name='image')\n",
    "        label = tf.reshape(label, (res, res, 1))\n",
    "        yield  features, label\n",
    "\n",
    "#BEGIN_SOLUTION\n",
    "res = 256\n",
    "dataset = tf.data.Dataset.from_generator(discGenerator,\n",
    "         output_signature=(\n",
    "             (tf.TensorSpec(shape=(3), dtype=tf.int32),\n",
    "             tf.TensorSpec(shape=(res,res,1), dtype=tf.int32)))\n",
    "    )\n",
    "#END_SOLUTION\n",
    "\n",
    "item = next(iter(dataset))\n",
    "print(colored(\"Features shape:\", \"blue\"), item[0].shape)\n",
    "print(colored(\"Labels shape:\", \"blue\"), item[1].shape)"
   ]
  },
  {
   "cell_type": "markdown",
   "metadata": {
    "editable": true,
    "slideshow": {
     "slide_type": "slide"
    },
    "tags": []
   },
   "source": [
    "**Proszę:**\n",
    "\n",
    "* napisać funkcję `reading_benchmark(dataset)` która przyjmuje zbiór danych, iteruje po całym zbiorze i oblicza i \n",
    "   wypisuje na ekran swój czas wykonania\n",
    "* w iteracjach po elementach zbioru proszę wstawić krótki postój:\n",
    "```Python\n",
    "time.sleep(1E-10)\n",
    "```\n",
    "* proszę wywołać funkcję na zbiorze który ma $10^{4}$ elementów i zarejestrować czas przebiegu po zbiorze"
   ]
  },
  {
   "cell_type": "code",
   "execution_count": 85,
   "metadata": {
    "editable": true,
    "slideshow": {
     "slide_type": "slide"
    },
    "tags": []
   },
   "outputs": [
    {
     "name": "stdout",
     "output_type": "stream",
     "text": [
      "Execution time: 6.10 s\n"
     ]
    },
    {
     "name": "stderr",
     "output_type": "stream",
     "text": [
      "2024-05-15 13:09:36.340633: W tensorflow/core/framework/local_rendezvous.cc:404] Local rendezvous is aborting with status: OUT_OF_RANGE: End of sequence\n"
     ]
    }
   ],
   "source": [
    "import time\n",
    "\n",
    "def reading_benchmark(dataset):\n",
    "#BEGIN_SOLUTION \n",
    "    start_time = time.perf_counter()\n",
    "    for sample in dataset:\n",
    "        # Performing a training step\n",
    "        time.sleep(1E-10)\n",
    "    tf.print(\"Execution time: {:3.2f} s\".format(time.perf_counter() - start_time))\n",
    "\n",
    "\n",
    "reading_benchmark(dataset.take(int(1E4)))    \n",
    "#END_SOLUTION    \n",
    "pass"
   ]
  },
  {
   "cell_type": "markdown",
   "metadata": {
    "editable": true,
    "slideshow": {
     "slide_type": "slide"
    },
    "tags": []
   },
   "source": [
    "Generacja danych za każdym razem kiedy jest wywoływana iteracja po zbiorze jest kosztowana - \n",
    "lepiej wygenerować dane raz i je zapisać w pamięci podręcznej. To samo dotyczy zbiorów czytanych z dysku i \n",
    "poddawanych kosztownym operacjom przekształcania. Zapisywanie zbioru w tymczasowym pliku można uzyskać przez metodę `cache`:\n",
    "```Python\n",
    "dataset_cached = dataset.cache()\n",
    "```"
   ]
  },
  {
   "cell_type": "markdown",
   "metadata": {
    "editable": true,
    "slideshow": {
     "slide_type": "slide"
    },
    "tags": []
   },
   "source": [
    "**Proszę:**\n",
    "\n",
    "* wywołać dwa razy funkcję `reading_benchmark` na zbiorze `dataset_cached`\n",
    "* czy jest jakaś różnica w czasie wykonania?\n",
    "* jeśli tak, to skąd się ona bierze?"
   ]
  },
  {
   "cell_type": "code",
   "execution_count": 86,
   "metadata": {
    "editable": true,
    "slideshow": {
     "slide_type": "slide"
    },
    "tags": []
   },
   "outputs": [
    {
     "name": "stdout",
     "output_type": "stream",
     "text": [
      "\u001b[34mFirst pass\u001b[0m\n",
      "Execution time: 5.96 s\n"
     ]
    },
    {
     "name": "stderr",
     "output_type": "stream",
     "text": [
      "2024-05-15 13:09:47.678555: W tensorflow/core/framework/local_rendezvous.cc:404] Local rendezvous is aborting with status: OUT_OF_RANGE: End of sequence\n"
     ]
    },
    {
     "name": "stdout",
     "output_type": "stream",
     "text": [
      "\u001b[34mSecond pass\u001b[0m\n",
      "Execution time: 1.82 s\n"
     ]
    },
    {
     "name": "stderr",
     "output_type": "stream",
     "text": [
      "2024-05-15 13:09:49.495553: W tensorflow/core/framework/local_rendezvous.cc:404] Local rendezvous is aborting with status: OUT_OF_RANGE: End of sequence\n"
     ]
    }
   ],
   "source": [
    "#BEGIN_SOLUTION\n",
    "dataset_cached = dataset.take(int(1E4)).cache()\n",
    "\n",
    "print(colored(\"First pass\", \"blue\"))\n",
    "reading_benchmark(dataset_cached)\n",
    "print(colored(\"Second pass\", \"blue\"))\n",
    "reading_benchmark(dataset_cached)\n",
    "#END_SOLUTION\n",
    "pass"
   ]
  },
  {
   "cell_type": "markdown",
   "metadata": {
    "editable": true,
    "slideshow": {
     "slide_type": "slide"
    },
    "tags": []
   },
   "source": [
    "Każdy wiersz danych w postaci `tf.Dataset` powinien zawierać cechy i etykiety by można go było przekazać do funkcji trenującej model:\n",
    "```Python\n",
    "model.fit(dataset, ...)  #Podajemy tylko tf.Dataset. \n",
    "                         #Metoda model.fit(...) sama rozkłada każdy wiersz na cechy i etykiety\n",
    "```\n",
    "\n",
    "Jeśli `tf.Dataset` pochodzi z generatora, jako dane walidacyjne najlepiej podać nowy zbiór. \n",
    "W tej sytuacji trzeba także podać liczbę przykładów dla obu zbiorów:\n",
    "\n",
    "```Python\n",
    "model.fit(dataset.batch(batchSize).take(nStepsPerEpoch),\n",
    "          epochs=nEpochs, \n",
    "          validation_data=dataset.batch(batchSize).map(mapFunc).take(100))\n",
    "```"
   ]
  },
  {
   "cell_type": "markdown",
   "metadata": {
    "editable": true,
    "slideshow": {
     "slide_type": "slide"
    },
    "tags": []
   },
   "source": [
    "**Proszę:**\n",
    "\n",
    "* wytrenować **minimalny** model obliczający kwadrat odległości punktu od środka układu współrzędnych\n",
    "* jako zbiorów uczacego, walidacyjnego i testowego proszę użyć obiektów `tf.Dataset` wypełnionych z użyciem generatora `points3DGenerator(...)`\n",
    "* użyć funkcji z użyciem `tf.Dataset.map(...)` do zastąpienia współrzędnych ich kwadratami\n",
    "* przyjąć następujące parametry treningu:\n",
    "```Python\n",
    "nEpochs = 5\n",
    "nStepsPerEpoch = 4096\n",
    "batchSize = 32\n",
    "initial_learning_rate = 5E-2\n",
    "```\n",
    "* narysować historię treningu\n",
    "* wypisać wagi modelu w sposób pozwalający na interpretację\n",
    "* obliczyć ułamek przykładów ze zbioru testowego dla którego wynik modelu różni się od etykiety o nie więcej niż 1%\n",
    "\n",
    "**Wskazówka:**\n",
    "wartości etykiet można wydobyć w następujący (suboptymalny) sposób:\n",
    "```Python\n",
    "y = np.array([y.numpy() for x,y in dataset_test.unbatch()])\n",
    "```\n",
    "\n",
    "**Uwaga:** trening powinien zająć około 3'\n",
    "\n",
    "Czy wynik na zbiorze testowym jest zgodny z oczekiwaniem?"
   ]
  },
  {
   "cell_type": "markdown",
   "metadata": {},
   "source": [
    "1) Przygotowanie danych z generatora."
   ]
  },
  {
   "cell_type": "code",
   "execution_count": 87,
   "metadata": {
    "editable": true,
    "slideshow": {
     "slide_type": "slide"
    },
    "tags": []
   },
   "outputs": [
    {
     "name": "stdout",
     "output_type": "stream",
     "text": [
      "\u001b[34mFeatures shape:\u001b[0m (3,)\n",
      "\u001b[34mLabels shape:\u001b[0m (1,)\n"
     ]
    }
   ],
   "source": [
    "##BEGIN_SOLUTION\n",
    "dataset = tf.data.Dataset.from_generator(points3DGenerator,\n",
    "         output_signature=(\n",
    "             (tf.TensorSpec(shape=(nFeatures,), dtype=tf.float32, name=\"features\"),\n",
    "             tf.TensorSpec(shape=(1), dtype=tf.float32, name=\"labels\")))\n",
    "    )\n",
    "##END_SOLUTION\n",
    "item = next(iter(dataset))\n",
    "print(colored(\"Features shape:\", \"blue\"), item[0].shape)\n",
    "print(colored(\"Labels shape:\", \"blue\"), item[1].shape)"
   ]
  },
  {
   "cell_type": "markdown",
   "metadata": {},
   "source": [
    "2) przygotowanie danych\n",
    "\n",
    "* podział na paczki\n",
    "* modyfikacja zawartości danych z użyciem `dataset.map(...)`.\n",
    "* przygotowanie odpowiedniej liczby przykładów\n",
    "* buforowanie\n"
   ]
  },
  {
   "cell_type": "code",
   "execution_count": 88,
   "metadata": {},
   "outputs": [
    {
     "name": "stdout",
     "output_type": "stream",
     "text": [
      "\u001b[34mFeatures shape:\u001b[0m (64, 3)\n",
      "\u001b[34mLabels shape:\u001b[0m (64, 1)\n"
     ]
    },
    {
     "name": "stderr",
     "output_type": "stream",
     "text": [
      "2024-05-15 13:11:12.282639: W tensorflow/core/kernels/data/cache_dataset_ops.cc:858] The calling iterator did not fully read the dataset being cached. In order to avoid unexpected truncation of the dataset, the partially cached contents of the dataset  will be discarded. This can happen if you have an input pipeline similar to `dataset.cache().take(k).repeat()`. You should use `dataset.take(k).cache().repeat()` instead.\n"
     ]
    }
   ],
   "source": [
    "#BEGIN_SOLUTION\n",
    "nStepsPerEpoch = 4096\n",
    "batchSize = 64\n",
    "dataset_train = dataset.batch(batchSize).map(func).take(nStepsPerEpoch).cache()\n",
    "#END_SOLUTION\n",
    "\n",
    "item = next(iter(dataset_train))\n",
    "print(colored(\"Features shape:\", \"blue\"), item[0].shape)\n",
    "print(colored(\"Labels shape:\", \"blue\"), item[1].shape)"
   ]
  },
  {
   "cell_type": "markdown",
   "metadata": {},
   "source": [
    "3) definicja modelu"
   ]
  },
  {
   "cell_type": "code",
   "execution_count": 99,
   "metadata": {
    "editable": true,
    "slideshow": {
     "slide_type": "slide"
    },
    "tags": []
   },
   "outputs": [
    {
     "data": {
      "text/html": [
       "<pre style=\"white-space:pre;overflow-x:auto;line-height:normal;font-family:Menlo,'DejaVu Sans Mono',consolas,'Courier New',monospace\"><span style=\"font-weight: bold\">Model: \"DNN\"</span>\n",
       "</pre>\n"
      ],
      "text/plain": [
       "\u001b[1mModel: \"DNN\"\u001b[0m\n"
      ]
     },
     "metadata": {},
     "output_type": "display_data"
    },
    {
     "data": {
      "text/html": [
       "<pre style=\"white-space:pre;overflow-x:auto;line-height:normal;font-family:Menlo,'DejaVu Sans Mono',consolas,'Courier New',monospace\">┏━━━━━━━━━━━━━━━━━━━━━━━━━━━━━━━━━┳━━━━━━━━━━━━━━━━━━━━━━━━┳━━━━━━━━━━━━━━━┓\n",
       "┃<span style=\"font-weight: bold\"> Layer (type)                    </span>┃<span style=\"font-weight: bold\"> Output Shape           </span>┃<span style=\"font-weight: bold\">       Param # </span>┃\n",
       "┡━━━━━━━━━━━━━━━━━━━━━━━━━━━━━━━━━╇━━━━━━━━━━━━━━━━━━━━━━━━╇━━━━━━━━━━━━━━━┩\n",
       "│ features (<span style=\"color: #0087ff; text-decoration-color: #0087ff\">InputLayer</span>)           │ (<span style=\"color: #00d7ff; text-decoration-color: #00d7ff\">None</span>, <span style=\"color: #00af00; text-decoration-color: #00af00\">3</span>)              │             <span style=\"color: #00af00; text-decoration-color: #00af00\">0</span> │\n",
       "├─────────────────────────────────┼────────────────────────┼───────────────┤\n",
       "│ output (<span style=\"color: #0087ff; text-decoration-color: #0087ff\">Dense</span>)                  │ (<span style=\"color: #00d7ff; text-decoration-color: #00d7ff\">None</span>, <span style=\"color: #00af00; text-decoration-color: #00af00\">1</span>)              │             <span style=\"color: #00af00; text-decoration-color: #00af00\">4</span> │\n",
       "└─────────────────────────────────┴────────────────────────┴───────────────┘\n",
       "</pre>\n"
      ],
      "text/plain": [
       "┏━━━━━━━━━━━━━━━━━━━━━━━━━━━━━━━━━┳━━━━━━━━━━━━━━━━━━━━━━━━┳━━━━━━━━━━━━━━━┓\n",
       "┃\u001b[1m \u001b[0m\u001b[1mLayer (type)                   \u001b[0m\u001b[1m \u001b[0m┃\u001b[1m \u001b[0m\u001b[1mOutput Shape          \u001b[0m\u001b[1m \u001b[0m┃\u001b[1m \u001b[0m\u001b[1m      Param #\u001b[0m\u001b[1m \u001b[0m┃\n",
       "┡━━━━━━━━━━━━━━━━━━━━━━━━━━━━━━━━━╇━━━━━━━━━━━━━━━━━━━━━━━━╇━━━━━━━━━━━━━━━┩\n",
       "│ features (\u001b[38;5;33mInputLayer\u001b[0m)           │ (\u001b[38;5;45mNone\u001b[0m, \u001b[38;5;34m3\u001b[0m)              │             \u001b[38;5;34m0\u001b[0m │\n",
       "├─────────────────────────────────┼────────────────────────┼───────────────┤\n",
       "│ output (\u001b[38;5;33mDense\u001b[0m)                  │ (\u001b[38;5;45mNone\u001b[0m, \u001b[38;5;34m1\u001b[0m)              │             \u001b[38;5;34m4\u001b[0m │\n",
       "└─────────────────────────────────┴────────────────────────┴───────────────┘\n"
      ]
     },
     "metadata": {},
     "output_type": "display_data"
    },
    {
     "data": {
      "text/html": [
       "<pre style=\"white-space:pre;overflow-x:auto;line-height:normal;font-family:Menlo,'DejaVu Sans Mono',consolas,'Courier New',monospace\"><span style=\"font-weight: bold\"> Total params: </span><span style=\"color: #00af00; text-decoration-color: #00af00\">4</span> (16.00 B)\n",
       "</pre>\n"
      ],
      "text/plain": [
       "\u001b[1m Total params: \u001b[0m\u001b[38;5;34m4\u001b[0m (16.00 B)\n"
      ]
     },
     "metadata": {},
     "output_type": "display_data"
    },
    {
     "data": {
      "text/html": [
       "<pre style=\"white-space:pre;overflow-x:auto;line-height:normal;font-family:Menlo,'DejaVu Sans Mono',consolas,'Courier New',monospace\"><span style=\"font-weight: bold\"> Trainable params: </span><span style=\"color: #00af00; text-decoration-color: #00af00\">4</span> (16.00 B)\n",
       "</pre>\n"
      ],
      "text/plain": [
       "\u001b[1m Trainable params: \u001b[0m\u001b[38;5;34m4\u001b[0m (16.00 B)\n"
      ]
     },
     "metadata": {},
     "output_type": "display_data"
    },
    {
     "data": {
      "text/html": [
       "<pre style=\"white-space:pre;overflow-x:auto;line-height:normal;font-family:Menlo,'DejaVu Sans Mono',consolas,'Courier New',monospace\"><span style=\"font-weight: bold\"> Non-trainable params: </span><span style=\"color: #00af00; text-decoration-color: #00af00\">0</span> (0.00 B)\n",
       "</pre>\n"
      ],
      "text/plain": [
       "\u001b[1m Non-trainable params: \u001b[0m\u001b[38;5;34m0\u001b[0m (0.00 B)\n"
      ]
     },
     "metadata": {},
     "output_type": "display_data"
    }
   ],
   "source": [
    "#BEGIN_SOLUTION\n",
    "def getModel(inputShape, nNeurons, hiddenActivation=\"relu\", outputActivation=\"linear\", nOutputNeurons=1):\n",
    "   \n",
    "    inputs = tf.keras.Input(shape=inputShape, name=\"features\")\n",
    "    x = inputs\n",
    "    \n",
    "    for iLayer, n in enumerate(nNeurons):\n",
    "        x = tf.keras.layers.Dense(n, activation=hiddenActivation, \n",
    "                                  kernel_initializer='glorot_uniform',\n",
    "                                  bias_initializer=tf.keras.initializers.RandomUniform(minval=-1, maxval=1),\n",
    "                                  kernel_regularizer=tf.keras.regularizers.L2(l2=0.001),\n",
    "                                  name=\"layer_\"+str(iLayer))(x)\n",
    "                \n",
    "    outputs = tf.keras.layers.Dense(nOutputNeurons, activation=outputActivation, name = \"output\")(x)   \n",
    "    model = tf.keras.Model(inputs=inputs, outputs=outputs, name=\"DNN\")\n",
    "    return model\n",
    "\n",
    "model = getModel(inputShape=(nFeatures,), nNeurons = np.array([]), \n",
    "                 hiddenActivation=\"relu\", \n",
    "                 outputActivation=\"linear\", \n",
    "                 nOutputNeurons=1)\n",
    "#END_SOLUTION\n",
    "model.summary()"
   ]
  },
  {
   "cell_type": "markdown",
   "metadata": {},
   "source": [
    "4) trening ze wszystkimi standardowymi elementami:\n",
    "* harmonogram współczynnika uczenia\n",
    "* wczesne zatrzymanie\n",
    "* wykres zmiany funkcji straty"
   ]
  },
  {
   "cell_type": "code",
   "execution_count": 100,
   "metadata": {},
   "outputs": [
    {
     "name": "stdout",
     "output_type": "stream",
     "text": [
      "Epoch 1/15\n",
      "\u001b[1m3840/3840\u001b[0m \u001b[32m━━━━━━━━━━━━━━━━━━━━\u001b[0m\u001b[37m\u001b[0m \u001b[1m2s\u001b[0m 436us/step - loss: 0.0158 - val_loss: 4.4506e-18\n",
      "Epoch 2/15\n",
      "\u001b[1m 120/3840\u001b[0m \u001b[37m━━━━━━━━━━━━━━━━━━━━\u001b[0m \u001b[1m1s\u001b[0m 421us/step - loss: 9.1907e-18"
     ]
    },
    {
     "name": "stderr",
     "output_type": "stream",
     "text": [
      "2024-05-15 13:18:26.568563: W tensorflow/core/framework/local_rendezvous.cc:404] Local rendezvous is aborting with status: OUT_OF_RANGE: End of sequence\n",
      "\t [[{{node IteratorGetNext}}]]\n",
      "2024-05-15 13:18:26.700278: W tensorflow/core/framework/local_rendezvous.cc:404] Local rendezvous is aborting with status: OUT_OF_RANGE: End of sequence\n",
      "\t [[{{node IteratorGetNext}}]]\n"
     ]
    },
    {
     "name": "stdout",
     "output_type": "stream",
     "text": [
      "\u001b[1m3840/3840\u001b[0m \u001b[32m━━━━━━━━━━━━━━━━━━━━\u001b[0m\u001b[37m\u001b[0m \u001b[1m2s\u001b[0m 399us/step - loss: 7.4627e-18 - val_loss: 1.5314e-17\n",
      "Epoch 3/15\n",
      "\u001b[1m 273/3840\u001b[0m \u001b[32m━\u001b[0m\u001b[37m━━━━━━━━━━━━━━━━━━━\u001b[0m \u001b[1m1s\u001b[0m 370us/step - loss: 8.3810e-04"
     ]
    },
    {
     "name": "stderr",
     "output_type": "stream",
     "text": [
      "2024-05-15 13:18:28.146465: W tensorflow/core/framework/local_rendezvous.cc:404] Local rendezvous is aborting with status: OUT_OF_RANGE: End of sequence\n",
      "\t [[{{node IteratorGetNext}}]]\n",
      "2024-05-15 13:18:28.236436: W tensorflow/core/framework/local_rendezvous.cc:404] Local rendezvous is aborting with status: OUT_OF_RANGE: End of sequence\n",
      "\t [[{{node IteratorGetNext}}]]\n"
     ]
    },
    {
     "name": "stdout",
     "output_type": "stream",
     "text": [
      "\u001b[1m3840/3840\u001b[0m \u001b[32m━━━━━━━━━━━━━━━━━━━━\u001b[0m\u001b[37m\u001b[0m \u001b[1m2s\u001b[0m 405us/step - loss: 1.4147e-04 - val_loss: 4.5398e-18\n",
      "Epoch 4/15\n",
      "\u001b[1m 253/3840\u001b[0m \u001b[32m━\u001b[0m\u001b[37m━━━━━━━━━━━━━━━━━━━\u001b[0m \u001b[1m1s\u001b[0m 399us/step - loss: 1.1290e-17"
     ]
    },
    {
     "name": "stderr",
     "output_type": "stream",
     "text": [
      "2024-05-15 13:18:29.705549: W tensorflow/core/framework/local_rendezvous.cc:404] Local rendezvous is aborting with status: OUT_OF_RANGE: End of sequence\n",
      "\t [[{{node IteratorGetNext}}]]\n",
      "2024-05-15 13:18:29.794088: W tensorflow/core/framework/local_rendezvous.cc:404] Local rendezvous is aborting with status: OUT_OF_RANGE: End of sequence\n",
      "\t [[{{node IteratorGetNext}}]]\n"
     ]
    },
    {
     "name": "stdout",
     "output_type": "stream",
     "text": [
      "\u001b[1m3840/3840\u001b[0m \u001b[32m━━━━━━━━━━━━━━━━━━━━\u001b[0m\u001b[37m\u001b[0m \u001b[1m2s\u001b[0m 406us/step - loss: 4.6367e-05 - val_loss: 4.4478e-18\n",
      "Epoch 5/15\n",
      "\u001b[1m 276/3840\u001b[0m \u001b[32m━\u001b[0m\u001b[37m━━━━━━━━━━━━━━━━━━━\u001b[0m \u001b[1m1s\u001b[0m 365us/step - loss: 9.2833e-18"
     ]
    },
    {
     "name": "stderr",
     "output_type": "stream",
     "text": [
      "2024-05-15 13:18:31.270530: W tensorflow/core/framework/local_rendezvous.cc:404] Local rendezvous is aborting with status: OUT_OF_RANGE: End of sequence\n",
      "\t [[{{node IteratorGetNext}}]]\n",
      "2024-05-15 13:18:31.357260: W tensorflow/core/framework/local_rendezvous.cc:404] Local rendezvous is aborting with status: OUT_OF_RANGE: End of sequence\n",
      "\t [[{{node IteratorGetNext}}]]\n"
     ]
    },
    {
     "name": "stdout",
     "output_type": "stream",
     "text": [
      "\u001b[1m3840/3840\u001b[0m \u001b[32m━━━━━━━━━━━━━━━━━━━━\u001b[0m\u001b[37m\u001b[0m \u001b[1m2s\u001b[0m 411us/step - loss: 2.5215e-05 - val_loss: 4.4424e-18\n",
      "Epoch 6/15\n",
      "\u001b[1m 119/3840\u001b[0m \u001b[37m━━━━━━━━━━━━━━━━━━━━\u001b[0m \u001b[1m1s\u001b[0m 426us/step - loss: 1.0785e-17"
     ]
    },
    {
     "name": "stderr",
     "output_type": "stream",
     "text": [
      "2024-05-15 13:18:32.843527: W tensorflow/core/framework/local_rendezvous.cc:404] Local rendezvous is aborting with status: OUT_OF_RANGE: End of sequence\n",
      "\t [[{{node IteratorGetNext}}]]\n",
      "2024-05-15 13:18:32.938310: W tensorflow/core/framework/local_rendezvous.cc:404] Local rendezvous is aborting with status: OUT_OF_RANGE: End of sequence\n",
      "\t [[{{node IteratorGetNext}}]]\n"
     ]
    },
    {
     "name": "stdout",
     "output_type": "stream",
     "text": [
      "\u001b[1m3840/3840\u001b[0m \u001b[32m━━━━━━━━━━━━━━━━━━━━\u001b[0m\u001b[37m\u001b[0m \u001b[1m2s\u001b[0m 438us/step - loss: 3.5790e-05 - val_loss: 4.5392e-18\n",
      "Epoch 7/15\n",
      "\u001b[1m 119/3840\u001b[0m \u001b[37m━━━━━━━━━━━━━━━━━━━━\u001b[0m \u001b[1m1s\u001b[0m 424us/step - loss: 1.0935e-17"
     ]
    },
    {
     "name": "stderr",
     "output_type": "stream",
     "text": [
      "2024-05-15 13:18:34.520742: W tensorflow/core/framework/local_rendezvous.cc:404] Local rendezvous is aborting with status: OUT_OF_RANGE: End of sequence\n",
      "\t [[{{node IteratorGetNext}}]]\n",
      "2024-05-15 13:18:34.622736: W tensorflow/core/framework/local_rendezvous.cc:404] Local rendezvous is aborting with status: OUT_OF_RANGE: End of sequence\n",
      "\t [[{{node IteratorGetNext}}]]\n"
     ]
    },
    {
     "name": "stdout",
     "output_type": "stream",
     "text": [
      "\u001b[1m3840/3840\u001b[0m \u001b[32m━━━━━━━━━━━━━━━━━━━━\u001b[0m\u001b[37m\u001b[0m \u001b[1m2s\u001b[0m 414us/step - loss: 1.9521e-05 - val_loss: 4.4425e-18\n",
      "Epoch 8/15\n",
      "\u001b[1m 236/3840\u001b[0m \u001b[32m━\u001b[0m\u001b[37m━━━━━━━━━━━━━━━━━━━\u001b[0m \u001b[1m1s\u001b[0m 429us/step - loss: 8.7638e-18"
     ]
    },
    {
     "name": "stderr",
     "output_type": "stream",
     "text": [
      "2024-05-15 13:18:36.126187: W tensorflow/core/framework/local_rendezvous.cc:404] Local rendezvous is aborting with status: OUT_OF_RANGE: End of sequence\n",
      "\t [[{{node IteratorGetNext}}]]\n",
      "2024-05-15 13:18:36.215692: W tensorflow/core/framework/local_rendezvous.cc:404] Local rendezvous is aborting with status: OUT_OF_RANGE: End of sequence\n",
      "\t [[{{node IteratorGetNext}}]]\n"
     ]
    },
    {
     "name": "stdout",
     "output_type": "stream",
     "text": [
      "\u001b[1m3840/3840\u001b[0m \u001b[32m━━━━━━━━━━━━━━━━━━━━\u001b[0m\u001b[37m\u001b[0m \u001b[1m2s\u001b[0m 422us/step - loss: 1.3477e-05 - val_loss: 5.3873e-18\n",
      "Epoch 9/15\n",
      "\u001b[1m 259/3840\u001b[0m \u001b[32m━\u001b[0m\u001b[37m━━━━━━━━━━━━━━━━━━━\u001b[0m \u001b[1m1s\u001b[0m 389us/step - loss: 8.0762e-18"
     ]
    },
    {
     "name": "stderr",
     "output_type": "stream",
     "text": [
      "2024-05-15 13:18:37.750559: W tensorflow/core/framework/local_rendezvous.cc:404] Local rendezvous is aborting with status: OUT_OF_RANGE: End of sequence\n",
      "\t [[{{node IteratorGetNext}}]]\n",
      "2024-05-15 13:18:37.840037: W tensorflow/core/framework/local_rendezvous.cc:404] Local rendezvous is aborting with status: OUT_OF_RANGE: End of sequence\n",
      "\t [[{{node IteratorGetNext}}]]\n"
     ]
    },
    {
     "name": "stdout",
     "output_type": "stream",
     "text": [
      "\u001b[1m3840/3840\u001b[0m \u001b[32m━━━━━━━━━━━━━━━━━━━━\u001b[0m\u001b[37m\u001b[0m \u001b[1m2s\u001b[0m 415us/step - loss: 1.5167e-05 - val_loss: 5.3880e-18\n",
      "Epoch 10/15\n",
      "\u001b[1m 133/3840\u001b[0m \u001b[37m━━━━━━━━━━━━━━━━━━━━\u001b[0m \u001b[1m1s\u001b[0m 381us/step - loss: 1.0617e-17"
     ]
    },
    {
     "name": "stderr",
     "output_type": "stream",
     "text": [
      "2024-05-15 13:18:39.341315: W tensorflow/core/framework/local_rendezvous.cc:404] Local rendezvous is aborting with status: OUT_OF_RANGE: End of sequence\n",
      "\t [[{{node IteratorGetNext}}]]\n",
      "2024-05-15 13:18:39.436733: W tensorflow/core/framework/local_rendezvous.cc:404] Local rendezvous is aborting with status: OUT_OF_RANGE: End of sequence\n",
      "\t [[{{node IteratorGetNext}}]]\n"
     ]
    },
    {
     "name": "stdout",
     "output_type": "stream",
     "text": [
      "\u001b[1m3840/3840\u001b[0m \u001b[32m━━━━━━━━━━━━━━━━━━━━\u001b[0m\u001b[37m\u001b[0m \u001b[1m2s\u001b[0m 422us/step - loss: 1.7624e-05 - val_loss: 4.4425e-18\n",
      "Epoch 10: early stopping\n",
      "\u001b[1m16/16\u001b[0m \u001b[32m━━━━━━━━━━━━━━━━━━━━\u001b[0m\u001b[37m\u001b[0m \u001b[1m0s\u001b[0m 906us/step - loss: 6.1704e-19\n"
     ]
    },
    {
     "name": "stderr",
     "output_type": "stream",
     "text": [
      "2024-05-15 13:18:40.971607: W tensorflow/core/framework/local_rendezvous.cc:404] Local rendezvous is aborting with status: OUT_OF_RANGE: End of sequence\n",
      "\t [[{{node IteratorGetNext}}]]\n",
      "2024-05-15 13:18:41.059230: W tensorflow/core/framework/local_rendezvous.cc:404] Local rendezvous is aborting with status: OUT_OF_RANGE: End of sequence\n",
      "\t [[{{node IteratorGetNext}}]]\n",
      "2024-05-15 13:18:41.083990: W tensorflow/core/framework/local_rendezvous.cc:404] Local rendezvous is aborting with status: OUT_OF_RANGE: End of sequence\n",
      "\t [[{{node IteratorGetNext}}]]\n"
     ]
    },
    {
     "name": "stdout",
     "output_type": "stream",
     "text": [
      "\u001b[34mModel weights:\u001b[0m\n",
      "\u001b[34moutput:\u001b[0m [1. 1. 1.]\n"
     ]
    },
    {
     "data": {
      "image/png": "[encoded data removed]",
      "text/plain": [
       "<Figure size 700x300 with 2 Axes>"
      ]
     },
     "metadata": {},
     "output_type": "display_data"
    }
   ],
   "source": [
    "#BEGIN_SOLUTION\n",
    "nEpochs = 15\n",
    "\n",
    "initial_learning_rate = 5E-2\n",
    "lr_schedule = tf.keras.optimizers.schedules.ExponentialDecay(initial_learning_rate,\n",
    "                decay_steps=nStepsPerEpoch*3,\n",
    "                decay_rate=0.95,\n",
    "                staircase=True)\n",
    "\n",
    "model.compile(optimizer=tf.keras.optimizers.Adam(learning_rate=lr_schedule),\n",
    "            #loss=tf.keras.losses.MeanAbsolutePercentageError(),\n",
    "            loss=\"mse\",\n",
    "            metrics=[])\n",
    "\n",
    "early_stop_callback = tf.keras.callbacks.EarlyStopping(monitor='val_loss', patience=5, verbose=1)\n",
    "callbacks = [early_stop_callback]\n",
    "    \n",
    "history = model.fit(dataset_train.skip(batchSize*4),\n",
    "                    epochs=nEpochs, \n",
    "                    validation_data=dataset_train.take(batchSize*4),\n",
    "                    callbacks=callbacks,\n",
    "                    verbose=1)\n",
    "\n",
    "model.evaluate(dataset_train.take(16))\n",
    "plf.plotTrainHistory(history)\n",
    "\n",
    "print(colored(\"Model weights:\",\"blue\"))\n",
    "print(colored(\"output:\",\"blue\"), model.get_layer('output').weights[0].numpy()[:,0])\n",
    "#END_SOLUTION\n",
    "pass\n"
   ]
  },
  {
   "cell_type": "markdown",
   "metadata": {},
   "source": [
    "5) oszacowanie wydajności modelu na danych testowych"
   ]
  },
  {
   "cell_type": "code",
   "execution_count": 101,
   "metadata": {},
   "outputs": [
    {
     "name": "stdout",
     "output_type": "stream",
     "text": [
      "\u001b[1m16/16\u001b[0m \u001b[32m━━━━━━━━━━━━━━━━━━━━\u001b[0m\u001b[37m\u001b[0m \u001b[1m2s\u001b[0m 124ms/step\n"
     ]
    },
    {
     "name": "stderr",
     "output_type": "stream",
     "text": [
      "2024-05-15 13:18:48.212836: W tensorflow/core/framework/local_rendezvous.cc:404] Local rendezvous is aborting with status: OUT_OF_RANGE: End of sequence\n"
     ]
    },
    {
     "name": "stdout",
     "output_type": "stream",
     "text": [
      "\u001b[34mFraction of examples with abs(pull)<0.01:\u001b[0m 0.01\n",
      "\u001b[34mPull standard deviation:\u001b[0m 6.37\n"
     ]
    },
    {
     "name": "stderr",
     "output_type": "stream",
     "text": [
      "2024-05-15 13:18:50.352184: W tensorflow/core/framework/local_rendezvous.cc:404] Local rendezvous is aborting with status: OUT_OF_RANGE: End of sequence\n"
     ]
    }
   ],
   "source": [
    "#BEGIN_SOLUTION\n",
    "dataset_test = dataset.batch(128).map(func).take(16)\n",
    "y_pred = model.predict(dataset_test)\n",
    "y = np.array([y.numpy() for x,y in dataset_test.unbatch()])\n",
    "\n",
    "pull = (y_pred - y)/y\n",
    "pull = pull.flatten()\n",
    "threshold = 1E-2\n",
    "\n",
    "print(colored(\"Fraction of examples with abs(pull)<0.01:\",\"blue\"),\"{:3.2f}\".format(np.mean(np.abs(pull)<threshold)))\n",
    "print(colored(\"Pull standard deviation:\",\"blue\"),\"{:3.2f}\".format(pull.std()))\n",
    "#END_SOLUTION\n",
    "pass"
   ]
  },
  {
   "cell_type": "markdown",
   "metadata": {
    "editable": true,
    "slideshow": {
     "slide_type": "slide"
    },
    "tags": []
   },
   "source": [
    "**Proszę:**\n",
    "\n",
    "* rozwiązać problem z różnicą wyników na zbiorach treningowym i testowym\n",
    "* narysować histogram różnicy względnej:\n",
    "\n",
    "$$\n",
    "{\\huge\n",
    "\\mathrm{pull} = \\frac{\\mathrm{model} - \\mathrm{true}}{\\mathrm{true}}\n",
    "}\n",
    "$$"
   ]
  },
  {
   "cell_type": "code",
   "execution_count": 102,
   "metadata": {
    "editable": true,
    "slideshow": {
     "slide_type": "slide"
    },
    "tags": []
   },
   "outputs": [
    {
     "name": "stdout",
     "output_type": "stream",
     "text": [
      "\u001b[1m32/32\u001b[0m \u001b[32m━━━━━━━━━━━━━━━━━━━━\u001b[0m\u001b[37m\u001b[0m \u001b[1m3s\u001b[0m 104ms/step\n"
     ]
    },
    {
     "name": "stderr",
     "output_type": "stream",
     "text": [
      "2024-05-15 13:18:57.420388: W tensorflow/core/framework/local_rendezvous.cc:404] Local rendezvous is aborting with status: OUT_OF_RANGE: End of sequence\n"
     ]
    },
    {
     "name": "stdout",
     "output_type": "stream",
     "text": [
      "\u001b[1m32/32\u001b[0m \u001b[32m━━━━━━━━━━━━━━━━━━━━\u001b[0m\u001b[37m\u001b[0m \u001b[1m0s\u001b[0m 671us/step - loss: 1.7580e-17\n",
      "\u001b[34mFraction of examples with abs(pull)<0.01:\u001b[0m 1.0000\n",
      "\u001b[34mPull standard deviation:\u001b[0m 0.0000\n"
     ]
    },
    {
     "name": "stderr",
     "output_type": "stream",
     "text": [
      "2024-05-15 13:18:57.988736: W tensorflow/core/framework/local_rendezvous.cc:404] Local rendezvous is aborting with status: OUT_OF_RANGE: End of sequence\n",
      "2024-05-15 13:18:58.054196: W tensorflow/core/framework/local_rendezvous.cc:404] Local rendezvous is aborting with status: OUT_OF_RANGE: End of sequence\n",
      "\t [[{{node IteratorGetNext}}]]\n"
     ]
    },
    {
     "data": {
      "image/png": "[encoded data removed]",
      "text/plain": [
       "<Figure size 500x500 with 1 Axes>"
      ]
     },
     "metadata": {},
     "output_type": "display_data"
    }
   ],
   "source": [
    "#BEGIN_SOLUTION\n",
    "dataset_test = dataset.batch(128).map(func).take(32).cache()\n",
    "y_pred = model.predict(dataset_test)\n",
    "y = np.array([y.numpy() for x,y in dataset_test.unbatch()])\n",
    "\n",
    "pull = (y_pred - y)/y\n",
    "pull = pull.flatten()\n",
    "threshold = 1E-2\n",
    "\n",
    "fig, axis = plt.subplots(1,1, figsize=(5, 5))\n",
    "axis.hist(pull, bins=100, range=(-0.01, 0.01), color='b', alpha=0.7, label='Pull');\n",
    "axis.set_xlabel(r'$\\frac{model-true}{true}$')\n",
    "axis.set_ylabel('Counts')\n",
    "model.evaluate(dataset_test)\n",
    "print(colored(\"Fraction of examples with abs(pull)<0.01:\",\"blue\"),\"{:3.4f}\".format(np.mean(np.abs(pull)<threshold)))\n",
    "print(colored(\"Pull standard deviation:\",\"blue\"),\"{:3.4f}\".format(pull.std()))\n",
    "#END_SOLUTION\n",
    "pass"
   ]
  },
  {
   "cell_type": "markdown",
   "metadata": {
    "editable": true,
    "slideshow": {
     "slide_type": "slide"
    },
    "tags": []
   },
   "source": [
    "## Zbiory danych w TensorFlow datasets\n",
    "\n",
    "Środowisko TensorFlow dostarcza wygodnego iterfejsu użytkownika do dostępu do publicznych zbiorów danych (podobnie jak inne pakiety):\n",
    "[TensorFlow Datasets](https://www.tensorflow.org/datasets).\n"
   ]
  },
  {
   "cell_type": "code",
   "execution_count": 103,
   "metadata": {
    "editable": true,
    "slideshow": {
     "slide_type": "slide"
    },
    "tags": []
   },
   "outputs": [
    {
     "name": "stderr",
     "output_type": "stream",
     "text": [
      "2024-05-15 13:19:03.070439: W external/local_tsl/tsl/platform/cloud/google_auth_provider.cc:184] All attempts to get a Google authentication bearer token failed, returning an empty token. Retrieving token from files failed with \"NOT_FOUND: Could not locate the credentials file.\". Retrieving token from GCE failed with \"FAILED_PRECONDITION: Error executing an HTTP request: libcurl code 6 meaning 'Couldn't resolve host name', error details: Could not resolve host: metadata.google.internal\".\n"
     ]
    },
    {
     "name": "stdout",
     "output_type": "stream",
     "text": [
      "\u001b[34mFeatures shape:\u001b[0m (16, 28, 28, 1)\n",
      "\u001b[34mLabels shape:\u001b[0m (16,)\n"
     ]
    },
    {
     "name": "stderr",
     "output_type": "stream",
     "text": [
      "2024-05-15 13:19:04.379672: W tensorflow/core/kernels/data/cache_dataset_ops.cc:858] The calling iterator did not fully read the dataset being cached. In order to avoid unexpected truncation of the dataset, the partially cached contents of the dataset  will be discarded. This can happen if you have an input pipeline similar to `dataset.cache().take(k).repeat()`. You should use `dataset.take(k).cache().repeat()` instead.\n"
     ]
    }
   ],
   "source": [
    "import tensorflow_datasets as tfds\n",
    "\n",
    "#Create a dataset builder object\n",
    "mnist_builder = tfds.builder('mnist')\n",
    "\n",
    "#Download the dataset as a dictionary of tf.data.Datasets\n",
    "data_dir = \"../data/tensorflow_datasets/\"\n",
    "\n",
    "datasets, ds_info = tfds.load(\"mnist\", \n",
    "                              data_dir = data_dir,\n",
    "                              with_info=True)\n",
    "\n",
    "#Download the dataset as a tuple of tf.data.Datasets\n",
    "#datasets, ds_info = tfds.load(\"mnist\", as_supervised=True, with_info=True)\n",
    "\n",
    "# Load data from disk as tf.data.Datasets\n",
    "train_dataset, test_dataset = datasets['train'], datasets['test']\n",
    "\n",
    "# Fetch the first batch of the dataset\n",
    "item = next(iter(train_dataset.batch(16)))\n",
    "\n",
    "print(colored(\"Features shape:\", \"blue\"), item['image'].shape)\n",
    "print(colored(\"Labels shape:\", \"blue\"), item['label'].shape)"
   ]
  },
  {
   "cell_type": "markdown",
   "metadata": {
    "editable": true,
    "slideshow": {
     "slide_type": "slide"
    },
    "tags": []
   },
   "source": [
    "Biblioteka `tensorflow_datasets` dostarcza użytecznej funkcji do testu  wydajności wczytytywania zbioru danych:\n",
    "\n",
    "```Python\n",
    "tfds.benchmark(train_dataset, # Obiekt który dostarcza interfejsu iteratora\n",
    "                batch_size)   # Liczba służąca do normalizacji liczby wczytanych przykładów. \n",
    "                              # Podział na paczki trzeba ustawić na zbiorze explicite.\n",
    "```"
   ]
  },
  {
   "cell_type": "markdown",
   "metadata": {
    "editable": true,
    "slideshow": {
     "slide_type": "slide"
    },
    "tags": []
   },
   "source": [
    "**Proszę:**\n",
    "\n",
    "* uruchomić dwukrotnie test wydajności na zbiorze MNIST wczytanym z użyciem modułu `tensorflow_datasets` dla paczki o rozmiarze `32`"
   ]
  },
  {
   "cell_type": "code",
   "execution_count": 104,
   "metadata": {
    "editable": true,
    "slideshow": {
     "slide_type": "fragment"
    },
    "tags": []
   },
   "outputs": [
    {
     "name": "stdout",
     "output_type": "stream",
     "text": [
      "\n",
      "************ Summary ************\n",
      "\n"
     ]
    },
    {
     "data": {
      "application/vnd.jupyter.widget-view+json": {
       "model_id": "3a915b7ebaee4fba904fb62c16a7a858",
       "version_major": 2,
       "version_minor": 0
      },
      "text/plain": [
       "  0%|          | 0/1875 [00:00<?, ?it/s]"
      ]
     },
     "metadata": {},
     "output_type": "display_data"
    },
    {
     "name": "stdout",
     "output_type": "stream",
     "text": [
      "Examples/sec (First included) 96795.86 ex/sec (total: 60032 ex, 0.62 sec)\n",
      "Examples/sec (First only) 880.10 ex/sec (total: 32 ex, 0.04 sec)\n",
      "Examples/sec (First excluded) 102769.22 ex/sec (total: 60000 ex, 0.58 sec)\n",
      "\n",
      "************ Summary ************\n",
      "\n"
     ]
    },
    {
     "name": "stderr",
     "output_type": "stream",
     "text": [
      "2024-05-15 13:19:11.497395: W tensorflow/core/framework/local_rendezvous.cc:404] Local rendezvous is aborting with status: OUT_OF_RANGE: End of sequence\n"
     ]
    },
    {
     "data": {
      "application/vnd.jupyter.widget-view+json": {
       "model_id": "605662abe19747e6a1070049a7cc1f73",
       "version_major": 2,
       "version_minor": 0
      },
      "text/plain": [
       "  0%|          | 0/1875 [00:00<?, ?it/s]"
      ]
     },
     "metadata": {},
     "output_type": "display_data"
    },
    {
     "name": "stdout",
     "output_type": "stream",
     "text": [
      "Examples/sec (First included) 249074.51 ex/sec (total: 60032 ex, 0.24 sec)\n",
      "Examples/sec (First only) 2389.31 ex/sec (total: 32 ex, 0.01 sec)\n",
      "Examples/sec (First excluded) 263588.79 ex/sec (total: 60000 ex, 0.23 sec)\n"
     ]
    },
    {
     "name": "stderr",
     "output_type": "stream",
     "text": [
      "2024-05-15 13:19:11.740081: W tensorflow/core/framework/local_rendezvous.cc:404] Local rendezvous is aborting with status: OUT_OF_RANGE: End of sequence\n"
     ]
    }
   ],
   "source": [
    "#BEGIN_SOLUTION\n",
    "batchSize = 32\n",
    "train_dataset_batched = train_dataset.batch(batchSize)\n",
    "\n",
    "tfds.benchmark(train_dataset_batched, batch_size=batchSize)\n",
    "tfds.benchmark(train_dataset_batched, batch_size=batchSize)\n",
    "#END_SOLUTION\n",
    "pass"
   ]
  },
  {
   "cell_type": "markdown",
   "metadata": {
    "editable": true,
    "slideshow": {
     "slide_type": "slide"
    },
    "tags": []
   },
   "source": [
    "Funkcja `tfds.show_examples(...)` pozwala na szybkie wyświetlenie przykładów z podanego zbioru.\n",
    "\n",
    "**Uwaga:** funkcja wymaga obiektu `dataset_info.DatasetInfo`"
   ]
  },
  {
   "cell_type": "code",
   "execution_count": 105,
   "metadata": {
    "editable": true,
    "slideshow": {
     "slide_type": "fragment"
    },
    "tags": []
   },
   "outputs": [
    {
     "name": "stderr",
     "output_type": "stream",
     "text": [
      "2024-05-15 13:19:13.701518: W tensorflow/core/framework/local_rendezvous.cc:404] Local rendezvous is aborting with status: OUT_OF_RANGE: End of sequence\n"
     ]
    },
    {
     "data": {
      "image/png": "[encoded data removed]",
      "text/plain": [
       "<Figure size 600x600 with 4 Axes>"
      ]
     },
     "metadata": {},
     "output_type": "display_data"
    }
   ],
   "source": [
    "fig = tfds.show_examples(train_dataset, ds_info, rows=2, cols=2)"
   ]
  },
  {
   "cell_type": "markdown",
   "metadata": {
    "editable": true,
    "slideshow": {
     "slide_type": "slide"
    },
    "tags": []
   },
   "source": [
    "# Zadanie domowe\n",
    "\n",
    "**Proszę:**\n",
    "\n",
    "* napisać funkcję `load_wksf_dataset(filePath)` wczytującą i wstępnie przetwarzającą  zbiór fragmentów tekstow w języku [polskim](https://drive.google.com/drive/folders/18vDJPEZd2C6_-TualBIhsR5zmbhDA00D?usp=drive_link) pochodzący ze [Wzbogaconego korpusu słownika frekwencyjnego polszczyzny współczesnej](https://clarin-pl.eu/dspace/handle/11321/715)\n",
    "* funkcja powinna wykonywać następujące kroki:\n",
    "  * wczytywanie wszystkich plików w katalogu podanym jako `filePath` do obiektu `tf.data.Dataset` \n",
    "  * przetwarzanie powstałego obiekty `tf.data.Dataset` by usunąć:\n",
    "    * informację o źródle cytatu\n",
    "    * odnośniki w tekście\n",
    "    * fragmenty typu `[/]` \n",
    "\n",
    "* funkcję należy umieścić w pliku `text_functions.py`\n",
    " * uruchomić komórkę poniżej\n",
    " \n",
    "**Wskazówka:**\n",
    "* mozna użyć funkcji `tf.strings.regex_full_match(...)` oraz `tf.strings.regex_replace(...)` do filtrowania linii lub zastępowania\n",
    "  fragmentów napisów\n",
    "  "
   ]
  },
  {
   "cell_type": "code",
   "execution_count": 106,
   "metadata": {
    "editable": true,
    "slideshow": {
     "slide_type": ""
    },
    "tags": []
   },
   "outputs": [
    {
     "name": "stdout",
     "output_type": "stream",
     "text": [
      "\u001b[34mReading text from files:\u001b[0m ['../data/wksf/Korpus_surowy/a-publi.txt', '../data/wksf/Korpus_surowy/b-prasa.txt', '../data/wksf/Korpus_surowy/d-proza.txt', '../data/wksf/Korpus_surowy/e-dramat.txt', '../data/wksf/Korpus_surowy/c-popul.txt']\n",
      "\u001b[34mItem:\u001b[0m Sztuka utraciła swoją moc pobudzającą: przykrym widowiskiem staje się koncert wybitnej niegdyś śpiewaczki i nie uświetnią go nawet nigdy dotąd nie wykonywane utwory genialnego kompozytora. Słuchacze myślą o czym innym, rozmawiają o czym innym i śpiewaczka, postarzawszy się, głos straciła. Nie było dotąd takich koncertów u Iwaszkiewicza[/].\n",
      "\u001b[34mItem:\u001b[0m Stosunek tych dwóch rodzajów mieszczan układa się tak, że solidny obywatel uważa egzystencję poety czy malarza za mocno wątpliwą, podejrzaną: ten zaś rewanżuje się pogardą i krytycznym stanowiskiem wobec „nieartystycznego” przedstawiciela klasy, z której sam wyszedł (ta wzajemna nieufność i niechęć zaznacza się już zresztą w [„]Buddenbrookach[”] porównaj postać Gerdy[/]).\n",
      "\u001b[34mItem:\u001b[0m Wzrasta w stosunku do całej puli eksportowej eksport drewna najwyższych gatunków i przetworów (meble, płyty pilśniowe), maleje eksport drewna surowca, natomiast rośnie import gatunków tanich, a w Polsce[/] deficytowych. Tendencja zdrowa. Inwestycje w przemyśle towarzyszącym gospodarce leśnej są poważne.\n",
      "\u001b[34mItem:\u001b[0m Pisze się o literaturze jako kolekcji nazwisk albo prądów artystycznych. Bywa to wszystko słuszne, piękne, ale jest zawsze „tradycjonalne” albo „idylliczne”. Książka Szewczyka[/] pomija pokusy przejrzystego wykładu akademickiego. Ale jest pierwsza, jaką dziś czytam, o politycznym dramacie literatury. Oglądanym nie poprzez przypadki wyjątkowe i kliniczne, ale w jej sytuacji powszedniej.\n",
      "\u001b[34mItem:\u001b[0m Przecież pamiętam tę twarz widzianą na tle zamierzonych sukcesów w walce z biurokracją, lenistwem, niechęcią, znieczulicą. Przewodniczący robił odprawy, gromił, sam rozprowadzał petentów po różnych wydziałach i pokojach, najeżdżał terenowe ogniwa, wydawał okólniki, korygował, pouczał - po każdej takiej fali natchnienia jego twarz wydawała mi się wzniosła i oczyszczona.\n"
     ]
    },
    {
     "name": "stderr",
     "output_type": "stream",
     "text": [
      "2024-05-15 13:19:17.197129: W tensorflow/core/framework/local_rendezvous.cc:404] Local rendezvous is aborting with status: OUT_OF_RANGE: End of sequence\n"
     ]
    }
   ],
   "source": [
    "import text_functions as txtfunc\n",
    "importlib.reload(txtfunc)\n",
    "\n",
    "filePath = \"../data/wksf/Korpus_surowy/\"\n",
    "dataset = txtfunc.load_wksf_dataset(filePath)\n",
    "\n",
    "for item in dataset.take(5):\n",
    "    print(colored(\"Item:\",\"blue\"), end=\" \")\n",
    "    print(item.numpy().decode(\"utf-8\"))\n"
   ]
  },
  {
   "cell_type": "code",
   "execution_count": null,
   "metadata": {},
   "outputs": [],
   "source": []
  }
 ],
 "metadata": {
  "colab": {
   "collapsed_sections": [],
   "name": "01_Pakiety_numpy_pandas.ipynb",
   "provenance": [
    {
     "file_id": "0BzwQ_Lscn8yDWnZVeHU1MjluWFU",
     "timestamp": 1546856440599
    }
   ]
  },
  "kernelspec": {
   "display_name": "Python 3 (ipykernel)",
   "language": "python",
   "name": "python3"
  },
  "language_info": {
   "codemirror_mode": {
    "name": "ipython",
    "version": 3
   },
   "file_extension": ".py",
   "mimetype": "text/x-python",
   "name": "python",
   "nbconvert_exporter": "python",
   "pygments_lexer": "ipython3",
   "version": "3.11.0rc1"
  },
  "rise": {
   "center": false,
   "controls": false,
   "footer": "<h3>Letnia Szkoła<br>Fizyki 2023</h3>",
   "header": "<h1>Hello</h1>",
   "progress": "true",
   "slideNumber": "c/t",
   "transition": "none"
  }
 },
 "nbformat": 4,
 "nbformat_minor": 4
}
