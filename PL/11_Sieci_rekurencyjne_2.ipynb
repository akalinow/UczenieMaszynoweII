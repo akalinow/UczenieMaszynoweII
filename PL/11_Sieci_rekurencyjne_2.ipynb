{
 "cells": [
  {
   "cell_type": "markdown",
   "metadata": {
    "editable": true,
    "slideshow": {
     "slide_type": "skip"
    },
    "tags": []
   },
   "source": [
    "## Inicjalizacja środowiska programistycznego"
   ]
  },
  {
   "cell_type": "code",
   "execution_count": null,
   "metadata": {
    "editable": true,
    "slideshow": {
     "slide_type": "skip"
    },
    "tags": []
   },
   "outputs": [],
   "source": [
    "#Color printing\n",
    "from termcolor import colored\n",
    "\n",
    "#General data operations library\n",
    "import math, string, glob\n",
    "from datetime import datetime\n",
    "import numpy as np\n",
    "import functools\n",
    "\n",
    "#The tensorflow library\n",
    "import os\n",
    "os.environ[\"TF_CPP_MIN_LOG_LEVEL\"] = \"1\"\n",
    "\n",
    "import tensorflow  as tf\n",
    "import tensorflow_datasets as tfds\n",
    "import tensorflow_text as tf_text\n",
    "\n",
    "import logging\n",
    "tf.get_logger().setLevel(logging.ERROR)\n",
    "\n",
    "#Plotting libraries\n",
    "import matplotlib as mpl\n",
    "import matplotlib.pyplot as plt\n",
    "\n",
    "#Increase plots font size\n",
    "params = {'legend.fontsize': 'xx-large',\n",
    "          'figure.figsize': (10, 7),\n",
    "         'axes.labelsize': 'xx-large',\n",
    "         'axes.titlesize':'xx-large',\n",
    "         'xtick.labelsize':'xx-large',\n",
    "         'ytick.labelsize':'xx-large'}\n",
    "plt.rcParams.update(params) \n",
    "\n",
    "import os\n",
    "os.chdir(\"/scratch_hdd/akalinow/Zajecia/2023-2024/Lato/Uczenie_maszynowe_2/UczenieMaszynoweII/PL/\")\n",
    "\n",
    "#append path with python modules\n",
    "import importlib\n",
    "import sys\n",
    "sys.path.append(\"../modules\")\n",
    "\n",
    "#Private functions\n",
    "import plotting_functions as plf\n",
    "importlib.reload(plf);\n",
    "\n",
    "#Hide GPU\n",
    "#tf.config.set_visible_devices([], 'GPU')"
   ]
  },
  {
   "cell_type": "markdown",
   "metadata": {
    "editable": true,
    "slideshow": {
     "slide_type": "slide"
    },
    "tags": []
   },
   "source": [
    "<br/><br/>\n",
    "<br/><br/>\n",
    "\n",
    "<h1 align=\"center\">\n",
    " Uczenie maszynowe II\n",
    "</h1>\n",
    "\n",
    "<br/><br/>\n",
    "<br/><br/>\n",
    "<br/><br/>\n",
    "<br/><br/>\n",
    "\n",
    "<h1 align=\"right\">\n",
    "Artur Kalinowski <br>\n",
    "Uniwersytet Warszawski <br>\n",
    "Wydział Fizyki <br>    \n",
    "</h1>"
   ]
  },
  {
   "cell_type": "markdown",
   "metadata": {
    "editable": true,
    "slideshow": {
     "slide_type": "slide"
    },
    "tags": []
   },
   "source": [
    "## Rowery Kraków\n",
    "\n",
    "**Zagadnienie:** przewidzieć liczbę rowerzystów na wybranej ulicy Krakowa na podstawie zliczeń z `window_size-1` poprzednich dni."
   ]
  },
  {
   "cell_type": "markdown",
   "metadata": {
    "editable": true,
    "slideshow": {
     "slide_type": "slide"
    },
    "tags": []
   },
   "source": [
    "**Proszę:**\n",
    "\n",
    "* pobrać dane używając komórki poniżej\n",
    "* wypisać na ekran podsumowanie danych "
   ]
  },
  {
   "cell_type": "code",
   "execution_count": null,
   "metadata": {
    "editable": true,
    "slideshow": {
     "slide_type": "slide"
    },
    "tags": []
   },
   "outputs": [],
   "source": [
    "import pandas as pd\n",
    "\n",
    "file_url = 'https://docs.google.com/spreadsheets/d/e/2PACX-1vTWNYLoE3k3JegSt47hV66v5j7_Vh8jIdLRUhcMLrIAW4VcIZK-3W9rGoDSfnToUnCIb9DPngGAlgL6/pub?gid=0&single=true&output=csv'\n",
    "df = pd.read_csv(file_url)\n",
    "\n",
    "df = pd.read_csv(file_url, sep=\",\",parse_dates=[0])\n",
    "df = df.rename(columns={' ' : \"Data\"})\n",
    "df = df.fillna(0)\n",
    "#BEGIN_SOLUTION\n",
    "print(df.describe())\n",
    "#END_SOLUTION\n",
    "pass"
   ]
  },
  {
   "cell_type": "markdown",
   "metadata": {
    "editable": true,
    "slideshow": {
     "slide_type": "slide"
    },
    "tags": []
   },
   "source": [
    "**Proszę:**\n",
    "\n",
    "* zidentyfikowac dwie ulice o największym średnim natężeniu ruchu\n",
    "* zachować nazwy tych ulic w zmiennych `train_street` i `val_street`"
   ]
  },
  {
   "cell_type": "code",
   "execution_count": null,
   "metadata": {
    "editable": true,
    "slideshow": {
     "slide_type": "slide"
    },
    "tags": []
   },
   "outputs": [],
   "source": [
    "#BEGIN_SOLUTION\n",
    "train_street = \"Mogilska\"\n",
    "val_street = \"Kotlarska\"\n",
    "#END_SOLUTION\n",
    "pass"
   ]
  },
  {
   "cell_type": "markdown",
   "metadata": {
    "editable": true,
    "slideshow": {
     "slide_type": "slide"
    },
    "tags": []
   },
   "source": [
    "**Proszę:**\n",
    "\n",
    "* dla obu ulic, na oddzielnych panelach, narysować zliczenia rowerzystów w funkcji daty"
   ]
  },
  {
   "cell_type": "code",
   "execution_count": null,
   "metadata": {
    "editable": true,
    "slideshow": {
     "slide_type": "slide"
    },
    "tags": []
   },
   "outputs": [],
   "source": [
    "#BEGIN_SOLUTION\n",
    "fig, axes = plt.subplots(1,2, figsize=(15,4))\n",
    "\n",
    "axes[0].plot(df[\"Data\"], df[train_street], 'o', label=train_street);\n",
    "axes[1].plot(df[\"Data\"], df[val_street], 'go', label=val_street);\n",
    "axes[0].legend()\n",
    "axes[1].legend()\n",
    "plt.subplots_adjust(bottom=0.02, left=0.02, right=0.98, wspace=0.15)\n",
    "#END_SOLUTION\n",
    "pass\n"
   ]
  },
  {
   "cell_type": "markdown",
   "metadata": {
    "editable": true,
    "slideshow": {
     "slide_type": "slide"
    },
    "tags": []
   },
   "source": [
    "**Proszę:**\n",
    "\n",
    "* przygotować zbiory `train_dataset` i `val_dataset` zawierające dane z odpowiednich ulic\n",
    "* znormalizować zliczenia czynnikiem `1/10_1000`\n",
    "* przetworzyć zbiory do postaci ciągów zliczeń z `window_size` dni.\n",
    "* ustawić kształt wierszy w danych na `(window_size, 1)`\n",
    "* podzielić wiersze na `etykiety`: zliczenia z ostatniego dnia i `cechy`: zliczenia z wcześniejszych `window_size-1` dni\n",
    "* podzielić zbiór na paczki o rozmiarze `16` i zachować go w pamięci podręcznej\n",
    "* wypisać na ekran cztery przykłady ze zbioru treningowego\n",
    "\n",
    "**Wskazówka:**\n",
    "* macierz danych z kolumny zbioru pandas można wyłuskać jako `df.values`\n",
    "* macierze importujemy do `tf.data.Dataset` używając metody `from_tensor_slices(...)`"
   ]
  },
  {
   "cell_type": "code",
   "execution_count": null,
   "metadata": {
    "editable": true,
    "slideshow": {
     "slide_type": "slide"
    },
    "tags": []
   },
   "outputs": [],
   "source": [
    "window_size = 11\n",
    "scale = 10_000\n",
    "inputDim = 1\n",
    "\n",
    "train_dataset = tf.data.Dataset.from_tensor_slices(slidingWindowWithWidth(df[train_street].values/scale))\n",
    "#BEGIN_SOLUTION\n",
    "slidingWindowWithWidth = functools.partial(tf_text.sliding_window, width=window_size)\n",
    "train_dataset = train_dataset.map(lambda x: tf.reshape(x, (window_size, inputDim))).map(lambda y: (y[:-1,:], y[-1,:])).batch(16).cache()  \n",
    "\n",
    "val_dataset = tf.data.Dataset.from_tensor_slices(slidingWindowWithWidth(df[val_street].values/scale))\n",
    "val_dataset = val_dataset.map(lambda x: tf.reshape(x, (window_size, inputDim))).map(lambda y: (y[:-1,:], y[-1,:])).batch(16).cache()\n",
    "\n",
    "for item in train_dataset.take(4):\n",
    "    print(colored(\"Features:\",\"blue\"), item[0].numpy()[0,:,0]*scale, end=\" \")\n",
    "    print(colored(\"Labels:\",\"blue\"), item[1].numpy()[0]*scale)\n",
    "#END_SOLUTION\n",
    "pass"
   ]
  },
  {
   "cell_type": "markdown",
   "metadata": {
    "editable": true,
    "slideshow": {
     "slide_type": "slide"
    },
    "tags": []
   },
   "source": [
    "**Proszę:**\n",
    "\n",
    "* zbudować model z warstwami LSTM:\n",
    "    * warstwa LSTM, `8` neuronów, zwracająca sekwencję\n",
    "    * warstwa LSTM, `8` neuronów, zwracająca sekwencję\n",
    "    * warstwa LSTM, `8` neuronów, zwracająca tylko ostatni element sekwencji\n",
    "    * warstwa gęsta, `1` neuron\n",
    "* wypisać na ekran podsumowanie modelu    "
   ]
  },
  {
   "cell_type": "code",
   "execution_count": null,
   "metadata": {
    "editable": true,
    "slideshow": {
     "slide_type": "slide"
    },
    "tags": []
   },
   "outputs": [],
   "source": [
    "#BEGIN_SOLUTION\n",
    "model = tf.keras.Sequential(layers = [tf.keras.layers.InputLayer(shape=(None, inputDim)),\n",
    "    tf.keras.layers.LSTM(8, return_sequences=True),\n",
    "    tf.keras.layers.LSTM(8, return_sequences=True),\n",
    "    tf.keras.layers.LSTM(8),\n",
    "    tf.keras.layers.Dense(1, activation='sigmoid')],\n",
    "                         name=\"traffic_prediction\")  \n",
    "model.summary()\n",
    "#END_SOLUTION\n",
    "pass"
   ]
  },
  {
   "cell_type": "markdown",
   "metadata": {
    "editable": true,
    "slideshow": {
     "slide_type": "slide"
    },
    "tags": []
   },
   "source": [
    "**Proszę:**\n",
    "\n",
    "* przeprowadzić trening modelu przez `150` epok Trening powinien zawierać standardowe elementy:\n",
    "    * harmonogram zmiany współczynnika uczenia\n",
    "    * wywołanie wczesnego zatrzymania \n",
    "    * rysowane historii funkcji straty\n",
    "* kod trenowania zawrzeć w funkcji `trainModel(model, train_dataset, val_dataset)`\n"
   ]
  },
  {
   "cell_type": "code",
   "execution_count": null,
   "metadata": {
    "editable": true,
    "slideshow": {
     "slide_type": "slide"
    },
    "tags": []
   },
   "outputs": [],
   "source": [
    "%%time\n",
    "\n",
    "def trainModel(model, train_dataset, val_dataset):\n",
    "#BEGIN_SOLUTION\n",
    "    initial_learning_rate = 1E-3\n",
    "    nStepsPerEpoch = train_dataset.cardinality().numpy()\n",
    "    lr_schedule = tf.keras.optimizers.schedules.ExponentialDecay(initial_learning_rate,\n",
    "                    decay_steps=nStepsPerEpoch*100,\n",
    "                    decay_rate=0.95,\n",
    "                    staircase=False)\n",
    "\n",
    "    model.compile(optimizer=tf.keras.optimizers.Adam(learning_rate=lr_schedule), \n",
    "                  loss='mse', metrics=[])\n",
    "\n",
    "    early_stop_callback = tf.keras.callbacks.EarlyStopping(monitor='val_loss', patience=15, verbose=1)\n",
    "    callbacks = [early_stop_callback]              \n",
    "\n",
    "    history = model.fit(train_dataset, \n",
    "                        validation_data=val_dataset,\n",
    "                        callbacks=callbacks,\n",
    "                        epochs=150, verbose=0)\n",
    "    model.evaluate(train_dataset)\n",
    "    model.evaluate(val_dataset)\n",
    "    plf.plotTrainHistory(history)\n",
    "    return model\n",
    "#END_SOLUTION\n",
    "\n",
    "model = trainModel(model, train_dataset, val_dataset)\n"
   ]
  },
  {
   "cell_type": "markdown",
   "metadata": {
    "editable": true,
    "slideshow": {
     "slide_type": "slide"
    },
    "tags": []
   },
   "source": [
    "**Proszę:**\n",
    "\n",
    "Napisać funkcję `plotPrediction(model, df, streets, train_dataset, val_dataset, scale, window_size)`, która wykonuje rysunki kontrolne w dwue wierszach (ulice) i trzech kolumnach:\n",
    "\n",
    "* liczby zliczeń rzeczywistą i prognozowaną\n",
    "* iloraz `rzeczywista/prognozowana`\n",
    "* histogram `(rzeczywista-prognozowana)/rzeczywista` z przedziałami zadanymi przez `bins=np.linspace(-2,2,50)`\n",
    "* histogram`(rzeczywista-prognozowana)/rzeczywista` dla modelu prognozowania naiwnego: `jutro będzie tak jak dziś`\n",
    "\n",
    "**Wskazówka:**\n",
    "* zakresy dat można na wykresie można kontrolować w następujący sposób:\n",
    "```Python\n",
    "axes[index,0].set_xlim([datetime.date(2023, 3, 30), datetime.date(2023, 5, 3)]) \n",
    "axes[index,0].xaxis.set_major_locator(mdates.MonthLocator(bymonth=(1, 6)))\n",
    "axes[index,0].xaxis.set_minor_locator(mdates.MonthLocator())\n",
    "```\n",
    "* do uzyskania modelu naiwnego można użyć `np.roll()`\n"
   ]
  },
  {
   "cell_type": "code",
   "execution_count": null,
   "metadata": {
    "editable": true,
    "slideshow": {
     "slide_type": "slide"
    },
    "tags": []
   },
   "outputs": [],
   "source": [
    "def plotPrediction(model, df, streets, train_dataset, val_dataset, scale, window_size):\n",
    "\n",
    "    fig, axes = plt.subplots(2,3, figsize=(17,6))\n",
    "    import datetime\n",
    "    import matplotlib.dates as mdates\n",
    "\n",
    "    #BEGIN_SOLUTION\n",
    "    for index,street in enumerate(streets):\n",
    "        date = df[\"Data\"][window_size-1:]\n",
    "        y = df[street][window_size-1:].values\n",
    "        dataset = train_dataset\n",
    "        if index==1:\n",
    "            dataset = val_dataset\n",
    "        y_pred = model.predict(dataset)[:,0]*scale\n",
    "        y_pred_naive = np.roll(y,1)\n",
    "        ##\n",
    "        axes[index,1].set_title(street)\n",
    "        ##\n",
    "        axes[index,0].plot(date, y, 'o', label=\"true\");\n",
    "        axes[index,0].plot(date, y_pred, 'go', label=\"model\");\n",
    "        axes[index,0].legend()\n",
    "        #axes[index,0].set_xlim([datetime.date(2019, 12, 1), datetime.date(2021, 1, 31)])\n",
    "        axes[index,0].set_xlim([datetime.date(2023, 3, 30), datetime.date(2023, 5, 3)]) \n",
    "        axes[index,0].xaxis.set_major_locator(mdates.MonthLocator(bymonth=(1, 6)))\n",
    "        axes[index,0].xaxis.set_minor_locator(mdates.MonthLocator())\n",
    "        ##\n",
    "        axes[index,1].plot(date, y/y_pred, 'o', label=\"true\");\n",
    "        axes[index,1].plot([date.min(), date.max()], [1,1], 'r')\n",
    "        axes[index,1].set_xlim([datetime.date(2019, 12, 1), datetime.date(2021, 1, 31)])\n",
    "        axes[index,1].set_ylim([-2,4])\n",
    "        axes[index,1].xaxis.set_major_locator(mdates.MonthLocator(bymonth=(1, 6)))\n",
    "        axes[index,1].xaxis.set_minor_locator(mdates.MonthLocator())\n",
    "        axes[index,1].set_ylabel(\"True/Model\")\n",
    "        ##\n",
    "        counts, _, _ = axes[index,2].hist((y-y_pred)/y, bins=np.linspace(-2,2,50), label=\"RNN\")\n",
    "        axes[index,2].hist((y-y_pred_naive)/y, bins=np.linspace(-2,2,50), label=\"Naive\", alpha=0.7)\n",
    "        axes[index,2].set_xlabel(r\"$\\frac{True-Model}{True}$\")\n",
    "        pull = np.divide((y-y_pred).astype(float), y, out=np.zeros_like(y, dtype=float), where=y>0)\n",
    "        mean = np.mean(pull)\n",
    "        std = np.std(pull)\n",
    "        #draw text on plot\n",
    "        axes[index,2].text(0.5, 0.9*counts.max(), r\"RNN: $\\mu: {:3.2f}, \\sigma: {:3.2f}$\".format(mean, std))\n",
    "        pull = np.divide((y-y_pred_naive), y, out=np.zeros_like(y, dtype=float), where=y>0)\n",
    "        mean = np.mean(pull)\n",
    "        std = np.std(pull)\n",
    "        axes[index,2].text(0.5, 0.8*counts.max(), r\"Naive: $\\mu: {:3.2f}, \\sigma: {:3.2f}$\".format(mean, std))\n",
    "        ##\n",
    "        if \"Suma opadu dzień  [mm]\" in df.columns:\n",
    "            ax2 = axes[index,0].twinx()\n",
    "            ax2.plot(date, df[\"Suma opadu dzień  [mm]\"][window_size-1:], 'or', label=\"opady\");  \n",
    "            ax2.tick_params(axis='y', labelcolor=\"r\")\n",
    "        if index>1:\n",
    "            break\n",
    "    ##\n",
    "    plt.subplots_adjust(bottom=0.02, left=0.02, right=0.98, wspace=0.25, hspace=0.4)\n",
    "    #END_SOLUTION\n",
    "\n",
    "plotPrediction(model, \n",
    "               df, [train_street, val_street], \n",
    "               train_dataset, val_dataset,\n",
    "               scale, window_size=window_size)"
   ]
  },
  {
   "cell_type": "markdown",
   "metadata": {},
   "source": [
    "Model RNN działa nie wiele lepiej niż model naiwny. W szczególności model nie przewiduje poprawnie nagłych spadków zliczeń - prawdopodobnie wywołanych przez złe warunki pogodowe.\n",
    "Dodajmy dane o pogodzie z danego dnia jako substytut prognozy pogody."
   ]
  },
  {
   "cell_type": "markdown",
   "metadata": {
    "editable": true,
    "slideshow": {
     "slide_type": "slide"
    },
    "tags": []
   },
   "source": [
    "Źródłem danych meteorologicznych jest Instytut Meteorologii i Gospodarki Wodnej – Państwowy Instytut Badawczy”.\n",
    "Dane o warunkach pogodowych pobierzemy z portalu [IMGW](https://danepubliczne.imgw.pl/data/dane_pomiarowo_obserwacyjne/dane_meteorologiczne/dobowe/synop/).\n",
    "Skorzystamy ze stacji Kraków-Balice."
   ]
  },
  {
   "cell_type": "code",
   "execution_count": null,
   "metadata": {
    "editable": true,
    "slideshow": {
     "slide_type": "slide"
    },
    "tags": []
   },
   "outputs": [],
   "source": [
    "#! pip3 install wget\n",
    "import wget, subprocess\n",
    "for year in range(2016, 2024):\n",
    "    url = f\"https://danepubliczne.imgw.pl/data/dane_pomiarowo_obserwacyjne/dane_meteorologiczne/dobowe/synop/{year}/{year}_566_s.zip\"\n",
    "    #wget.download(url)\n",
    "    subprocess.run([\"unzip\",\"-o\",f\"{year}_566_s.zip\"])\n",
    "    #subprocess.run([\"mv\", \"./*.csv\", \" ../data/Pogoda/\"])\n",
    "    subprocess.run([\"rm\", \"-f\", \"*.zip\"])"
   ]
  },
  {
   "cell_type": "markdown",
   "metadata": {
    "editable": true,
    "slideshow": {
     "slide_type": "slide"
    },
    "tags": []
   },
   "source": [
    "Dane załadujemy do obiektu Pandas dataframe."
   ]
  },
  {
   "cell_type": "code",
   "execution_count": 1,
   "metadata": {
    "editable": true,
    "slideshow": {
     "slide_type": "slide"
    },
    "tags": []
   },
   "outputs": [
    {
     "ename": "NameError",
     "evalue": "name 'glob' is not defined",
     "output_type": "error",
     "traceback": [
      "\u001b[0;31m---------------------------------------------------------------------------\u001b[0m",
      "\u001b[0;31mNameError\u001b[0m                                 Traceback (most recent call last)",
      "Cell \u001b[0;32mIn[1], line 17\u001b[0m\n\u001b[1;32m     14\u001b[0m     df\u001b[38;5;241m.\u001b[39mcolumns \u001b[38;5;241m=\u001b[39m columns\n\u001b[1;32m     15\u001b[0m     \u001b[38;5;28;01mreturn\u001b[39;00m df\n\u001b[0;32m---> 17\u001b[0m files \u001b[38;5;241m=\u001b[39m \u001b[43mglob\u001b[49m\u001b[38;5;241m.\u001b[39mglob(\u001b[38;5;124m\"\u001b[39m\u001b[38;5;124m../data/Pogoda/s_d_t*.csv\u001b[39m\u001b[38;5;124m\"\u001b[39m)\n\u001b[1;32m     18\u001b[0m df_pogoda \u001b[38;5;241m=\u001b[39m pd\u001b[38;5;241m.\u001b[39mconcat([makeDataFrame(file) \u001b[38;5;28;01mfor\u001b[39;00m file \u001b[38;5;129;01min\u001b[39;00m files])\n\u001b[1;32m     19\u001b[0m df_pogoda\u001b[38;5;241m.\u001b[39mdescribe()\n",
      "\u001b[0;31mNameError\u001b[0m: name 'glob' is not defined"
     ]
    }
   ],
   "source": [
    "import pandas as pd\n",
    "\n",
    "def makeDataFrame(filePath):\n",
    "    columns = [\"Data\",\"zachmurzenie\", \n",
    "               \"prędkość wiatru [m/s]\", \"temperatura [°C]\",\n",
    "               \"ciśnienie pary wodnej [hPa]\", \"wilgotność względna [%]\",             \n",
    "                \"ciśnienie na poziomie stacji [hPa]\", \"ciśnienie na poziomie morza [hPa]\",      \n",
    "                \"Suma opadu dzień  [mm]\",\"Suma opadu noc   [mm]\"]    \n",
    "#BEGIN_SOLUTION\n",
    "    df = pd.read_csv(filePath,header=None,\n",
    "                     sep=\",\", usecols = np.arange(2, 22),\n",
    "                     parse_dates=[[2,3,4]], \n",
    "                     encoding='Latin1').dropna(axis=1)\n",
    "    df.columns = columns\n",
    "#END_SOLUTION    \n",
    "    return df\n",
    "\n",
    "#BEGIN_SOLUTION\n",
    "files = glob.glob(\"../data/Pogoda/s_d_t*.csv\")\n",
    "df_pogoda = pd.concat([makeDataFrame(file) for file in files])\n",
    "#END_SOLUTION\n",
    "df_pogoda.describe()"
   ]
  },
  {
   "cell_type": "markdown",
   "metadata": {
    "editable": true,
    "slideshow": {
     "slide_type": "slide"
    },
    "tags": []
   },
   "source": [
    "Połączymy obiekty dataframe z danymi o zliczeniach i pogodzie. Dla obu zbiorów ustawiamy datę jako indeks - dzięki temu zapewnimy synchronizację wiersze między oboma zbiorami."
   ]
  },
  {
   "cell_type": "code",
   "execution_count": null,
   "metadata": {
    "editable": true,
    "slideshow": {
     "slide_type": "slide"
    },
    "tags": []
   },
   "outputs": [],
   "source": [
    "#BEGIN_SOLUTION\n",
    "#set date as a index\n",
    "df.index = df[\"Data\"]\n",
    "df_pogoda.index = df_pogoda[\"Data\"]\n",
    "\n",
    "#drop index columns from weather df to avoid duplication\n",
    "df_pogoda.drop(columns=[\"Data\"], inplace=True)\n",
    "\n",
    "#merge two dataframes. Only common dates are kept\n",
    "df_merged = df.join(df_pogoda, how=\"inner\")\n",
    "#END_SOLUTION\n",
    "df_merged.describe()"
   ]
  },
  {
   "cell_type": "markdown",
   "metadata": {
    "editable": true,
    "slideshow": {
     "slide_type": "slide"
    },
    "tags": []
   },
   "source": [
    "**Proszę:**\n",
    "\n",
    "Napisać funkcję `prepareDataset(df, street, window_size=11, scale=10_000)` która przygotowuje obiekt `tf.data.Dataset` z danymi i zliczeniach i pogodzie:\n",
    "\n",
    "* wczytuje dane z macierzy numpy uzyskanej z pandas DataFrame do `tf.data.Dataset`\n",
    "* dzieli dane na okna o długości `window_size`\n",
    "* dzieli wiersz danych na krotkę `((sekwencja zliczeń dla 11 dni, dane pogodowe dla danego dnia), zliczenia dla danego dnia)`\n",
    "\n",
    "**Wskazówki:**\n",
    "\n",
    "* jako dane wejściowe mozna podać \n",
    "```Python\n",
    "columns = [street, \"Suma opadu dzień  [mm]\", \"temperatura [°C]\", \"prędkość wiatru [m/s]\"]\n",
    "```\n",
    "\n",
    "* wszystkie dane wejściowe można podzielić na sekwencje o długości `window_size`, a potem z tej sekwencji wydzielić\n",
    "  odpowiednie fragmenty. To o oznacza, że teraz sekwencja ma `inputDim = len(columns)` i trzeba z niej wydzielić dane\n",
    "  o zliczeniach dla odpowiednich dni, etykietę i dane pogodowe\n",
    "\n",
    "  Oczekiwany efekt dla paczki o rozmiarze 1:\n",
    "  ```Python\n",
    "  Features: (<tf.Tensor: shape=(1, 10, 1), dtype=float64, numpy=\n",
    "  array([[[0.0907],\n",
    "        [0.0438],\n",
    "        [0.0549],\n",
    "        [0.1501],\n",
    "        [0.1626],\n",
    "        [0.1555],\n",
    "        [0.127 ],\n",
    "        [0.0906],\n",
    "        [0.0385],\n",
    "        [0.0246]]])>, <tf.Tensor: shape=(1, 3), dtype=float64, numpy=array([[ 0.3, -0.7,  5.8]])>) Labels: [0.0804]\n",
    "  ```"
   ]
  },
  {
   "cell_type": "code",
   "execution_count": null,
   "metadata": {
    "editable": true,
    "slideshow": {
     "slide_type": "slide"
    },
    "tags": []
   },
   "outputs": [],
   "source": [
    "def prepareDataset(df, street, window_size=11, trafficScale=10_000):\n",
    "    #BEGIN_SOLUTION\n",
    "    columns = [street, \"Suma opadu dzień  [mm]\", \"temperatura [°C]\", \"prędkość wiatru [m/s]\"]\n",
    "    sequenceDim = 1\n",
    "\n",
    "    slidingWindowWithWidth = functools.partial(tf_text.sliding_window, width=window_size, axis=0)\n",
    "\n",
    "    def features_label_split(dataRow):\n",
    "        return (tf.reshape(dataRow[:-1,0]/trafficScale, (window_size-1, sequenceDim)), dataRow[-1,1:]), dataRow[-1,0]/trafficScale\n",
    "\n",
    "    dataset = tf.data.Dataset.from_tensor_slices(slidingWindowWithWidth(df[columns].values))\n",
    "    dataset = dataset.map(features_label_split).batch(16).cache()\n",
    "    #END_SOLUTION\n",
    "    return dataset\n",
    "\n",
    "window_size = 11\n",
    "train_dataset = prepareDataset(df_merged, train_street, window_size=window_size)\n",
    "val_dataset = prepareDataset(df_merged, val_street, window_size=window_size)\n",
    "item = next(iter(train_dataset))\n",
    "print(colored(\"Features:\",\"blue\"), item[0])\n",
    "print(colored(\"Labels:\",\"blue\"), item[1].numpy())"
   ]
  },
  {
   "cell_type": "markdown",
   "metadata": {
    "editable": true,
    "slideshow": {
     "slide_type": "slide"
    },
    "tags": []
   },
   "source": [
    "**Proszę:**\n",
    "\n",
    "* wywołać funkcję `prepareDataset(...)` z takimi parametrami by można było łatwo sprawdzić czy dane pogodowe są dobrze zsynchronizowane,\n",
    "  tzn. dane o pogodzie pochodzą z dnia dla którego model ma przewidzieć zliczenia\n",
    "\n",
    "* porównać wartości dla pierwszego przykładu w obiekcie `pandas.DataFrame` z odpowiednim przykładem z  `tf.data.Dataset` i sprawdzić czy ten ostatni jest dobrze zsynchronizowany"
   ]
  },
  {
   "cell_type": "code",
   "execution_count": null,
   "metadata": {
    "editable": true,
    "slideshow": {
     "slide_type": "slide"
    },
    "tags": []
   },
   "outputs": [],
   "source": [
    "#BEGIN_SOLUTION\n",
    "window_size = 2\n",
    "x = prepareDataset(df_merged, train_street, trafficScale=1, window_size=window_size)\n",
    "item = next(iter(x))\n",
    "print(colored(\"Features:\",\"blue\"), item[0])\n",
    "print(colored(\"Labels:\",\"blue\"), item[1].numpy())\n",
    "\n",
    "#Print first 5 rows of the dataset to check if the TF and Pandas dataframes are aligned\n",
    "df_merged[[\"Suma opadu dzień  [mm]\", \"temperatura [°C]\", \"prędkość wiatru [m/s]\", train_street]].head()\n",
    "#END_SOLUTION"
   ]
  },
  {
   "cell_type": "markdown",
   "metadata": {
    "editable": true,
    "slideshow": {
     "slide_type": "slide"
    },
    "tags": []
   },
   "source": [
    "## Model nie sekwencyjny\n",
    "\n",
    "Skonstruujemy model, który składa się z dwu gałęzi:\n",
    "* sewkencje zliczeń\n",
    "* dane pogodowe\n",
    "\n",
    "Dwie sekwencje łączą się w pewnym momencie i wchodzą do standardowego bloku w pełni połączonego:"
   ]
  },
  {
   "attachments": {
    "e50a6244-4179-4ee8-b18c-c2bae36e4350.png": {
     "image/png": "[encoded data removed]"
    }
   },
   "cell_type": "markdown",
   "metadata": {
    "editable": true,
    "slideshow": {
     "slide_type": "slide"
    },
    "tags": []
   },
   "source": [
    "![image.png](attachment:e50a6244-4179-4ee8-b18c-c2bae36e4350.png)"
   ]
  },
  {
   "cell_type": "code",
   "execution_count": null,
   "metadata": {
    "editable": true,
    "slideshow": {
     "slide_type": "slide"
    },
    "tags": []
   },
   "outputs": [],
   "source": [
    "#create input from counts\n",
    "countsInputDim = 1\n",
    "counts_input = tf.keras.Input(shape=(None,inputDim))\n",
    "\n",
    "#create input from weather conditions\n",
    "weatherInputDim = 3\n",
    "weather_input = tf.keras.Input(shape=(weatherInputDim,))"
   ]
  },
  {
   "cell_type": "code",
   "execution_count": null,
   "metadata": {
    "editable": true,
    "slideshow": {
     "slide_type": "slide"
    },
    "tags": []
   },
   "outputs": [],
   "source": [
    "#create LSTM blocks\n",
    "sequence_analyzer = tf.keras.Sequential(layers = [tf.keras.layers.InputLayer(shape=(None, countsInputDim)),\n",
    "    tf.keras.layers.LSTM(16, return_sequences=True),\n",
    "    tf.keras.layers.LSTM(16, return_sequences=True),\n",
    "    tf.keras.layers.LSTM(16),\n",
    "    tf.keras.layers.Dense(1, activation='sigmoid')],\n",
    "                         name=\"sequence_analyzer\")\n",
    "\n",
    "#pass counts throught LSTM blocks\n",
    "sequence_result = sequence_analyzer(counts_input)"
   ]
  },
  {
   "cell_type": "code",
   "execution_count": null,
   "metadata": {
    "editable": true,
    "slideshow": {
     "slide_type": "slide"
    },
    "tags": []
   },
   "outputs": [],
   "source": [
    "#merge counts and weather data\n",
    "merged_input = tf.keras.layers.Concatenate()([sequence_result, weather_input])\n",
    "\n",
    "#create a FCC block\n",
    "merged_analyzer = tf.keras.Sequential(layers = [tf.keras.layers.InputLayer(shape=(merged_input.shape[-1],)),\n",
    "                                                 #tf.keras.layers.Normalization(),\n",
    "                                                 tf.keras.layers.Dense(16, activation='relu', kernel_regularizer=tf.keras.regularizers.l2(0.01)),\n",
    "                                                 tf.keras.layers.Dense(16, activation='relu', kernel_regularizer=tf.keras.regularizers.l2(0.01)),\n",
    "                                                 tf.keras.layers.Dense(16, activation='relu', kernel_regularizer=tf.keras.regularizers.l2(0.01)),\n",
    "                                                 tf.keras.layers.Dense(16, activation='relu', kernel_regularizer=tf.keras.regularizers.l2(0.01)),\n",
    "                                                 tf.keras.layers.Dense(1, activation='sigmoid')],\n",
    "                                                 name=\"merged_analyzer\")"
   ]
  },
  {
   "cell_type": "code",
   "execution_count": null,
   "metadata": {
    "editable": true,
    "slideshow": {
     "slide_type": "slide"
    },
    "tags": []
   },
   "outputs": [],
   "source": [
    "#pass merged data through dense layers\n",
    "output = merged_analyzer(merged_input)\n",
    "\n",
    "tf.keras.utils.plot_model(model, 'fig_png/ML_model.png', show_shapes=True)\n",
    "#contruct a full model\n",
    "model = tf.keras.Model(inputs=(counts_input, weather_input), outputs=output, name=\"TrafficPrediction\")\n",
    "model.summary()\n",
    "\n",
    "#Run model on trainig dataset to check if it works\n",
    "model.predict(train_dataset);"
   ]
  },
  {
   "cell_type": "markdown",
   "metadata": {
    "editable": true,
    "slideshow": {
     "slide_type": "slide"
    },
    "tags": []
   },
   "source": [
    "**Proszę:**\n",
    "\n",
    "* przeprowadzić trening modelu z danymi meteorologicznymi\n",
    "* narysować rysunki kontrolne\n",
    "* porównać jakość wyniku z poprzednim modelem"
   ]
  },
  {
   "cell_type": "code",
   "execution_count": null,
   "metadata": {
    "editable": true,
    "slideshow": {
     "slide_type": "slide"
    },
    "tags": []
   },
   "outputs": [],
   "source": [
    "#BEGIN_SOLUTION\n",
    "model = trainModel(model, train_dataset, val_dataset)\n",
    "plotPrediction(model, df_merged, [train_street, val_street], scale, window_size=window_size)\n",
    "#END_SOLUTION\n",
    "pass"
   ]
  },
  {
   "cell_type": "markdown",
   "metadata": {
    "editable": true,
    "slideshow": {
     "slide_type": "slide"
    },
    "tags": []
   },
   "source": [
    "# Zadanie domowe\n",
    "\n",
    "**Proszę:**\n",
    "\n",
    "* wygenerować prognozę liczby rowerzystów na ulicy `Bulwary` dla całego roku 2023\n",
    "* narysować panel z trzema rysunkami: \n",
    "    * liczba zliczeń rzeczywista i prognozowana\n",
    "    * iloraz `rzeczywista/prognozowana`\n",
    "    * histogram `(rzeczywista-prognozowana)/rzeczywista` z przedziałami zadanymi przez `bins=np.linspace(-2,2,50)`\n"
   ]
  },
  {
   "cell_type": "code",
   "execution_count": null,
   "metadata": {},
   "outputs": [],
   "source": [
    "test_street = \"Bulwary\"\n",
    "df = df[df[\"Data\"]<\"2024-01-01\"]\n",
    "df_filtered = df[df[\"Data\"]<\"2023-01-01\"]\n",
    "\n",
    "test_dataset = tf.data.Dataset.from_tensor_slices(slidingWindowWithWidth(df_filtered[test_street].values/scale))\n",
    "test_dataset = test_dataset.map(lambda x: tf.reshape(x, (window_size, 1))).map(lambda y: (y[:-1,:], y[-1,:])).batch(16).cache()\n",
    "\n",
    "y = df[test_street][window_size-1:]\n",
    "y_pred = model.predict(test_dataset)[:,0]*scale\n",
    "\n",
    "for iDay in range(0, 150):\n",
    "    input = y_pred[-window_size+1:].reshape(1,window_size-1,1)/scale\n",
    "    prediction = model.predict(input, verbose=0)[0,0]*scale\n",
    "    prediction += tf.random.normal([1], mean=0, stddev=np.sqrt(prediction))\n",
    "    y_pred = np.append(y_pred, model.predict(input, verbose=0)[0,0]*scale)\n",
    "\n",
    "plt.plot(y_pred[-250:], 'go')"
   ]
  },
  {
   "cell_type": "code",
   "execution_count": null,
   "metadata": {},
   "outputs": [],
   "source": [
    "fig, axes = plt.subplots(1,3, figsize=(17,6))\n",
    "import datetime\n",
    "import matplotlib.dates as mdates\n",
    "#BEGIN_SOLUTION\n",
    "date = df[\"Data\"][window_size-1:]\n",
    "y = df[test_street][window_size-1:]\n",
    "##\n",
    "axes[1].set_title(test_street)\n",
    "axes[0].plot(date, y, 'o', label=\"true\");\n",
    "axes[0].plot(date, y_pred, 'go', label=\"model\");\n",
    "#plot vertical line\n",
    "axes[0].plot([datetime.date(2023, 1, 1), datetime.date(2023, 1, 1)], [0, y_pred.max()], 'r')\n",
    "axes[0].legend()\n",
    "axes[0].set_xlim([datetime.date(2021, 12, 1), datetime.date(2024, 1, 31)])\n",
    "axes[0].xaxis.set_major_locator(mdates.MonthLocator(bymonth=(1, 12)))\n",
    "axes[0].xaxis.set_minor_locator(mdates.MonthLocator())\n",
    "\n",
    "##\n",
    "axes[1].plot(date, y/y_pred, 'o', label=\"true/model\");\n",
    "axes[1].plot([date.min(), date.max()], [1,1], 'r')\n",
    "axes[1].legend()\n",
    "axes[1].set_ylim([-2,3])\n",
    "axes[1].xaxis.set_major_locator(mdates.YearLocator(2, 1))\n",
    "##\n",
    "axes[2].hist((y-y_pred)/y, label=r\"$\\frac{true-model}{true}$\", bins=np.linspace(-2,2,50));\n",
    "axes[2].legend()\n",
    "##\n",
    "plt.subplots_adjust(bottom=0.02, left=0.02, right=0.98, wspace=0.15, hspace=0.4)\n",
    "#END_SOLUTION\n",
    "pass"
   ]
  },
  {
   "cell_type": "markdown",
   "metadata": {},
   "source": []
  }
 ],
 "metadata": {
  "colab": {
   "collapsed_sections": [],
   "name": "01_Pakiety_numpy_pandas.ipynb",
   "provenance": [
    {
     "file_id": "0BzwQ_Lscn8yDWnZVeHU1MjluWFU",
     "timestamp": 1546856440599
    }
   ]
  },
  "kernelspec": {
   "display_name": "Python 3 (ipykernel)",
   "language": "python",
   "name": "python3"
  },
  "language_info": {
   "codemirror_mode": {
    "name": "ipython",
    "version": 3
   },
   "file_extension": ".py",
   "mimetype": "text/x-python",
   "name": "python",
   "nbconvert_exporter": "python",
   "pygments_lexer": "ipython3",
   "version": "3.11.0rc1"
  },
  "rise": {
   "center": false,
   "controls": false,
   "footer": "<h3>Letnia Szkoła<br>Fizyki 2023</h3>",
   "header": "<h1>Hello</h1>",
   "progress": "true",
   "slideNumber": "c/t",
   "transition": "none"
  }
 },
 "nbformat": 4,
 "nbformat_minor": 4
}
