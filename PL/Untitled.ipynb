{
 "cells": [
  {
   "cell_type": "code",
   "execution_count": 11,
   "id": "f13c2040-2ec9-40bf-9326-301590ad55d6",
   "metadata": {},
   "outputs": [
    {
     "data": {
      "text/plain": [
       "0.3"
      ]
     },
     "execution_count": 11,
     "metadata": {},
     "output_type": "execute_result"
    }
   ],
   "source": [
    "C8 = 0\n",
    "C9 = 0\n",
    "C10 = 3\n",
    "\n",
    "(C8*0.5/5+C9*0.2/4+C10*0.3/3)"
   ]
  },
  {
   "cell_type": "code",
   "execution_count": 8,
   "id": "1df0b103-d192-4cf2-a74c-840ce4064a80",
   "metadata": {},
   "outputs": [
    {
     "data": {
      "text/plain": [
       "4.199999999999999"
      ]
     },
     "execution_count": 8,
     "metadata": {},
     "output_type": "execute_result"
    }
   ],
   "source": [
    "5*0.5+4*0.2+3*0.3"
   ]
  },
  {
   "cell_type": "code",
   "execution_count": null,
   "id": "ecffb010-e6d3-4ee5-9be0-0e8726ecf4ec",
   "metadata": {},
   "outputs": [],
   "source": []
  }
 ],
 "metadata": {
  "kernelspec": {
   "display_name": "Python 3 (ipykernel)",
   "language": "python",
   "name": "python3"
  },
  "language_info": {
   "codemirror_mode": {
    "name": "ipython",
    "version": 3
   },
   "file_extension": ".py",
   "mimetype": "text/x-python",
   "name": "python",
   "nbconvert_exporter": "python",
   "pygments_lexer": "ipython3",
   "version": "3.11.0rc1"
  }
 },
 "nbformat": 4,
 "nbformat_minor": 5
}
